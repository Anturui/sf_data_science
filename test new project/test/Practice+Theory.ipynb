{
 "cells": [
  {
   "cell_type": "code",
   "execution_count": 1,
   "metadata": {},
   "outputs": [
    {
     "name": "stderr",
     "output_type": "stream",
     "text": [
      "C:\\Users\\Arwielao\\AppData\\Roaming\\Python\\Python310\\site-packages\\numpy\\_distributor_init.py:30: UserWarning: loaded more than 1 DLL from .libs:\n",
      "C:\\Users\\Arwielao\\AppData\\Roaming\\Python\\Python310\\site-packages\\numpy\\.libs\\libopenblas.EL2C6PLE4ZYW3ECEVIV3OXXGRN2NRFM2.gfortran-win_amd64.dll\n",
      "C:\\Users\\Arwielao\\AppData\\Roaming\\Python\\Python310\\site-packages\\numpy\\.libs\\libopenblas.FB5AE2TYXYH2IJRDKGDGQ3XBKLKTF43H.gfortran-win_amd64.dll\n",
      "  warnings.warn(\"loaded more than 1 DLL from .libs:\"\n"
     ]
    }
   ],
   "source": [
    "\n",
    "import tensorflow as tf\n",
    "\n",
    "from tensorflow import keras\n",
    "\n",
    "from tensorflow.keras import Model, Sequential, layers\n",
    "\n",
    "import numpy as np"
   ]
  },
  {
   "cell_type": "code",
   "execution_count": 2,
   "metadata": {},
   "outputs": [],
   "source": [
    "model = Sequential([\n",
    "    \n",
    "    layers.InputLayer(input_shape=(50,)),\n",
    "    \n",
    "    layers.Dense(100, 'relu'),\n",
    "    \n",
    "    layers.Dense(100, 'relu'),\n",
    "    \n",
    "    layers.Dense(10, 'softmax')\n",
    "\n",
    "])"
   ]
  },
  {
   "cell_type": "code",
   "execution_count": 3,
   "metadata": {},
   "outputs": [],
   "source": [
    "model = Sequential([\n",
    "\n",
    "    layers.Dense(100, 'relu', input_shape=(50,)),\n",
    "\n",
    "    layers.Dense(100, 'relu'),\n",
    "\n",
    "    layers.Dense(10, 'softmax')\n",
    "\n",
    "])"
   ]
  },
  {
   "cell_type": "code",
   "execution_count": 4,
   "metadata": {},
   "outputs": [
    {
     "name": "stdout",
     "output_type": "stream",
     "text": [
      "Model: \"sequential_1\"\n",
      "_________________________________________________________________\n",
      " Layer (type)                Output Shape              Param #   \n",
      "=================================================================\n",
      " dense_3 (Dense)             (None, 100)               5100      \n",
      "                                                                 \n",
      " dense_4 (Dense)             (None, 100)               10100     \n",
      "                                                                 \n",
      " dense_5 (Dense)             (None, 10)                1010      \n",
      "                                                                 \n",
      "=================================================================\n",
      "Total params: 16,210\n",
      "Trainable params: 16,210\n",
      "Non-trainable params: 0\n",
      "_________________________________________________________________\n"
     ]
    }
   ],
   "source": [
    "model.summary()"
   ]
  },
  {
   "cell_type": "code",
   "execution_count": 5,
   "metadata": {},
   "outputs": [],
   "source": [
    "batch_size = 64\n",
    "\n",
    "input_batch = np.zeros((batch_size, 50))\n",
    "\n",
    "output = model(input_batch).numpy() #получаем массив размером (64, 10)"
   ]
  },
  {
   "cell_type": "code",
   "execution_count": 6,
   "metadata": {},
   "outputs": [
    {
     "name": "stdout",
     "output_type": "stream",
     "text": [
      "[[1. 1. 1. 1. 1.]]\n",
      "[[0. 0. 0. 0. 0.]]\n"
     ]
    }
   ],
   "source": [
    "\n",
    "model = Sequential([\n",
    "\n",
    "    layers.Dropout(0.999)\n",
    "\n",
    "])\n",
    "\n",
    " \n",
    "\n",
    "print(model(np.ones((1, 5))).numpy())\n",
    "\n",
    "print(model(np.ones((1, 5)), training=True).numpy())"
   ]
  },
  {
   "cell_type": "code",
   "execution_count": 7,
   "metadata": {},
   "outputs": [],
   "source": [
    "model = Sequential([\n",
    "\n",
    "    layers.Dense(300, 'relu', input_shape=(400,)),\n",
    "\n",
    "    layers.Dense(200, 'relu'),\n",
    "\n",
    "    layers.Dense(100, 'softmax')\n",
    "\n",
    "])"
   ]
  },
  {
   "cell_type": "code",
   "execution_count": 8,
   "metadata": {},
   "outputs": [
    {
     "name": "stdout",
     "output_type": "stream",
     "text": [
      "Model: \"sequential_3\"\n",
      "_________________________________________________________________\n",
      " Layer (type)                Output Shape              Param #   \n",
      "=================================================================\n",
      " dense_6 (Dense)             (None, 300)               120300    \n",
      "                                                                 \n",
      " dense_7 (Dense)             (None, 200)               60200     \n",
      "                                                                 \n",
      " dense_8 (Dense)             (None, 100)               20100     \n",
      "                                                                 \n",
      "=================================================================\n",
      "Total params: 200,600\n",
      "Trainable params: 200,600\n",
      "Non-trainable params: 0\n",
      "_________________________________________________________________\n"
     ]
    }
   ],
   "source": [
    "model.summary()"
   ]
  },
  {
   "cell_type": "code",
   "execution_count": 9,
   "metadata": {},
   "outputs": [],
   "source": [
    "input = keras.Input(shape=(50,))\n",
    "\n",
    "output1 = layers.Dense(100, 'relu')(input)\n",
    "\n",
    "output2 = layers.Dense(100, 'relu')(output1)\n",
    "\n",
    "output3 = layers.Dense(10, 'softmax')(output2)\n",
    "\n",
    "model = Model(inputs=input, outputs=output3)"
   ]
  },
  {
   "cell_type": "code",
   "execution_count": 10,
   "metadata": {},
   "outputs": [],
   "source": [
    "input = keras.Input(shape=(50,))\n",
    "\n",
    "out1 = layers.Dense(1000, 'relu')(input)\n",
    "\n",
    "out2 = layers.Dense(1000, 'relu')(out1)\n",
    "\n",
    "out3 = layers.Dense(1)(out2)\n",
    "\n",
    "out4 = layers.Dense(1)(input)\n",
    "\n",
    "output = out3 + out4\n",
    "\n",
    "model = Model(inputs=input, outputs=output)"
   ]
  },
  {
   "cell_type": "code",
   "execution_count": 11,
   "metadata": {},
   "outputs": [],
   "source": [
    "model = Model(inputs=input, outputs=[output, out3])"
   ]
  },
  {
   "cell_type": "code",
   "execution_count": 12,
   "metadata": {},
   "outputs": [],
   "source": [
    "input = keras.Input(shape=(1000,))\n",
    "\n",
    "out1 = layers.Dense(1000, 'relu')(input)\n",
    "\n",
    "out2 = layers.Concatenate(axis=1)([input, out1])\n",
    "\n",
    "out3 = layers.Dense(1000, 'relu')(out2)\n",
    "\n",
    "out4 = layers.Concatenate(axis=1)([out2, out3])\n",
    "\n",
    "out5 = layers.Dense(1000, 'relu')(out4)\n",
    "\n",
    "out6 = layers.Concatenate(axis=1)([out4, out5])\n",
    "\n",
    "out7 = layers.Dense(1000, 'relu')(out6)\n",
    "\n",
    "out8 = layers.Concatenate(axis=1)([out6, out7])\n",
    "\n",
    "model = Model(inputs=input, outputs=out8)"
   ]
  },
  {
   "cell_type": "code",
   "execution_count": 13,
   "metadata": {},
   "outputs": [
    {
     "name": "stdout",
     "output_type": "stream",
     "text": [
      "Model: \"model_3\"\n",
      "__________________________________________________________________________________________________\n",
      " Layer (type)                   Output Shape         Param #     Connected to                     \n",
      "==================================================================================================\n",
      " input_4 (InputLayer)           [(None, 1000)]       0           []                               \n",
      "                                                                                                  \n",
      " dense_16 (Dense)               (None, 1000)         1001000     ['input_4[0][0]']                \n",
      "                                                                                                  \n",
      " concatenate (Concatenate)      (None, 2000)         0           ['input_4[0][0]',                \n",
      "                                                                  'dense_16[0][0]']               \n",
      "                                                                                                  \n",
      " dense_17 (Dense)               (None, 1000)         2001000     ['concatenate[0][0]']            \n",
      "                                                                                                  \n",
      " concatenate_1 (Concatenate)    (None, 3000)         0           ['concatenate[0][0]',            \n",
      "                                                                  'dense_17[0][0]']               \n",
      "                                                                                                  \n",
      " dense_18 (Dense)               (None, 1000)         3001000     ['concatenate_1[0][0]']          \n",
      "                                                                                                  \n",
      " concatenate_2 (Concatenate)    (None, 4000)         0           ['concatenate_1[0][0]',          \n",
      "                                                                  'dense_18[0][0]']               \n",
      "                                                                                                  \n",
      " dense_19 (Dense)               (None, 1000)         4001000     ['concatenate_2[0][0]']          \n",
      "                                                                                                  \n",
      " concatenate_3 (Concatenate)    (None, 5000)         0           ['concatenate_2[0][0]',          \n",
      "                                                                  'dense_19[0][0]']               \n",
      "                                                                                                  \n",
      "==================================================================================================\n",
      "Total params: 10,004,000\n",
      "Trainable params: 10,004,000\n",
      "Non-trainable params: 0\n",
      "__________________________________________________________________________________________________\n"
     ]
    }
   ],
   "source": [
    "model.summary()"
   ]
  },
  {
   "cell_type": "code",
   "execution_count": 14,
   "metadata": {},
   "outputs": [],
   "source": [
    "input = keras.Input(shape=(50,))\n",
    "\n",
    "branch1 = Sequential([\n",
    "\n",
    "    layers.Dense(1000, 'relu'),\n",
    "\n",
    "    layers.Dense(1000, 'relu'),\n",
    "\n",
    "    layers.Dense(1)\n",
    "\n",
    "])\n",
    "\n",
    "branch2 = layers.Dense(1)\n",
    "\n",
    "output = branch1(input) + branch2(input)\n",
    "\n",
    "model = Model(inputs=input, outputs=output)"
   ]
  },
  {
   "cell_type": "code",
   "execution_count": 15,
   "metadata": {},
   "outputs": [
    {
     "name": "stdout",
     "output_type": "stream",
     "text": [
      "Downloading data from https://storage.googleapis.com/tensorflow/keras-applications/xception/xception_weights_tf_dim_ordering_tf_kernels_notop.h5\n",
      "83683744/83683744 [==============================] - 3s 0us/step\n"
     ]
    }
   ],
   "source": [
    "\n",
    "from tensorflow.keras.applications import Xception\n",
    "\n",
    "model = Sequential([\n",
    "\n",
    "    Xception(include_top=False, input_shape=(150, 150, 3)),\n",
    "\n",
    "    layers.GlobalMaxPool2D(),\n",
    "\n",
    "    layers.Dropout(0.5),\n",
    "\n",
    "    layers.Dense(10)\n",
    "\n",
    "])"
   ]
  },
  {
   "cell_type": "code",
   "execution_count": 16,
   "metadata": {},
   "outputs": [
    {
     "name": "stdout",
     "output_type": "stream",
     "text": [
      "4\n",
      "132\n"
     ]
    }
   ],
   "source": [
    "print(len(model.layers)) #4\n",
    "\n",
    "print(len(model.layers[0].layers)) #132"
   ]
  },
  {
   "cell_type": "code",
   "execution_count": 17,
   "metadata": {},
   "outputs": [],
   "source": [
    "base_model = Xception(include_top=False, input_shape=(150, 150, 3))\n",
    "\n",
    "output = layers.GlobalMaxPool2D()(base_model.output)\n",
    "\n",
    "output = layers.Dropout(0.5)(output)\n",
    "\n",
    "output = layers.Dense(10)(output)\n",
    "\n",
    "model = Model(inputs=base_model.input, outputs=output)"
   ]
  },
  {
   "cell_type": "code",
   "execution_count": 18,
   "metadata": {},
   "outputs": [],
   "source": [
    "model = Sequential([\n",
    "\n",
    "    layers.InputLayer(400),\n",
    "\n",
    "    layers.Dense(300),\n",
    "\n",
    "    layers.Dense(200),\n",
    "\n",
    "    layers.Dense(100),\n",
    "\n",
    "])"
   ]
  },
  {
   "cell_type": "code",
   "execution_count": 19,
   "metadata": {},
   "outputs": [],
   "source": [
    "input_data = np.zeros((64, 400))\n",
    "\n",
    "l1, l2, l3 = model.layers\n",
    "\n",
    "layer2_output = l2(l1(input_data)).numpy()"
   ]
  },
  {
   "cell_type": "code",
   "execution_count": 20,
   "metadata": {},
   "outputs": [],
   "source": [
    "submodel = Model(inputs=model.input, outputs=model.layers[1].output)\n",
    "\n",
    "layer2_output = submodel(input_data).numpy()"
   ]
  },
  {
   "cell_type": "code",
   "execution_count": 21,
   "metadata": {},
   "outputs": [
    {
     "name": "stdout",
     "output_type": "stream",
     "text": [
      "WARNING:tensorflow:Compiled the loaded model, but the compiled metrics have yet to be built. `model.compile_metrics` will be empty until you train or evaluate the model.\n",
      "WARNING:tensorflow:No training configuration found in the save file, so the model was *not* compiled. Compile it manually.\n"
     ]
    }
   ],
   "source": [
    "model.save('model.h5') #сохранение\n",
    "\n",
    "model = keras.models.load_model('model.h5') #загрузка"
   ]
  },
  {
   "cell_type": "code",
   "execution_count": 22,
   "metadata": {},
   "outputs": [],
   "source": [
    "layer = model.layers[0]\n",
    "\n",
    "W, b = layer.get_weights()\n",
    "\n",
    "layer.set_weights((W, np.zeros_like(b)))"
   ]
  },
  {
   "cell_type": "code",
   "execution_count": 23,
   "metadata": {},
   "outputs": [
    {
     "name": "stdout",
     "output_type": "stream",
     "text": [
      "[]\n",
      "[(20, 100), (100,)]\n"
     ]
    }
   ],
   "source": [
    "layer = layers.Dense(100)\n",
    "\n",
    "print([x.shape for x in layer.get_weights()])\n",
    "\n",
    "layer.build((20,)) #или так: layer(np.zeros((1, 20)))\n",
    "\n",
    "print([x.shape for x in layer.get_weights()])\n"
   ]
  },
  {
   "cell_type": "code",
   "execution_count": 24,
   "metadata": {},
   "outputs": [],
   "source": [
    "base_model_1 = Xception(include_top=False, input_shape=(150, 150, 3))"
   ]
  },
  {
   "cell_type": "code",
   "execution_count": 41,
   "metadata": {},
   "outputs": [
    {
     "data": {
      "text/plain": [
       "0"
      ]
     },
     "execution_count": 41,
     "metadata": {},
     "output_type": "execute_result"
    }
   ],
   "source": [
    "np.array([]).size"
   ]
  },
  {
   "cell_type": "code",
   "execution_count": null,
   "metadata": {},
   "outputs": [],
   "source": [
    "layer_number = -1\n",
    "\n",
    "layer_numbers = []\n",
    "\n",
    "layer_count = []\n",
    "\n",
    "for layer in base_model_1.layers:\n",
    "    \n",
    "    layer_number += 1\n",
    "    \n",
    "    layer_numbers.append(layer_number)\n",
    "    \n",
    "    if layer.get_weights():\n",
    "    \n",
    "        print(layer.get_weights()[0].size)\n",
    "        \n",
    "        layer_count.append(layer.get_weights()[0].size)\n",
    "        \n",
    "    else:\n",
    "        \n",
    "        layer_count.append(0)\n",
    "\n"
   ]
  },
  {
   "cell_type": "code",
   "execution_count": 43,
   "metadata": {},
   "outputs": [],
   "source": [
    "import seaborn as sns"
   ]
  },
  {
   "cell_type": "code",
   "execution_count": 44,
   "metadata": {},
   "outputs": [
    {
     "data": {
      "text/plain": [
       "<AxesSubplot:>"
      ]
     },
     "execution_count": 44,
     "metadata": {},
     "output_type": "execute_result"
    },
    {
     "data": {
      "image/png": "[encoded data removed]",
      "text/plain": [
       "<Figure size 432x288 with 1 Axes>"
      ]
     },
     "metadata": {
      "needs_background": "light"
     },
     "output_type": "display_data"
    }
   ],
   "source": [
    "sns.lineplot(x=layer_numbers, y=layer_count)"
   ]
  },
  {
   "cell_type": "code",
   "execution_count": 45,
   "metadata": {},
   "outputs": [
    {
     "data": {
      "text/plain": [
       "<keras.layers.core.dense.Dense at 0x1830961f190>"
      ]
     },
     "execution_count": 45,
     "metadata": {},
     "output_type": "execute_result"
    }
   ],
   "source": [
    "from tensorflow.keras import layers\n",
    "\n",
    "layers.Dense(1000, activation='relu')"
   ]
  },
  {
   "cell_type": "code",
   "execution_count": 46,
   "metadata": {},
   "outputs": [
    {
     "data": {
      "text/plain": [
       "<keras.layers.core.activation.Activation at 0x18310590130>"
      ]
     },
     "execution_count": 46,
     "metadata": {},
     "output_type": "execute_result"
    }
   ],
   "source": [
    "layers.Dense(1000),\n",
    "layers.Activation('relu')"
   ]
  },
  {
   "cell_type": "code",
   "execution_count": 47,
   "metadata": {},
   "outputs": [],
   "source": [
    "model = Sequential([\n",
    "    \n",
    "    layers.Dense(100),\n",
    "    \n",
    "    layers.ReLU(),\n",
    "    \n",
    "    layers.Dense(10),\n",
    "    \n",
    "    layers.Softmax()\n",
    "    \n",
    "])\n"
   ]
  },
  {
   "cell_type": "code",
   "execution_count": 48,
   "metadata": {},
   "outputs": [
    {
     "data": {
      "text/plain": [
       "<function keras.activations.relu(x, alpha=0.0, max_value=None, threshold=0.0)>"
      ]
     },
     "execution_count": 48,
     "metadata": {},
     "output_type": "execute_result"
    }
   ],
   "source": [
    "keras.activations.get('relu')"
   ]
  },
  {
   "cell_type": "code",
   "execution_count": 49,
   "metadata": {},
   "outputs": [
    {
     "data": {
      "text/plain": [
       "<keras.layers.core.dense.Dense at 0x183106b82b0>"
      ]
     },
     "execution_count": 49,
     "metadata": {},
     "output_type": "execute_result"
    }
   ],
   "source": [
    "layers.Dense(1000, activation=keras.activations.relu)"
   ]
  },
  {
   "cell_type": "code",
   "execution_count": 50,
   "metadata": {},
   "outputs": [
    {
     "data": {
      "text/plain": [
       "<keras.layers.core.dense.Dense at 0x1830976f2e0>"
      ]
     },
     "execution_count": 50,
     "metadata": {},
     "output_type": "execute_result"
    }
   ],
   "source": [
    "layers.Dense(1000, activation=tf.nn.relu)"
   ]
  },
  {
   "cell_type": "code",
   "execution_count": 51,
   "metadata": {},
   "outputs": [],
   "source": [
    "my_activation = lambda x: tf.math.sin(x) + x\n",
    "\n",
    "l = layers.Dense(1000, activation=my_activation)"
   ]
  },
  {
   "cell_type": "code",
   "execution_count": null,
   "metadata": {},
   "outputs": [],
   "source": [
    "input = np.zeros((64, 256, 256, 3))\n",
    "\n",
    "output = input.reshape(len(input), -1)\n",
    "\n",
    "output.shape #(64, 196608)\n"
   ]
  },
  {
   "cell_type": "code",
   "execution_count": 52,
   "metadata": {},
   "outputs": [
    {
     "data": {
      "text/plain": [
       "(64, 10)"
      ]
     },
     "execution_count": 52,
     "metadata": {},
     "output_type": "execute_result"
    }
   ],
   "source": [
    "from tensorflow.keras import layers, Sequential\n",
    "\n",
    "model = Sequential([\n",
    "    \n",
    "    layers.Flatten(),\n",
    "    \n",
    "    layers.Dense(100, 'relu'),\n",
    "    \n",
    "    layers.Dense(10, 'softmax')\n",
    "    \n",
    "])\n",
    "\n",
    " \n",
    " \n",
    "input = np.zeros((64, 256, 256, 3))\n",
    "\n",
    "model(input).numpy().shape #(64, 10)\n"
   ]
  },
  {
   "cell_type": "code",
   "execution_count": 53,
   "metadata": {},
   "outputs": [
    {
     "name": "stdout",
     "output_type": "stream",
     "text": [
      "Model: \"sequential_8\"\n",
      "_________________________________________________________________\n",
      " Layer (type)                Output Shape              Param #   \n",
      "=================================================================\n",
      " flatten (Flatten)           (64, 196608)              0         \n",
      "                                                                 \n",
      " dense_37 (Dense)            (64, 100)                 19660900  \n",
      "                                                                 \n",
      " dense_38 (Dense)            (64, 10)                  1010      \n",
      "                                                                 \n",
      "=================================================================\n",
      "Total params: 19,661,910\n",
      "Trainable params: 19,661,910\n",
      "Non-trainable params: 0\n",
      "_________________________________________________________________\n"
     ]
    }
   ],
   "source": [
    "model.summary()"
   ]
  },
  {
   "cell_type": "code",
   "execution_count": 54,
   "metadata": {},
   "outputs": [],
   "source": [
    "model = Sequential([\n",
    "    \n",
    "    layers.Dense(100, 'relu'),\n",
    "    \n",
    "    layers.Dense(10),\n",
    "    \n",
    "])\n",
    "\n",
    " \n",
    " \n",
    "assert model.layers[0].trainable == True\n",
    "\n",
    "model.trainable = False\n",
    "\n",
    "assert model.layers[0].trainable == False\n"
   ]
  },
  {
   "cell_type": "code",
   "execution_count": null,
   "metadata": {},
   "outputs": [],
   "source": [
    "model = Sequential([\n",
    "    \n",
    "    layers.InputLayer((100,)),\n",
    "    \n",
    "    layers.Dense(500, 'relu'),\n",
    "    \n",
    "    layers.Dense(10, 'softmax')\n",
    "    \n",
    "])\n",
    "\n",
    "model.compile(\n",
    "    \n",
    "    loss='sparse_categorical_crossentropy',\n",
    "    \n",
    "    optimizer='adam',\n",
    "    \n",
    "    metrics='accuracy'\n",
    "    \n",
    ")"
   ]
  },
  {
   "cell_type": "code",
   "execution_count": 56,
   "metadata": {},
   "outputs": [
    {
     "name": "stdout",
     "output_type": "stream",
     "text": [
      "0.0\n",
      "0.5\n",
      "0.6666667\n"
     ]
    }
   ],
   "source": [
    "from keras.metrics import Accuracy\n",
    "\n",
    "acc = Accuracy()\n",
    "\n",
    "print(acc([0], [1]).numpy()) #0.0\n",
    "\n",
    "print(acc([1], [1]).numpy()) #0.5\n",
    "\n",
    "print(acc([1], [1]).numpy()) #0.6666667\n"
   ]
  },
  {
   "cell_type": "code",
   "execution_count": 57,
   "metadata": {},
   "outputs": [
    {
     "name": "stdout",
     "output_type": "stream",
     "text": [
      "Downloading data from https://storage.googleapis.com/tensorflow/tf-keras-datasets/mnist.npz\n",
      "11490434/11490434 [==============================] - 1s 0us/step\n",
      "(60000, 784) float64\n",
      "(10000, 784) float64\n",
      "(60000,) [5 0 4 1 9 2 1 3 1 4]\n",
      "(10000,) [7 2 1 0 4 1 4 9 5 9]\n"
     ]
    },
    {
     "data": {
      "image/png": "[encoded data removed]",
      "text/plain": [
       "<Figure size 1080x144 with 6 Axes>"
      ]
     },
     "metadata": {
      "needs_background": "light"
     },
     "output_type": "display_data"
    }
   ],
   "source": [
    "import tensorflow as tf\n",
    "\n",
    "from tensorflow import keras\n",
    "\n",
    "from tensorflow.keras import Model, Sequential, layers, losses, optimizers\n",
    "\n",
    " \n",
    " \n",
    "(X_train, y_train), (X_test, y_test) = keras.datasets.mnist.load_data()\n",
    "\n",
    "X_train = X_train.reshape(-1, 28*28) / 255\n",
    "\n",
    "X_test = X_test.reshape(-1, 28*28) / 255\n",
    "\n",
    " \n",
    " \n",
    "print(X_train.shape, X_train.dtype) #(60000, 784) float64\n",
    "\n",
    "print(X_test.shape, X_test.dtype) #(10000, 784) float64\n",
    "\n",
    " \n",
    " \n",
    "print(y_train.shape, y_train[:10]) #(60000,) [5 0 4 1 9 2 1 3 1 4]\n",
    "\n",
    "print(y_test.shape, y_test[:10]) #(10000,) [7 2 1 0 4 1 4 9 5 9]\n",
    "\n",
    " \n",
    " \n",
    "import matplotlib.pyplot as plt\n",
    "\n",
    "fig, axes = plt.subplots(1, 6, figsize=(15, 2))\n",
    "\n",
    "for img, ax in zip(X_train, axes.flat):\n",
    "    \n",
    "    ax.imshow(img.reshape(28, 28), cmap='Greys')\n",
    "    \n",
    "plt.show()\n"
   ]
  },
  {
   "cell_type": "code",
   "execution_count": 64,
   "metadata": {},
   "outputs": [
    {
     "data": {
      "text/plain": [
       "[]"
      ]
     },
     "execution_count": 64,
     "metadata": {},
     "output_type": "execute_result"
    }
   ],
   "source": [
    "tf.config.list_physical_devices('GPU')"
   ]
  },
  {
   "cell_type": "code",
   "execution_count": 62,
   "metadata": {},
   "outputs": [
    {
     "data": {
      "text/plain": [
       "''"
      ]
     },
     "execution_count": 62,
     "metadata": {},
     "output_type": "execute_result"
    }
   ],
   "source": [
    "tf.test.gpu_device_name()"
   ]
  },
  {
   "cell_type": "code",
   "execution_count": null,
   "metadata": {},
   "outputs": [],
   "source": [
    "model = Sequential([\n",
    "    layers.InputLayer(28*28),\n",
    "    layers.Dense(500, 'relu'),\n",
    "    layers.Dense(500, 'relu'),\n",
    "    layers.Dense(10)\n",
    "])"
   ]
  }
 ],
 "metadata": {
  "kernelspec": {
   "display_name": "Python 3",
   "language": "python",
   "name": "python3"
  },
  "language_info": {
   "codemirror_mode": {
    "name": "ipython",
    "version": 3
   },
   "file_extension": ".py",
   "mimetype": "text/x-python",
   "name": "python",
   "nbconvert_exporter": "python",
   "pygments_lexer": "ipython3",
   "version": "3.10.4"
  },
  "orig_nbformat": 4,
  "vscode": {
   "interpreter": {
    "hash": "26de051ba29f2982a8de78e945f0abaf191376122a1563185a90213a26c5da77"
   }
  }
 },
 "nbformat": 4,
 "nbformat_minor": 2
}
