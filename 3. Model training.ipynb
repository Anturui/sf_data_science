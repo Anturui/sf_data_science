{
 "cells": [
  {
   "cell_type": "code",
   "execution_count": 68,
   "metadata": {},
   "outputs": [],
   "source": [
    "import cv2\n",
    "\n",
    "import re\n",
    "\n",
    "import matplotlib.pyplot as plt\n",
    "\n",
    "import numpy as np\n",
    "\n",
    "import pandas as pd\n",
    "\n",
    "import re\n",
    "\n",
    "import pymorphy2\n",
    "\n",
    "import varname\n",
    "\n",
    "import advertools as adv\n",
    "\n",
    "from mpl_toolkits.mplot3d import Axes3D\n",
    "\n",
    "import seaborn as sns #for visualization\n",
    "\n",
    "import datetime\n",
    "\n",
    "import ast \n",
    "\n",
    "import dostoevsky\n",
    "\n",
    "import os\n",
    "\n",
    "from sklearn.ensemble import GradientBoostingRegressor\n",
    "\n",
    "from stop_words import get_stop_words\n",
    "\n",
    "import string\n",
    "\n",
    "pd.set_option('display.max_rows', 300)\n",
    "\n",
    "# pd.set_option('display.max_columns', None)\n",
    "\n",
    "# pd.set_option('display.max_rows', None)\n",
    "\n",
    "pd.set_option('display.max_columns', 300)\n",
    "\n",
    "from sklearn.ensemble import RandomForestRegressor, RandomForestClassifier\n",
    "\n",
    "from sklearn.tree import DecisionTreeRegressor\n",
    "\n",
    "from sklearn.metrics import mean_squared_error\n",
    "\n",
    "from sklearn.model_selection import train_test_split\n",
    "\n",
    "from sklearn import linear_model #линейные модели\n",
    "\n",
    "from sklearn import metrics #метрики\n",
    "\n",
    "from sklearn import preprocessing #предобработка\n",
    "\n",
    "from sklearn.model_selection import KFold\n",
    "\n",
    "from sklearn.model_selection import cross_val_score\n",
    "\n",
    "from sklearn.linear_model import LinearRegression\n",
    "\n",
    "from numpy import mean\n",
    "\n",
    "from numpy import absolute\n",
    "\n",
    "from numpy import sqrt\n",
    "\n",
    "import pandas as pd\n",
    "\n",
    "from sklearn.manifold import TSNE\n",
    "\n",
    "import swifter\n",
    "\n",
    "# Визуализация\n",
    "\n",
    "import plotly.express as px # для визуализации данных\n",
    "\n",
    "import matplotlib.pyplot as plt # для отображения рукописных цифр\n",
    "\n",
    "from sklearn.preprocessing import MinMaxScaler\n",
    "\n",
    "from sklearn.preprocessing import StandardScaler\n",
    "\n",
    "from sklearn.preprocessing import RobustScaler\n",
    "\n",
    "import math\n",
    "\n",
    "from swifter import set_defaults\n",
    "\n",
    "set_defaults(\n",
    "\n",
    "    npartitions=None,\n",
    "\n",
    "    dask_threshold=1,\n",
    "\n",
    "    scheduler=\"processes\",\n",
    "\n",
    "    progress_bar=True,\n",
    "\n",
    "    progress_bar_desc=False,\n",
    "\n",
    "    allow_dask_on_strings=False,\n",
    "\n",
    "    force_parallel=False,\n",
    "\n",
    ")\n",
    "\n",
    "import joblib\n",
    "\n",
    "from sklearn.cluster import KMeans\n",
    "\n",
    "from sklearn.metrics import silhouette_score, calinski_harabasz_score, davies_bouldin_score, rand_score, adjusted_rand_score\n",
    "\n",
    "from sklearn.metrics import normalized_mutual_info_score, homogeneity_score, completeness_score, f1_score, accuracy_score\n",
    "\n",
    "from sklearn.cluster import DBSCAN\n",
    "\n",
    "from sklearn.cluster import AgglomerativeClustering\n",
    "\n",
    "from sklearn.cluster import kmeans_plusplus\n",
    "\n",
    "# import numba\n",
    "\n",
    "from sklearn.decomposition import PCA\n",
    "\n",
    "from sklearn.decomposition import TruncatedSVD\n",
    "\n",
    "from sklearn.manifold import TSNE\n",
    "\n",
    "from scipy.special import expit, logit\n",
    "\n",
    "import tqdm\n",
    "\n",
    "from plotly.subplots import make_subplots\n",
    "\n",
    "from sklearn.pipeline import Pipeline\n",
    "\n",
    "from sklearn.mixture import GaussianMixture\n",
    "\n",
    "from plotly.graph_objects import Scatterpolar\n",
    "\n",
    "from plotly import graph_objects as go\n",
    "\n",
    "from sklearn.model_selection import GridSearchCV\n",
    "\n",
    "from sklearn.ensemble import GradientBoostingClassifier\n",
    "\n",
    "from mpl_toolkits.mplot3d import Axes3D\n",
    "\n",
    "import optuna\n",
    "\n",
    "from statsmodels.tsa.api import SimpleExpSmoothing\n",
    "\n",
    "from statsmodels.tsa.stattools import adfuller"
   ]
  },
  {
   "cell_type": "code",
   "execution_count": 69,
   "metadata": {},
   "outputs": [],
   "source": [
    "# grand_df_11_55_16_13_1.csv grand_df_14_49_51 grand_df_12_6_10_13_1 grand_df_12_52_54_13_1"
   ]
  },
  {
   "cell_type": "code",
   "execution_count": 70,
   "metadata": {},
   "outputs": [],
   "source": [
    "grand_df_complex = pd.read_csv('grand_data_zero_3.csv')"
   ]
  },
  {
   "cell_type": "code",
   "execution_count": 71,
   "metadata": {},
   "outputs": [],
   "source": [
    "grand_df = grand_df_complex.copy()"
   ]
  },
  {
   "cell_type": "code",
   "execution_count": 72,
   "metadata": {},
   "outputs": [
    {
     "data": {
      "text/plain": [
       "(38621, 1345)"
      ]
     },
     "execution_count": 72,
     "metadata": {},
     "output_type": "execute_result"
    }
   ],
   "source": [
    "grand_df.shape"
   ]
  },
  {
   "cell_type": "code",
   "execution_count": 73,
   "metadata": {},
   "outputs": [
    {
     "data": {
      "text/html": [
       "<div>\n",
       "<style scoped>\n",
       "    .dataframe tbody tr th:only-of-type {\n",
       "        vertical-align: middle;\n",
       "    }\n",
       "\n",
       "    .dataframe tbody tr th {\n",
       "        vertical-align: top;\n",
       "    }\n",
       "\n",
       "    .dataframe thead th {\n",
       "        text-align: right;\n",
       "    }\n",
       "</style>\n",
       "<table border=\"1\" class=\"dataframe\">\n",
       "  <thead>\n",
       "    <tr style=\"text-align: right;\">\n",
       "      <th></th>\n",
       "      <th>duration</th>\n",
       "      <th>w</th>\n",
       "      <th>h</th>\n",
       "      <th>weight_to_height</th>\n",
       "      <th>forwards_to_views</th>\n",
       "      <th>second</th>\n",
       "      <th>minute</th>\n",
       "      <th>hour</th>\n",
       "      <th>day_of_week</th>\n",
       "      <th>day_of_year</th>\n",
       "      <th>month</th>\n",
       "      <th>positive</th>\n",
       "      <th>negative</th>\n",
       "      <th>neutral</th>\n",
       "      <th>skip</th>\n",
       "      <th>speech</th>\n",
       "      <th>💵in_msg</th>\n",
       "      <th>🤩in_msg</th>\n",
       "      <th>🎇in_msg</th>\n",
       "      <th>🐰in_msg</th>\n",
       "      <th>👆🏻in_msg</th>\n",
       "      <th>🌐in_msg</th>\n",
       "      <th>🌵in_msg</th>\n",
       "      <th>🦐in_msg</th>\n",
       "      <th>🦞in_msg</th>\n",
       "      <th>👨‍💼in_msg</th>\n",
       "      <th>⏳in_msg</th>\n",
       "      <th>👨‍🦱in_msg</th>\n",
       "      <th>🧤in_msg</th>\n",
       "      <th>🥃in_msg</th>\n",
       "      <th>🙌🏻in_msg</th>\n",
       "      <th>😄in_msg</th>\n",
       "      <th>🇨🇭in_msg</th>\n",
       "      <th>🎨in_msg</th>\n",
       "      <th>👖in_msg</th>\n",
       "      <th>🇬🇹in_msg</th>\n",
       "      <th>👉in_msg</th>\n",
       "      <th>🌴in_msg</th>\n",
       "      <th>🐌in_msg</th>\n",
       "      <th>🔸in_msg</th>\n",
       "      <th>🇶🇦in_msg</th>\n",
       "      <th>👁in_msg</th>\n",
       "      <th>🐊in_msg</th>\n",
       "      <th>🥳in_msg</th>\n",
       "      <th>🤷in_msg</th>\n",
       "      <th>🇦🇪in_msg</th>\n",
       "      <th>🍽in_msg</th>\n",
       "      <th>🧙in_msg</th>\n",
       "      <th>📸in_msg</th>\n",
       "      <th>🪴in_msg</th>\n",
       "      <th>🇸🇮in_msg</th>\n",
       "      <th>🧼in_msg</th>\n",
       "      <th>🔉in_msg</th>\n",
       "      <th>☄in_msg</th>\n",
       "      <th>👇🏻in_msg</th>\n",
       "      <th>🧐in_msg</th>\n",
       "      <th>🙈in_msg</th>\n",
       "      <th>⛷in_msg</th>\n",
       "      <th>🍄in_msg</th>\n",
       "      <th>👈in_msg</th>\n",
       "      <th>🏒in_msg</th>\n",
       "      <th>😮in_msg</th>\n",
       "      <th>🗺in_msg</th>\n",
       "      <th>🗿in_msg</th>\n",
       "      <th>🧔in_msg</th>\n",
       "      <th>⛸in_msg</th>\n",
       "      <th>🥤in_msg</th>\n",
       "      <th>🔬in_msg</th>\n",
       "      <th>▶️in_msg</th>\n",
       "      <th>🦑in_msg</th>\n",
       "      <th>🚿in_msg</th>\n",
       "      <th>🥕in_msg</th>\n",
       "      <th>🇳🇦in_msg</th>\n",
       "      <th>❗in_msg</th>\n",
       "      <th>🏺in_msg</th>\n",
       "      <th>🐍in_msg</th>\n",
       "      <th>✔️in_msg</th>\n",
       "      <th>🦝in_msg</th>\n",
       "      <th>💐in_msg</th>\n",
       "      <th>🦒in_msg</th>\n",
       "      <th>🚉in_msg</th>\n",
       "      <th>🦍in_msg</th>\n",
       "      <th>🇭🇰in_msg</th>\n",
       "      <th>🇵🇪in_msg</th>\n",
       "      <th>🇦🇱in_msg</th>\n",
       "      <th>👱‍♂in_msg</th>\n",
       "      <th>👇in_msg</th>\n",
       "      <th>🥺in_msg</th>\n",
       "      <th>🇸🇰in_msg</th>\n",
       "      <th>⛵in_msg</th>\n",
       "      <th>💁‍♂in_msg</th>\n",
       "      <th>🗨in_msg</th>\n",
       "      <th>🇳🇴in_msg</th>\n",
       "      <th>🇸🇪in_msg</th>\n",
       "      <th>🍂in_msg</th>\n",
       "      <th>💔in_msg</th>\n",
       "      <th>🤟in_msg</th>\n",
       "      <th>🇧🇷in_msg</th>\n",
       "      <th>💣in_msg</th>\n",
       "      <th>🏝️in_msg</th>\n",
       "      <th>📱in_msg</th>\n",
       "      <th>🐞in_msg</th>\n",
       "      <th>🦘in_msg</th>\n",
       "      <th>🍯in_msg</th>\n",
       "      <th>👑in_msg</th>\n",
       "      <th>👥in_msg</th>\n",
       "      <th>🐈in_msg</th>\n",
       "      <th>🌘in_msg</th>\n",
       "      <th>👕in_msg</th>\n",
       "      <th>🧘🏻‍♂️in_msg</th>\n",
       "      <th>🟡in_msg</th>\n",
       "      <th>🎗in_msg</th>\n",
       "      <th>🛩in_msg</th>\n",
       "      <th>🏠in_msg</th>\n",
       "      <th>🐒in_msg</th>\n",
       "      <th>✅in_msg</th>\n",
       "      <th>🇲🇦in_msg</th>\n",
       "      <th>🍑in_msg</th>\n",
       "      <th>💧in_msg</th>\n",
       "      <th>👠in_msg</th>\n",
       "      <th>☮️in_msg</th>\n",
       "      <th>🗼in_msg</th>\n",
       "      <th>🇮🇶in_msg</th>\n",
       "      <th>🔥in_msg</th>\n",
       "      <th>🦛in_msg</th>\n",
       "      <th>☄️in_msg</th>\n",
       "      <th>😻in_msg</th>\n",
       "      <th>🎟in_msg</th>\n",
       "      <th>🇪🇨in_msg</th>\n",
       "      <th>🇾🇪in_msg</th>\n",
       "      <th>💁‍♂️in_msg</th>\n",
       "      <th>💚in_msg</th>\n",
       "      <th>🙄in_msg</th>\n",
       "      <th>🐭in_msg</th>\n",
       "      <th>🌒in_msg</th>\n",
       "      <th>👨🏻‍🏫in_msg</th>\n",
       "      <th>🇲🇹in_msg</th>\n",
       "      <th>😤in_msg</th>\n",
       "      <th>🇨🇿in_msg</th>\n",
       "      <th>🎭in_msg</th>\n",
       "      <th>🐇in_msg</th>\n",
       "      <th>🎓in_msg</th>\n",
       "      <th>🤷‍♀️in_msg</th>\n",
       "      <th>✌🏽in_msg</th>\n",
       "      <th>🤪in_msg</th>\n",
       "      <th>👁️in_msg</th>\n",
       "      <th>📈in_msg</th>\n",
       "      <th>🅾in_msg</th>\n",
       "      <th>🎠in_msg</th>\n",
       "      <th>🦆in_msg</th>\n",
       "      <th>...</th>\n",
       "      <th>word_number_192</th>\n",
       "      <th>word_number_193</th>\n",
       "      <th>word_number_194</th>\n",
       "      <th>word_number_195</th>\n",
       "      <th>word_number_196</th>\n",
       "      <th>word_number_197</th>\n",
       "      <th>word_number_198</th>\n",
       "      <th>word_number_199</th>\n",
       "      <th>word_number_200</th>\n",
       "      <th>word_number_201</th>\n",
       "      <th>word_number_202</th>\n",
       "      <th>word_number_203</th>\n",
       "      <th>word_number_204</th>\n",
       "      <th>word_number_205</th>\n",
       "      <th>word_number_206</th>\n",
       "      <th>word_number_207</th>\n",
       "      <th>word_number_208</th>\n",
       "      <th>word_number_209</th>\n",
       "      <th>word_number_210</th>\n",
       "      <th>word_number_211</th>\n",
       "      <th>word_number_212</th>\n",
       "      <th>word_number_213</th>\n",
       "      <th>word_number_214</th>\n",
       "      <th>word_number_215</th>\n",
       "      <th>word_number_216</th>\n",
       "      <th>word_number_217</th>\n",
       "      <th>word_number_218</th>\n",
       "      <th>word_number_219</th>\n",
       "      <th>word_number_220</th>\n",
       "      <th>word_number_221</th>\n",
       "      <th>word_number_222</th>\n",
       "      <th>word_number_223</th>\n",
       "      <th>MessageEntityUnderline</th>\n",
       "      <th>MessageEntityStrike</th>\n",
       "      <th>MessageEntityUrl</th>\n",
       "      <th>MessageEntityBold</th>\n",
       "      <th>MessageEntityCode</th>\n",
       "      <th>MessageEntityHashtag</th>\n",
       "      <th>MessageEntityCustomEmoji</th>\n",
       "      <th>MessageEntityMention</th>\n",
       "      <th>MessageEntityEmail</th>\n",
       "      <th>MessageEntityTextUrl</th>\n",
       "      <th>MessageEntityItalic</th>\n",
       "      <th>MessageEntitySpoiler</th>\n",
       "      <th>word_number_224</th>\n",
       "      <th>word_number_225</th>\n",
       "      <th>word_number_226</th>\n",
       "      <th>word_number_227</th>\n",
       "      <th>word_number_228</th>\n",
       "      <th>word_number_229</th>\n",
       "      <th>word_number_230</th>\n",
       "      <th>word_number_231</th>\n",
       "      <th>word_number_232</th>\n",
       "      <th>word_number_233</th>\n",
       "      <th>word_number_234</th>\n",
       "      <th>word_number_235</th>\n",
       "      <th>word_number_236</th>\n",
       "      <th>word_number_237</th>\n",
       "      <th>word_number_238</th>\n",
       "      <th>word_number_239</th>\n",
       "      <th>word_number_240</th>\n",
       "      <th>word_number_241</th>\n",
       "      <th>word_number_242</th>\n",
       "      <th>word_number_243</th>\n",
       "      <th>word_number_244</th>\n",
       "      <th>word_number_245</th>\n",
       "      <th>word_number_246</th>\n",
       "      <th>word_number_247</th>\n",
       "      <th>word_number_248</th>\n",
       "      <th>word_number_249</th>\n",
       "      <th>word_number_250</th>\n",
       "      <th>word_number_251</th>\n",
       "      <th>word_number_252</th>\n",
       "      <th>word_number_253</th>\n",
       "      <th>word_number_254</th>\n",
       "      <th>word_number_255</th>\n",
       "      <th>word_number_256</th>\n",
       "      <th>word_number_257</th>\n",
       "      <th>word_number_258</th>\n",
       "      <th>word_number_259</th>\n",
       "      <th>word_number_260</th>\n",
       "      <th>word_number_261</th>\n",
       "      <th>word_number_262</th>\n",
       "      <th>word_number_263</th>\n",
       "      <th>word_number_264</th>\n",
       "      <th>word_number_265</th>\n",
       "      <th>word_number_266</th>\n",
       "      <th>word_number_267</th>\n",
       "      <th>word_number_268</th>\n",
       "      <th>word_number_269</th>\n",
       "      <th>word_number_270</th>\n",
       "      <th>word_number_271</th>\n",
       "      <th>word_number_272</th>\n",
       "      <th>word_number_273</th>\n",
       "      <th>word_number_274</th>\n",
       "      <th>word_number_275</th>\n",
       "      <th>word_number_276</th>\n",
       "      <th>word_number_277</th>\n",
       "      <th>word_number_278</th>\n",
       "      <th>word_number_279</th>\n",
       "      <th>word_number_280</th>\n",
       "      <th>word_number_281</th>\n",
       "      <th>word_number_282</th>\n",
       "      <th>word_number_283</th>\n",
       "      <th>word_number_284</th>\n",
       "      <th>word_number_285</th>\n",
       "      <th>word_number_286</th>\n",
       "      <th>word_number_287</th>\n",
       "      <th>word_number_288</th>\n",
       "      <th>word_number_289</th>\n",
       "      <th>word_number_290</th>\n",
       "      <th>word_number_291</th>\n",
       "      <th>word_number_292</th>\n",
       "      <th>word_number_293</th>\n",
       "      <th>word_number_294</th>\n",
       "      <th>word_number_295</th>\n",
       "      <th>word_number_296</th>\n",
       "      <th>word_number_297</th>\n",
       "      <th>word_number_298</th>\n",
       "      <th>word_number_299</th>\n",
       "      <th>word_number_300</th>\n",
       "      <th>word_number_301</th>\n",
       "      <th>dtdays</th>\n",
       "      <th>day_of_month</th>\n",
       "      <th>h_std</th>\n",
       "      <th>s_std</th>\n",
       "      <th>v_std</th>\n",
       "      <th>h_median</th>\n",
       "      <th>s_median</th>\n",
       "      <th>v_median</th>\n",
       "      <th>h_min</th>\n",
       "      <th>s_min</th>\n",
       "      <th>v_min</th>\n",
       "      <th>h_max</th>\n",
       "      <th>s_max</th>\n",
       "      <th>s_max.1</th>\n",
       "      <th>morinig</th>\n",
       "      <th>day</th>\n",
       "      <th>evening</th>\n",
       "      <th>night</th>\n",
       "      <th>summer</th>\n",
       "      <th>autumn</th>\n",
       "      <th>winter</th>\n",
       "      <th>spring</th>\n",
       "      <th>r_mean</th>\n",
       "      <th>g_mean</th>\n",
       "      <th>b_mean</th>\n",
       "      <th>r_std</th>\n",
       "      <th>g_std</th>\n",
       "      <th>b_std</th>\n",
       "    </tr>\n",
       "  </thead>\n",
       "  <tbody>\n",
       "    <tr>\n",
       "      <th>0</th>\n",
       "      <td>15</td>\n",
       "      <td>720</td>\n",
       "      <td>1280</td>\n",
       "      <td>0.5625</td>\n",
       "      <td>0.003226</td>\n",
       "      <td>43</td>\n",
       "      <td>23</td>\n",
       "      <td>11</td>\n",
       "      <td>0</td>\n",
       "      <td>255</td>\n",
       "      <td>9</td>\n",
       "      <td>0.0</td>\n",
       "      <td>0.0</td>\n",
       "      <td>0.0</td>\n",
       "      <td>0.0</td>\n",
       "      <td>0.0</td>\n",
       "      <td>0</td>\n",
       "      <td>0</td>\n",
       "      <td>0</td>\n",
       "      <td>0</td>\n",
       "      <td>0</td>\n",
       "      <td>0</td>\n",
       "      <td>0</td>\n",
       "      <td>0</td>\n",
       "      <td>0</td>\n",
       "      <td>0</td>\n",
       "      <td>0</td>\n",
       "      <td>0</td>\n",
       "      <td>0</td>\n",
       "      <td>0</td>\n",
       "      <td>0</td>\n",
       "      <td>0</td>\n",
       "      <td>0</td>\n",
       "      <td>0</td>\n",
       "      <td>0</td>\n",
       "      <td>0</td>\n",
       "      <td>0</td>\n",
       "      <td>0</td>\n",
       "      <td>0</td>\n",
       "      <td>0</td>\n",
       "      <td>0</td>\n",
       "      <td>0</td>\n",
       "      <td>0</td>\n",
       "      <td>0</td>\n",
       "      <td>0</td>\n",
       "      <td>0</td>\n",
       "      <td>0</td>\n",
       "      <td>0</td>\n",
       "      <td>0</td>\n",
       "      <td>0</td>\n",
       "      <td>0</td>\n",
       "      <td>0</td>\n",
       "      <td>0</td>\n",
       "      <td>0</td>\n",
       "      <td>0</td>\n",
       "      <td>0</td>\n",
       "      <td>0</td>\n",
       "      <td>0</td>\n",
       "      <td>0</td>\n",
       "      <td>0</td>\n",
       "      <td>0</td>\n",
       "      <td>0</td>\n",
       "      <td>0</td>\n",
       "      <td>0</td>\n",
       "      <td>0</td>\n",
       "      <td>0</td>\n",
       "      <td>0</td>\n",
       "      <td>0</td>\n",
       "      <td>0</td>\n",
       "      <td>0</td>\n",
       "      <td>0</td>\n",
       "      <td>0</td>\n",
       "      <td>0</td>\n",
       "      <td>0</td>\n",
       "      <td>0</td>\n",
       "      <td>0</td>\n",
       "      <td>0</td>\n",
       "      <td>0</td>\n",
       "      <td>0</td>\n",
       "      <td>0</td>\n",
       "      <td>0</td>\n",
       "      <td>0</td>\n",
       "      <td>0</td>\n",
       "      <td>0</td>\n",
       "      <td>0</td>\n",
       "      <td>0</td>\n",
       "      <td>0</td>\n",
       "      <td>0</td>\n",
       "      <td>0</td>\n",
       "      <td>0</td>\n",
       "      <td>0</td>\n",
       "      <td>0</td>\n",
       "      <td>0</td>\n",
       "      <td>0</td>\n",
       "      <td>0</td>\n",
       "      <td>0</td>\n",
       "      <td>0</td>\n",
       "      <td>0</td>\n",
       "      <td>0</td>\n",
       "      <td>0</td>\n",
       "      <td>0</td>\n",
       "      <td>0</td>\n",
       "      <td>0</td>\n",
       "      <td>0</td>\n",
       "      <td>0</td>\n",
       "      <td>0</td>\n",
       "      <td>0</td>\n",
       "      <td>0</td>\n",
       "      <td>0</td>\n",
       "      <td>0</td>\n",
       "      <td>0</td>\n",
       "      <td>0</td>\n",
       "      <td>0</td>\n",
       "      <td>0</td>\n",
       "      <td>0</td>\n",
       "      <td>0</td>\n",
       "      <td>0</td>\n",
       "      <td>0</td>\n",
       "      <td>0</td>\n",
       "      <td>0</td>\n",
       "      <td>0</td>\n",
       "      <td>0</td>\n",
       "      <td>0</td>\n",
       "      <td>0</td>\n",
       "      <td>0</td>\n",
       "      <td>0</td>\n",
       "      <td>0</td>\n",
       "      <td>0</td>\n",
       "      <td>0</td>\n",
       "      <td>0</td>\n",
       "      <td>0</td>\n",
       "      <td>0</td>\n",
       "      <td>0</td>\n",
       "      <td>0</td>\n",
       "      <td>0</td>\n",
       "      <td>0</td>\n",
       "      <td>0</td>\n",
       "      <td>0</td>\n",
       "      <td>0</td>\n",
       "      <td>0</td>\n",
       "      <td>0</td>\n",
       "      <td>0</td>\n",
       "      <td>0</td>\n",
       "      <td>0</td>\n",
       "      <td>0</td>\n",
       "      <td>0</td>\n",
       "      <td>0</td>\n",
       "      <td>0</td>\n",
       "      <td>0</td>\n",
       "      <td>0</td>\n",
       "      <td>...</td>\n",
       "      <td>0.0</td>\n",
       "      <td>0.0</td>\n",
       "      <td>0.0</td>\n",
       "      <td>0.0</td>\n",
       "      <td>0.0</td>\n",
       "      <td>0.0</td>\n",
       "      <td>0.0</td>\n",
       "      <td>0.0</td>\n",
       "      <td>0.0</td>\n",
       "      <td>0.0</td>\n",
       "      <td>0.0</td>\n",
       "      <td>0.0</td>\n",
       "      <td>0.0</td>\n",
       "      <td>0.0</td>\n",
       "      <td>0.0</td>\n",
       "      <td>0.0</td>\n",
       "      <td>0.0</td>\n",
       "      <td>0.0</td>\n",
       "      <td>0.0</td>\n",
       "      <td>0.0</td>\n",
       "      <td>0.0</td>\n",
       "      <td>0.0</td>\n",
       "      <td>0.0</td>\n",
       "      <td>0.0</td>\n",
       "      <td>0.0</td>\n",
       "      <td>0.0</td>\n",
       "      <td>0.0</td>\n",
       "      <td>0.0</td>\n",
       "      <td>0.0</td>\n",
       "      <td>0.0</td>\n",
       "      <td>0.0</td>\n",
       "      <td>0.0</td>\n",
       "      <td>0</td>\n",
       "      <td>0</td>\n",
       "      <td>0</td>\n",
       "      <td>0</td>\n",
       "      <td>0</td>\n",
       "      <td>0</td>\n",
       "      <td>0</td>\n",
       "      <td>0</td>\n",
       "      <td>0</td>\n",
       "      <td>0</td>\n",
       "      <td>0</td>\n",
       "      <td>0</td>\n",
       "      <td>0.0</td>\n",
       "      <td>0.0</td>\n",
       "      <td>0.0</td>\n",
       "      <td>0.0</td>\n",
       "      <td>0.0</td>\n",
       "      <td>0.0</td>\n",
       "      <td>0.0</td>\n",
       "      <td>0.0</td>\n",
       "      <td>0.0</td>\n",
       "      <td>0.0</td>\n",
       "      <td>0.0</td>\n",
       "      <td>0.0</td>\n",
       "      <td>0.0</td>\n",
       "      <td>0.0</td>\n",
       "      <td>0.0</td>\n",
       "      <td>0.0</td>\n",
       "      <td>0.0</td>\n",
       "      <td>0.0</td>\n",
       "      <td>0.0</td>\n",
       "      <td>0.0</td>\n",
       "      <td>0.0</td>\n",
       "      <td>0.0</td>\n",
       "      <td>0.0</td>\n",
       "      <td>0.0</td>\n",
       "      <td>0.0</td>\n",
       "      <td>0.0</td>\n",
       "      <td>0.0</td>\n",
       "      <td>0.0</td>\n",
       "      <td>0.0</td>\n",
       "      <td>0.0</td>\n",
       "      <td>0.0</td>\n",
       "      <td>0.0</td>\n",
       "      <td>0.0</td>\n",
       "      <td>0.0</td>\n",
       "      <td>0.0</td>\n",
       "      <td>0.0</td>\n",
       "      <td>0.0</td>\n",
       "      <td>0.0</td>\n",
       "      <td>0.0</td>\n",
       "      <td>0.0</td>\n",
       "      <td>0.0</td>\n",
       "      <td>0.0</td>\n",
       "      <td>0.0</td>\n",
       "      <td>0.0</td>\n",
       "      <td>0.0</td>\n",
       "      <td>0.0</td>\n",
       "      <td>0.0</td>\n",
       "      <td>0.0</td>\n",
       "      <td>0.0</td>\n",
       "      <td>0.0</td>\n",
       "      <td>0.0</td>\n",
       "      <td>0.0</td>\n",
       "      <td>0.0</td>\n",
       "      <td>0.0</td>\n",
       "      <td>0.0</td>\n",
       "      <td>0.0</td>\n",
       "      <td>0.0</td>\n",
       "      <td>0.0</td>\n",
       "      <td>0.0</td>\n",
       "      <td>0.0</td>\n",
       "      <td>0.0</td>\n",
       "      <td>0.0</td>\n",
       "      <td>0.0</td>\n",
       "      <td>0.0</td>\n",
       "      <td>0.0</td>\n",
       "      <td>0.0</td>\n",
       "      <td>0.0</td>\n",
       "      <td>0.0</td>\n",
       "      <td>0.0</td>\n",
       "      <td>0.0</td>\n",
       "      <td>0.0</td>\n",
       "      <td>0.0</td>\n",
       "      <td>0.0</td>\n",
       "      <td>0.0</td>\n",
       "      <td>0.0</td>\n",
       "      <td>0.0</td>\n",
       "      <td>0.0</td>\n",
       "      <td>0.0</td>\n",
       "      <td>182</td>\n",
       "      <td>12</td>\n",
       "      <td>49.368139</td>\n",
       "      <td>52.525261</td>\n",
       "      <td>74.227846</td>\n",
       "      <td>116.0</td>\n",
       "      <td>73.0</td>\n",
       "      <td>131.0</td>\n",
       "      <td>0</td>\n",
       "      <td>0</td>\n",
       "      <td>0</td>\n",
       "      <td>179</td>\n",
       "      <td>255</td>\n",
       "      <td>255</td>\n",
       "      <td>1</td>\n",
       "      <td>0</td>\n",
       "      <td>0</td>\n",
       "      <td>0</td>\n",
       "      <td>0</td>\n",
       "      <td>1</td>\n",
       "      <td>0</td>\n",
       "      <td>0</td>\n",
       "      <td>109.820694</td>\n",
       "      <td>99.457378</td>\n",
       "      <td>107.34849</td>\n",
       "      <td>72.297118</td>\n",
       "      <td>68.99498</td>\n",
       "      <td>71.298567</td>\n",
       "    </tr>\n",
       "  </tbody>\n",
       "</table>\n",
       "<p>1 rows × 1345 columns</p>\n",
       "</div>"
      ],
      "text/plain": [
       "   duration    w     h  weight_to_height  forwards_to_views  second  minute  \\\n",
       "0        15  720  1280            0.5625           0.003226      43      23   \n",
       "\n",
       "   hour  day_of_week  day_of_year  month  positive  negative  neutral  skip  \\\n",
       "0    11            0          255      9       0.0       0.0      0.0   0.0   \n",
       "\n",
       "   speech  💵in_msg  🤩in_msg  🎇in_msg  🐰in_msg  👆🏻in_msg  🌐in_msg  🌵in_msg  \\\n",
       "0     0.0        0        0        0        0         0        0        0   \n",
       "\n",
       "   🦐in_msg  🦞in_msg  👨‍💼in_msg  ⏳in_msg  👨‍🦱in_msg  🧤in_msg  🥃in_msg  \\\n",
       "0        0        0          0        0          0        0        0   \n",
       "\n",
       "   🙌🏻in_msg  😄in_msg  🇨🇭in_msg  🎨in_msg  👖in_msg  🇬🇹in_msg  👉in_msg  🌴in_msg  \\\n",
       "0         0        0         0        0        0         0        0        0   \n",
       "\n",
       "   🐌in_msg  🔸in_msg  🇶🇦in_msg  👁in_msg  🐊in_msg  🥳in_msg  🤷in_msg  🇦🇪in_msg  \\\n",
       "0        0        0         0        0        0        0        0         0   \n",
       "\n",
       "   🍽in_msg  🧙in_msg  📸in_msg  🪴in_msg  🇸🇮in_msg  🧼in_msg  🔉in_msg  ☄in_msg  \\\n",
       "0        0        0        0        0         0        0        0        0   \n",
       "\n",
       "   👇🏻in_msg  🧐in_msg  🙈in_msg  ⛷in_msg  🍄in_msg  👈in_msg  🏒in_msg  😮in_msg  \\\n",
       "0         0        0        0        0        0        0        0        0   \n",
       "\n",
       "   🗺in_msg  🗿in_msg  🧔in_msg  ⛸in_msg  🥤in_msg  🔬in_msg  ▶️in_msg  🦑in_msg  \\\n",
       "0        0        0        0        0        0        0         0        0   \n",
       "\n",
       "   🚿in_msg  🥕in_msg  🇳🇦in_msg  ❗in_msg  🏺in_msg  🐍in_msg  ✔️in_msg  🦝in_msg  \\\n",
       "0        0        0         0        0        0        0         0        0   \n",
       "\n",
       "   💐in_msg  🦒in_msg  🚉in_msg  🦍in_msg  🇭🇰in_msg  🇵🇪in_msg  🇦🇱in_msg  \\\n",
       "0        0        0        0        0         0         0         0   \n",
       "\n",
       "   👱‍♂in_msg  👇in_msg  🥺in_msg  🇸🇰in_msg  ⛵in_msg  💁‍♂in_msg  🗨in_msg  \\\n",
       "0          0        0        0         0        0          0        0   \n",
       "\n",
       "   🇳🇴in_msg  🇸🇪in_msg  🍂in_msg  💔in_msg  🤟in_msg  🇧🇷in_msg  💣in_msg  🏝️in_msg  \\\n",
       "0         0         0        0        0        0         0        0         0   \n",
       "\n",
       "   📱in_msg  🐞in_msg  🦘in_msg  🍯in_msg  👑in_msg  👥in_msg  🐈in_msg  🌘in_msg  \\\n",
       "0        0        0        0        0        0        0        0        0   \n",
       "\n",
       "   👕in_msg  🧘🏻‍♂️in_msg  🟡in_msg  🎗in_msg  🛩in_msg  🏠in_msg  🐒in_msg  ✅in_msg  \\\n",
       "0        0            0        0        0        0        0        0        0   \n",
       "\n",
       "   🇲🇦in_msg  🍑in_msg  💧in_msg  👠in_msg  ☮️in_msg  🗼in_msg  🇮🇶in_msg  🔥in_msg  \\\n",
       "0         0        0        0        0         0        0         0        0   \n",
       "\n",
       "   🦛in_msg  ☄️in_msg  😻in_msg  🎟in_msg  🇪🇨in_msg  🇾🇪in_msg  💁‍♂️in_msg  \\\n",
       "0        0         0        0        0         0         0           0   \n",
       "\n",
       "   💚in_msg  🙄in_msg  🐭in_msg  🌒in_msg  👨🏻‍🏫in_msg  🇲🇹in_msg  😤in_msg  \\\n",
       "0        0        0        0        0           0         0        0   \n",
       "\n",
       "   🇨🇿in_msg  🎭in_msg  🐇in_msg  🎓in_msg  🤷‍♀️in_msg  ✌🏽in_msg  🤪in_msg  \\\n",
       "0         0        0        0        0           0         0        0   \n",
       "\n",
       "   👁️in_msg  📈in_msg  🅾in_msg  🎠in_msg  🦆in_msg  ...  word_number_192  \\\n",
       "0         0        0        0        0        0  ...              0.0   \n",
       "\n",
       "   word_number_193  word_number_194  word_number_195  word_number_196  \\\n",
       "0              0.0              0.0              0.0              0.0   \n",
       "\n",
       "   word_number_197  word_number_198  word_number_199  word_number_200  \\\n",
       "0              0.0              0.0              0.0              0.0   \n",
       "\n",
       "   word_number_201  word_number_202  word_number_203  word_number_204  \\\n",
       "0              0.0              0.0              0.0              0.0   \n",
       "\n",
       "   word_number_205  word_number_206  word_number_207  word_number_208  \\\n",
       "0              0.0              0.0              0.0              0.0   \n",
       "\n",
       "   word_number_209  word_number_210  word_number_211  word_number_212  \\\n",
       "0              0.0              0.0              0.0              0.0   \n",
       "\n",
       "   word_number_213  word_number_214  word_number_215  word_number_216  \\\n",
       "0              0.0              0.0              0.0              0.0   \n",
       "\n",
       "   word_number_217  word_number_218  word_number_219  word_number_220  \\\n",
       "0              0.0              0.0              0.0              0.0   \n",
       "\n",
       "   word_number_221  word_number_222  word_number_223  MessageEntityUnderline  \\\n",
       "0              0.0              0.0              0.0                       0   \n",
       "\n",
       "   MessageEntityStrike  MessageEntityUrl  MessageEntityBold  \\\n",
       "0                    0                 0                  0   \n",
       "\n",
       "   MessageEntityCode  MessageEntityHashtag  MessageEntityCustomEmoji  \\\n",
       "0                  0                     0                         0   \n",
       "\n",
       "   MessageEntityMention  MessageEntityEmail  MessageEntityTextUrl  \\\n",
       "0                     0                   0                     0   \n",
       "\n",
       "   MessageEntityItalic  MessageEntitySpoiler  word_number_224  \\\n",
       "0                    0                     0              0.0   \n",
       "\n",
       "   word_number_225  word_number_226  word_number_227  word_number_228  \\\n",
       "0              0.0              0.0              0.0              0.0   \n",
       "\n",
       "   word_number_229  word_number_230  word_number_231  word_number_232  \\\n",
       "0              0.0              0.0              0.0              0.0   \n",
       "\n",
       "   word_number_233  word_number_234  word_number_235  word_number_236  \\\n",
       "0              0.0              0.0              0.0              0.0   \n",
       "\n",
       "   word_number_237  word_number_238  word_number_239  word_number_240  \\\n",
       "0              0.0              0.0              0.0              0.0   \n",
       "\n",
       "   word_number_241  word_number_242  word_number_243  word_number_244  \\\n",
       "0              0.0              0.0              0.0              0.0   \n",
       "\n",
       "   word_number_245  word_number_246  word_number_247  word_number_248  \\\n",
       "0              0.0              0.0              0.0              0.0   \n",
       "\n",
       "   word_number_249  word_number_250  word_number_251  word_number_252  \\\n",
       "0              0.0              0.0              0.0              0.0   \n",
       "\n",
       "   word_number_253  word_number_254  word_number_255  word_number_256  \\\n",
       "0              0.0              0.0              0.0              0.0   \n",
       "\n",
       "   word_number_257  word_number_258  word_number_259  word_number_260  \\\n",
       "0              0.0              0.0              0.0              0.0   \n",
       "\n",
       "   word_number_261  word_number_262  word_number_263  word_number_264  \\\n",
       "0              0.0              0.0              0.0              0.0   \n",
       "\n",
       "   word_number_265  word_number_266  word_number_267  word_number_268  \\\n",
       "0              0.0              0.0              0.0              0.0   \n",
       "\n",
       "   word_number_269  word_number_270  word_number_271  word_number_272  \\\n",
       "0              0.0              0.0              0.0              0.0   \n",
       "\n",
       "   word_number_273  word_number_274  word_number_275  word_number_276  \\\n",
       "0              0.0              0.0              0.0              0.0   \n",
       "\n",
       "   word_number_277  word_number_278  word_number_279  word_number_280  \\\n",
       "0              0.0              0.0              0.0              0.0   \n",
       "\n",
       "   word_number_281  word_number_282  word_number_283  word_number_284  \\\n",
       "0              0.0              0.0              0.0              0.0   \n",
       "\n",
       "   word_number_285  word_number_286  word_number_287  word_number_288  \\\n",
       "0              0.0              0.0              0.0              0.0   \n",
       "\n",
       "   word_number_289  word_number_290  word_number_291  word_number_292  \\\n",
       "0              0.0              0.0              0.0              0.0   \n",
       "\n",
       "   word_number_293  word_number_294  word_number_295  word_number_296  \\\n",
       "0              0.0              0.0              0.0              0.0   \n",
       "\n",
       "   word_number_297  word_number_298  word_number_299  word_number_300  \\\n",
       "0              0.0              0.0              0.0              0.0   \n",
       "\n",
       "   word_number_301  dtdays  day_of_month      h_std      s_std      v_std  \\\n",
       "0              0.0     182            12  49.368139  52.525261  74.227846   \n",
       "\n",
       "   h_median  s_median  v_median  h_min  s_min  v_min  h_max  s_max  s_max.1  \\\n",
       "0     116.0      73.0     131.0      0      0      0    179    255      255   \n",
       "\n",
       "   morinig  day  evening  night  summer  autumn  winter  spring      r_mean  \\\n",
       "0        1    0        0      0       0       1       0       0  109.820694   \n",
       "\n",
       "      g_mean     b_mean      r_std     g_std      b_std  \n",
       "0  99.457378  107.34849  72.297118  68.99498  71.298567  \n",
       "\n",
       "[1 rows x 1345 columns]"
      ]
     },
     "execution_count": 73,
     "metadata": {},
     "output_type": "execute_result"
    }
   ],
   "source": [
    "grand_df.head(1)"
   ]
  },
  {
   "attachments": {},
   "cell_type": "markdown",
   "metadata": {},
   "source": [
    "# Getting rid of emissions"
   ]
  },
  {
   "cell_type": "code",
   "execution_count": 74,
   "metadata": {},
   "outputs": [],
   "source": [
    "mask_1 = grand_df['list_of_count_colors'] <= 392824  \n",
    "\n",
    "mask_2 = grand_df['re_lemmas_count'] <= 301\n",
    "\n",
    "mask_3 = grand_df['duration'] <= 70\n",
    "\n",
    "mask_4 = grand_df['forwards_to_views'] <= grand_df['forwards_to_views'].max() * 0.075\n",
    "\n",
    "mask_5 = grand_df['forwards_to_views'] >= grand_df['forwards_to_views'].min() * 50\n",
    "\n",
    "mask_6 = grand_df['list_of_count_colors'] >= 3 \n",
    "\n",
    "grand_df = grand_df[mask_1 & mask_2 & mask_3 & mask_4 & mask_5 & mask_6]"
   ]
  },
  {
   "cell_type": "code",
   "execution_count": 75,
   "metadata": {},
   "outputs": [
    {
     "data": {
      "text/plain": [
       "(30503, 1345)"
      ]
     },
     "execution_count": 75,
     "metadata": {},
     "output_type": "execute_result"
    }
   ],
   "source": [
    "grand_df.shape"
   ]
  },
  {
   "attachments": {},
   "cell_type": "markdown",
   "metadata": {},
   "source": [
    "# Target logarithm"
   ]
  },
  {
   "cell_type": "code",
   "execution_count": 76,
   "metadata": {},
   "outputs": [
    {
     "name": "stderr",
     "output_type": "stream",
     "text": [
      "C:\\Users\\Arwielao\\AppData\\Local\\Temp\\ipykernel_22620\\190676265.py:3: SettingWithCopyWarning: \n",
      "A value is trying to be set on a copy of a slice from a DataFrame.\n",
      "Try using .loc[row_indexer,col_indexer] = value instead\n",
      "\n",
      "See the caveats in the documentation: https://pandas.pydata.org/pandas-docs/stable/user_guide/indexing.html#returning-a-view-versus-a-copy\n",
      "  grand_df['forwards_to_views'] = np.log10(grand_df['forwards_to_views']) / np.log10(base)\n"
     ]
    }
   ],
   "source": [
    "base = 1000\n",
    "\n",
    "grand_df['forwards_to_views'] = np.log10(grand_df['forwards_to_views']) / np.log10(base)"
   ]
  },
  {
   "cell_type": "code",
   "execution_count": 77,
   "metadata": {},
   "outputs": [
    {
     "name": "stderr",
     "output_type": "stream",
     "text": [
      "C:\\Users\\Arwielao\\AppData\\Local\\Temp\\ipykernel_22620\\1461426068.py:1: SettingWithCopyWarning: \n",
      "A value is trying to be set on a copy of a slice from a DataFrame.\n",
      "Try using .loc[row_indexer,col_indexer] = value instead\n",
      "\n",
      "See the caveats in the documentation: https://pandas.pydata.org/pandas-docs/stable/user_guide/indexing.html#returning-a-view-versus-a-copy\n",
      "  grand_df['list_of_count_colors'] = np.log10(grand_df['list_of_count_colors'] + 1) / np.log10(base)\n",
      "C:\\Users\\Arwielao\\AppData\\Local\\Temp\\ipykernel_22620\\1461426068.py:3: SettingWithCopyWarning: \n",
      "A value is trying to be set on a copy of a slice from a DataFrame.\n",
      "Try using .loc[row_indexer,col_indexer] = value instead\n",
      "\n",
      "See the caveats in the documentation: https://pandas.pydata.org/pandas-docs/stable/user_guide/indexing.html#returning-a-view-versus-a-copy\n",
      "  grand_df['re_lemmas_count'] = np.log10(grand_df['re_lemmas_count'] + 1) / np.log10(base)\n",
      "C:\\Users\\Arwielao\\AppData\\Local\\Temp\\ipykernel_22620\\1461426068.py:5: SettingWithCopyWarning: \n",
      "A value is trying to be set on a copy of a slice from a DataFrame.\n",
      "Try using .loc[row_indexer,col_indexer] = value instead\n",
      "\n",
      "See the caveats in the documentation: https://pandas.pydata.org/pandas-docs/stable/user_guide/indexing.html#returning-a-view-versus-a-copy\n",
      "  grand_df['duration'] = np.log10(grand_df['duration'] + 1) / np.log10(base)\n"
     ]
    }
   ],
   "source": [
    "grand_df['list_of_count_colors'] = np.log10(grand_df['list_of_count_colors'] + 1) / np.log10(base)\n",
    "\n",
    "grand_df['re_lemmas_count'] = np.log10(grand_df['re_lemmas_count'] + 1) / np.log10(base)\n",
    "\n",
    "grand_df['duration'] = np.log10(grand_df['duration'] + 1) / np.log10(base)"
   ]
  },
  {
   "cell_type": "code",
   "execution_count": 78,
   "metadata": {},
   "outputs": [],
   "source": [
    "grand_df.reset_index(drop=True,inplace=True)"
   ]
  },
  {
   "cell_type": "code",
   "execution_count": 79,
   "metadata": {},
   "outputs": [
    {
     "name": "stderr",
     "output_type": "stream",
     "text": [
      "C:\\Users\\Arwielao\\AppData\\Local\\Temp\\ipykernel_22620\\50662512.py:1: SettingWithCopyWarning: \n",
      "A value is trying to be set on a copy of a slice from a DataFrame\n",
      "\n",
      "See the caveats in the documentation: https://pandas.pydata.org/pandas-docs/stable/user_guide/indexing.html#returning-a-view-versus-a-copy\n",
      "  grand_df.drop_duplicates(inplace=True, ignore_index=True)\n"
     ]
    }
   ],
   "source": [
    "grand_df.drop_duplicates(inplace=True, ignore_index=True)"
   ]
  },
  {
   "cell_type": "code",
   "execution_count": 80,
   "metadata": {},
   "outputs": [],
   "source": [
    "target = 'forwards_to_views'"
   ]
  },
  {
   "cell_type": "code",
   "execution_count": 81,
   "metadata": {},
   "outputs": [],
   "source": [
    "# cols_scal = grand_df.drop([target], axis=1).columns\n",
    "\n",
    "# scaler = StandardScaler()\n",
    "\n",
    "# grand_df[cols_scal] = pd.DataFrame(scaler.fit_transform(grand_df[cols_scal]), columns=cols_scal)\n"
   ]
  },
  {
   "cell_type": "code",
   "execution_count": 118,
   "metadata": {},
   "outputs": [
    {
     "data": {
      "text/plain": [
       "Index(['word_number_285', 'word_number_286', 'word_number_287',\n",
       "       'word_number_288', 'word_number_289', 'word_number_290',\n",
       "       'word_number_291', 'word_number_292', 'word_number_293',\n",
       "       'word_number_294', 'word_number_295', 'word_number_296',\n",
       "       'word_number_297', 'word_number_298', 'word_number_299',\n",
       "       'word_number_300', 'word_number_301', 'dtdays', 'day_of_month', 'h_std',\n",
       "       's_std', 'v_std', 'h_median', 's_median', 'v_median', 'h_min', 's_min',\n",
       "       'v_min', 'h_max', 's_max', 'v_max', 'morinig', 'day', 'evening',\n",
       "       'night', 'summer', 'autumn', 'winter', 'spring', 'r_mean', 'g_mean',\n",
       "       'b_mean', 'r_std', 'g_std', 'b_std'],\n",
       "      dtype='object')"
      ]
     },
     "execution_count": 118,
     "metadata": {},
     "output_type": "execute_result"
    }
   ],
   "source": [
    "grand_df.columns[1300:]"
   ]
  },
  {
   "cell_type": "code",
   "execution_count": 117,
   "metadata": {},
   "outputs": [],
   "source": [
    "grand_df.rename(columns={\"s_max.1\": \"v_max\"}, inplace=True)"
   ]
  },
  {
   "cell_type": "code",
   "execution_count": 119,
   "metadata": {},
   "outputs": [
    {
     "data": {
      "text/plain": [
       "array([-0.8304539 , -0.87612964, -0.67510196, ..., -0.66158888,\n",
       "       -0.75870708, -0.78183209])"
      ]
     },
     "execution_count": 119,
     "metadata": {},
     "output_type": "execute_result"
    }
   ],
   "source": [
    "y = np.array(grand_df[target])\n",
    "y"
   ]
  },
  {
   "cell_type": "code",
   "execution_count": 120,
   "metadata": {},
   "outputs": [],
   "source": [
    "\n",
    "X = grand_df.drop([target,'dtdays'], axis = 1)\n"
   ]
  },
  {
   "cell_type": "code",
   "execution_count": 121,
   "metadata": {},
   "outputs": [],
   "source": [
    "def print_metrics(y_train, y_train_predict, y_test, y_test_predict):\n",
    "    \n",
    "    print('Train R^2: {:.3f}'.format(metrics.r2_score(y_train, y_train_predict)))\n",
    "    \n",
    "    print('Train MAE: {:.3f}'.format(metrics.mean_absolute_error(y_train, y_train_predict)))\n",
    "    \n",
    "    print('Train MAPE: {:.3f}'.format(metrics.mean_absolute_percentage_error(y_train, y_train_predict)*100))\n",
    "    \n",
    "    print('\\n')\n",
    "    \n",
    "    print('Test R^2: {:.3f}'.format(metrics.r2_score(y_test, y_test_predict)))\n",
    "    \n",
    "    print('Test MAE: {:.3f}'.format(metrics.mean_absolute_error(y_test, y_test_predict)))\n",
    "    \n",
    "    print('Test MAPE: {:.3f}'.format(metrics.mean_absolute_percentage_error(y_test, y_test_predict)*100))"
   ]
  },
  {
   "cell_type": "code",
   "execution_count": 122,
   "metadata": {},
   "outputs": [],
   "source": [
    "X_train, X_test, y_train, y_test = train_test_split(X, y, test_size=0.2, shuffle=True, random_state=42)"
   ]
  },
  {
   "cell_type": "code",
   "execution_count": 123,
   "metadata": {},
   "outputs": [],
   "source": [
    "X_train.reset_index(inplace=True, drop=True)\n",
    "\n",
    "X_test.reset_index(inplace=True, drop=True)\n"
   ]
  },
  {
   "cell_type": "code",
   "execution_count": 124,
   "metadata": {},
   "outputs": [],
   "source": [
    "y_train, y_test = y_train.reshape(-1, 1), y_test.reshape(-1, 1)"
   ]
  },
  {
   "attachments": {},
   "cell_type": "markdown",
   "metadata": {},
   "source": [
    "# linear_model.LinearRegression"
   ]
  },
  {
   "cell_type": "code",
   "execution_count": 88,
   "metadata": {},
   "outputs": [
    {
     "name": "stderr",
     "output_type": "stream",
     "text": [
      "C:\\Users\\Arwielao\\AppData\\Local\\Temp\\ipykernel_22620\\1280981934.py:9: RuntimeWarning: overflow encountered in power\n",
      "  print_metrics(base ** (y_train), base ** y_train_pred, base ** (y_test), base ** y_test_pred)\n"
     ]
    },
    {
     "name": "stdout",
     "output_type": "stream",
     "text": [
      "Train R^2: 0.184\n",
      "Train MAE: 0.002\n",
      "Train MAPE: 36.956\n",
      "\n",
      "\n"
     ]
    },
    {
     "ename": "ValueError",
     "evalue": "Input contains infinity or a value too large for dtype('float64').",
     "output_type": "error",
     "traceback": [
      "\u001b[1;31m---------------------------------------------------------------------------\u001b[0m",
      "\u001b[1;31mValueError\u001b[0m                                Traceback (most recent call last)",
      "\u001b[1;32mc:\\Users\\Arwielao\\Python 3.10\\IDE\\skillfactory\\WB analisys\\TG\\TG addon\\tg_an_410-10-ml_addon3.ipynb Cell 23\u001b[0m in \u001b[0;36m<cell line: 9>\u001b[1;34m()\u001b[0m\n\u001b[0;32m      <a href='vscode-notebook-cell:/c%3A/Users/Arwielao/Python%203.10/IDE/skillfactory/WB%20analisys/TG/TG%20addon/tg_an_410-10-ml_addon3.ipynb#X26sZmlsZQ%3D%3D?line=4'>5</a>\u001b[0m y_train_pred \u001b[39m=\u001b[39m lr\u001b[39m.\u001b[39mpredict(X_train)\n\u001b[0;32m      <a href='vscode-notebook-cell:/c%3A/Users/Arwielao/Python%203.10/IDE/skillfactory/WB%20analisys/TG/TG%20addon/tg_an_410-10-ml_addon3.ipynb#X26sZmlsZQ%3D%3D?line=6'>7</a>\u001b[0m y_test_pred \u001b[39m=\u001b[39m lr\u001b[39m.\u001b[39mpredict(X_test)\n\u001b[1;32m----> <a href='vscode-notebook-cell:/c%3A/Users/Arwielao/Python%203.10/IDE/skillfactory/WB%20analisys/TG/TG%20addon/tg_an_410-10-ml_addon3.ipynb#X26sZmlsZQ%3D%3D?line=8'>9</a>\u001b[0m print_metrics(base \u001b[39m*\u001b[39;49m\u001b[39m*\u001b[39;49m (y_train), base \u001b[39m*\u001b[39;49m\u001b[39m*\u001b[39;49m y_train_pred, base \u001b[39m*\u001b[39;49m\u001b[39m*\u001b[39;49m (y_test), base \u001b[39m*\u001b[39;49m\u001b[39m*\u001b[39;49m y_test_pred)\n",
      "\u001b[1;32mc:\\Users\\Arwielao\\Python 3.10\\IDE\\skillfactory\\WB analisys\\TG\\TG addon\\tg_an_410-10-ml_addon3.ipynb Cell 23\u001b[0m in \u001b[0;36mprint_metrics\u001b[1;34m(y_train, y_train_predict, y_test, y_test_predict)\u001b[0m\n\u001b[0;32m      <a href='vscode-notebook-cell:/c%3A/Users/Arwielao/Python%203.10/IDE/skillfactory/WB%20analisys/TG/TG%20addon/tg_an_410-10-ml_addon3.ipynb#X26sZmlsZQ%3D%3D?line=6'>7</a>\u001b[0m \u001b[39mprint\u001b[39m(\u001b[39m'\u001b[39m\u001b[39mTrain MAPE: \u001b[39m\u001b[39m{:.3f}\u001b[39;00m\u001b[39m'\u001b[39m\u001b[39m.\u001b[39mformat(metrics\u001b[39m.\u001b[39mmean_absolute_percentage_error(y_train, y_train_predict)\u001b[39m*\u001b[39m\u001b[39m100\u001b[39m))\n\u001b[0;32m      <a href='vscode-notebook-cell:/c%3A/Users/Arwielao/Python%203.10/IDE/skillfactory/WB%20analisys/TG/TG%20addon/tg_an_410-10-ml_addon3.ipynb#X26sZmlsZQ%3D%3D?line=8'>9</a>\u001b[0m \u001b[39mprint\u001b[39m(\u001b[39m'\u001b[39m\u001b[39m\\n\u001b[39;00m\u001b[39m'\u001b[39m)\n\u001b[1;32m---> <a href='vscode-notebook-cell:/c%3A/Users/Arwielao/Python%203.10/IDE/skillfactory/WB%20analisys/TG/TG%20addon/tg_an_410-10-ml_addon3.ipynb#X26sZmlsZQ%3D%3D?line=10'>11</a>\u001b[0m \u001b[39mprint\u001b[39m(\u001b[39m'\u001b[39m\u001b[39mTest R^2: \u001b[39m\u001b[39m{:.3f}\u001b[39;00m\u001b[39m'\u001b[39m\u001b[39m.\u001b[39mformat(metrics\u001b[39m.\u001b[39;49mr2_score(y_test, y_test_predict)))\n\u001b[0;32m     <a href='vscode-notebook-cell:/c%3A/Users/Arwielao/Python%203.10/IDE/skillfactory/WB%20analisys/TG/TG%20addon/tg_an_410-10-ml_addon3.ipynb#X26sZmlsZQ%3D%3D?line=12'>13</a>\u001b[0m \u001b[39mprint\u001b[39m(\u001b[39m'\u001b[39m\u001b[39mTest MAE: \u001b[39m\u001b[39m{:.3f}\u001b[39;00m\u001b[39m'\u001b[39m\u001b[39m.\u001b[39mformat(metrics\u001b[39m.\u001b[39mmean_absolute_error(y_test, y_test_predict)))\n\u001b[0;32m     <a href='vscode-notebook-cell:/c%3A/Users/Arwielao/Python%203.10/IDE/skillfactory/WB%20analisys/TG/TG%20addon/tg_an_410-10-ml_addon3.ipynb#X26sZmlsZQ%3D%3D?line=14'>15</a>\u001b[0m \u001b[39mprint\u001b[39m(\u001b[39m'\u001b[39m\u001b[39mTest MAPE: \u001b[39m\u001b[39m{:.3f}\u001b[39;00m\u001b[39m'\u001b[39m\u001b[39m.\u001b[39mformat(metrics\u001b[39m.\u001b[39mmean_absolute_percentage_error(y_test, y_test_predict)\u001b[39m*\u001b[39m\u001b[39m100\u001b[39m))\n",
      "File \u001b[1;32m~\\AppData\\Roaming\\Python\\Python310\\site-packages\\sklearn\\metrics\\_regression.py:911\u001b[0m, in \u001b[0;36mr2_score\u001b[1;34m(y_true, y_pred, sample_weight, multioutput, force_finite)\u001b[0m\n\u001b[0;32m    784\u001b[0m \u001b[39mdef\u001b[39;00m \u001b[39mr2_score\u001b[39m(\n\u001b[0;32m    785\u001b[0m     y_true,\n\u001b[0;32m    786\u001b[0m     y_pred,\n\u001b[1;32m   (...)\u001b[0m\n\u001b[0;32m    790\u001b[0m     force_finite\u001b[39m=\u001b[39m\u001b[39mTrue\u001b[39;00m,\n\u001b[0;32m    791\u001b[0m ):\n\u001b[0;32m    792\u001b[0m     \u001b[39m\"\"\":math:`R^2` (coefficient of determination) regression score function.\u001b[39;00m\n\u001b[0;32m    793\u001b[0m \n\u001b[0;32m    794\u001b[0m \u001b[39m    Best possible score is 1.0 and it can be negative (because the\u001b[39;00m\n\u001b[1;32m   (...)\u001b[0m\n\u001b[0;32m    909\u001b[0m \u001b[39m    -inf\u001b[39;00m\n\u001b[0;32m    910\u001b[0m \u001b[39m    \"\"\"\u001b[39;00m\n\u001b[1;32m--> 911\u001b[0m     y_type, y_true, y_pred, multioutput \u001b[39m=\u001b[39m _check_reg_targets(\n\u001b[0;32m    912\u001b[0m         y_true, y_pred, multioutput\n\u001b[0;32m    913\u001b[0m     )\n\u001b[0;32m    914\u001b[0m     check_consistent_length(y_true, y_pred, sample_weight)\n\u001b[0;32m    916\u001b[0m     \u001b[39mif\u001b[39;00m _num_samples(y_pred) \u001b[39m<\u001b[39m \u001b[39m2\u001b[39m:\n",
      "File \u001b[1;32m~\\AppData\\Roaming\\Python\\Python310\\site-packages\\sklearn\\metrics\\_regression.py:102\u001b[0m, in \u001b[0;36m_check_reg_targets\u001b[1;34m(y_true, y_pred, multioutput, dtype)\u001b[0m\n\u001b[0;32m    100\u001b[0m check_consistent_length(y_true, y_pred)\n\u001b[0;32m    101\u001b[0m y_true \u001b[39m=\u001b[39m check_array(y_true, ensure_2d\u001b[39m=\u001b[39m\u001b[39mFalse\u001b[39;00m, dtype\u001b[39m=\u001b[39mdtype)\n\u001b[1;32m--> 102\u001b[0m y_pred \u001b[39m=\u001b[39m check_array(y_pred, ensure_2d\u001b[39m=\u001b[39;49m\u001b[39mFalse\u001b[39;49;00m, dtype\u001b[39m=\u001b[39;49mdtype)\n\u001b[0;32m    104\u001b[0m \u001b[39mif\u001b[39;00m y_true\u001b[39m.\u001b[39mndim \u001b[39m==\u001b[39m \u001b[39m1\u001b[39m:\n\u001b[0;32m    105\u001b[0m     y_true \u001b[39m=\u001b[39m y_true\u001b[39m.\u001b[39mreshape((\u001b[39m-\u001b[39m\u001b[39m1\u001b[39m, \u001b[39m1\u001b[39m))\n",
      "File \u001b[1;32m~\\AppData\\Roaming\\Python\\Python310\\site-packages\\sklearn\\utils\\validation.py:899\u001b[0m, in \u001b[0;36mcheck_array\u001b[1;34m(array, accept_sparse, accept_large_sparse, dtype, order, copy, force_all_finite, ensure_2d, allow_nd, ensure_min_samples, ensure_min_features, estimator, input_name)\u001b[0m\n\u001b[0;32m    893\u001b[0m         \u001b[39mraise\u001b[39;00m \u001b[39mValueError\u001b[39;00m(\n\u001b[0;32m    894\u001b[0m             \u001b[39m\"\u001b[39m\u001b[39mFound array with dim \u001b[39m\u001b[39m%d\u001b[39;00m\u001b[39m. \u001b[39m\u001b[39m%s\u001b[39;00m\u001b[39m expected <= 2.\u001b[39m\u001b[39m\"\u001b[39m\n\u001b[0;32m    895\u001b[0m             \u001b[39m%\u001b[39m (array\u001b[39m.\u001b[39mndim, estimator_name)\n\u001b[0;32m    896\u001b[0m         )\n\u001b[0;32m    898\u001b[0m     \u001b[39mif\u001b[39;00m force_all_finite:\n\u001b[1;32m--> 899\u001b[0m         _assert_all_finite(\n\u001b[0;32m    900\u001b[0m             array,\n\u001b[0;32m    901\u001b[0m             input_name\u001b[39m=\u001b[39;49minput_name,\n\u001b[0;32m    902\u001b[0m             estimator_name\u001b[39m=\u001b[39;49mestimator_name,\n\u001b[0;32m    903\u001b[0m             allow_nan\u001b[39m=\u001b[39;49mforce_all_finite \u001b[39m==\u001b[39;49m \u001b[39m\"\u001b[39;49m\u001b[39mallow-nan\u001b[39;49m\u001b[39m\"\u001b[39;49m,\n\u001b[0;32m    904\u001b[0m         )\n\u001b[0;32m    906\u001b[0m \u001b[39mif\u001b[39;00m ensure_min_samples \u001b[39m>\u001b[39m \u001b[39m0\u001b[39m:\n\u001b[0;32m    907\u001b[0m     n_samples \u001b[39m=\u001b[39m _num_samples(array)\n",
      "File \u001b[1;32m~\\AppData\\Roaming\\Python\\Python310\\site-packages\\sklearn\\utils\\validation.py:146\u001b[0m, in \u001b[0;36m_assert_all_finite\u001b[1;34m(X, allow_nan, msg_dtype, estimator_name, input_name)\u001b[0m\n\u001b[0;32m    124\u001b[0m         \u001b[39mif\u001b[39;00m (\n\u001b[0;32m    125\u001b[0m             \u001b[39mnot\u001b[39;00m allow_nan\n\u001b[0;32m    126\u001b[0m             \u001b[39mand\u001b[39;00m estimator_name\n\u001b[1;32m   (...)\u001b[0m\n\u001b[0;32m    130\u001b[0m             \u001b[39m# Improve the error message on how to handle missing values in\u001b[39;00m\n\u001b[0;32m    131\u001b[0m             \u001b[39m# scikit-learn.\u001b[39;00m\n\u001b[0;32m    132\u001b[0m             msg_err \u001b[39m+\u001b[39m\u001b[39m=\u001b[39m (\n\u001b[0;32m    133\u001b[0m                 \u001b[39mf\u001b[39m\u001b[39m\"\u001b[39m\u001b[39m\\n\u001b[39;00m\u001b[39m{\u001b[39;00mestimator_name\u001b[39m}\u001b[39;00m\u001b[39m does not accept missing values\u001b[39m\u001b[39m\"\u001b[39m\n\u001b[0;32m    134\u001b[0m                 \u001b[39m\"\u001b[39m\u001b[39m encoded as NaN natively. For supervised learning, you might want\u001b[39m\u001b[39m\"\u001b[39m\n\u001b[1;32m   (...)\u001b[0m\n\u001b[0;32m    144\u001b[0m                 \u001b[39m\"\u001b[39m\u001b[39m#estimators-that-handle-nan-values\u001b[39m\u001b[39m\"\u001b[39m\n\u001b[0;32m    145\u001b[0m             )\n\u001b[1;32m--> 146\u001b[0m         \u001b[39mraise\u001b[39;00m \u001b[39mValueError\u001b[39;00m(msg_err)\n\u001b[0;32m    148\u001b[0m \u001b[39m# for object dtype data, we only check for NaNs (GH-13254)\u001b[39;00m\n\u001b[0;32m    149\u001b[0m \u001b[39melif\u001b[39;00m X\u001b[39m.\u001b[39mdtype \u001b[39m==\u001b[39m np\u001b[39m.\u001b[39mdtype(\u001b[39m\"\u001b[39m\u001b[39mobject\u001b[39m\u001b[39m\"\u001b[39m) \u001b[39mand\u001b[39;00m \u001b[39mnot\u001b[39;00m allow_nan:\n",
      "\u001b[1;31mValueError\u001b[0m: Input contains infinity or a value too large for dtype('float64')."
     ]
    }
   ],
   "source": [
    "\n",
    "lr = linear_model.LinearRegression()\n",
    "\n",
    "lr.fit(X_train, y_train)\n",
    "\n",
    "y_train_pred = lr.predict(X_train)\n",
    "\n",
    "y_test_pred = lr.predict(X_test)\n",
    "\n",
    "print_metrics(base ** (y_train), base ** y_train_pred, base ** (y_test), base ** y_test_pred)"
   ]
  },
  {
   "attachments": {},
   "cell_type": "markdown",
   "metadata": {},
   "source": [
    "# linear_model.Lasso"
   ]
  },
  {
   "cell_type": "code",
   "execution_count": 89,
   "metadata": {},
   "outputs": [
    {
     "name": "stdout",
     "output_type": "stream",
     "text": [
      "Train R^2: 0.007\n",
      "Train MAE: 0.003\n",
      "Train MAPE: 42.681\n",
      "\n",
      "\n",
      "Test R^2: 0.005\n",
      "Test MAE: 0.003\n",
      "Test MAPE: 42.457\n"
     ]
    }
   ],
   "source": [
    "model_with_reg =  linear_model.Lasso(max_iter = 4000)\n",
    "\n",
    "model_with_reg.fit(X_train,y_train)\n",
    "\n",
    "y_train_pred = (model_with_reg.predict(X_train))\n",
    "\n",
    "y_test_pred = (model_with_reg.predict(X_test))\n",
    "\n",
    "print_metrics(base ** (y_train), base ** y_train_pred, base ** (y_test), base ** y_test_pred)"
   ]
  },
  {
   "attachments": {},
   "cell_type": "markdown",
   "metadata": {},
   "source": [
    "# linear_model.Ridge"
   ]
  },
  {
   "cell_type": "code",
   "execution_count": 102,
   "metadata": {},
   "outputs": [
    {
     "name": "stdout",
     "output_type": "stream",
     "text": [
      "Train R^2: 0.178\n",
      "Train MAE: 0.002\n",
      "Train MAPE: 37.276\n",
      "\n",
      "\n",
      "Test R^2: 0.109\n",
      "Test MAE: 0.003\n",
      "Test MAPE: 38.543\n"
     ]
    }
   ],
   "source": [
    "model_with_reg =  linear_model.Ridge(alpha = 1, max_iter = 10000)\n",
    "\n",
    "model_with_reg.fit(X_train,y_train)\n",
    "\n",
    "y_train_pred = (model_with_reg.predict(X_train))\n",
    "\n",
    "y_test_pred = (model_with_reg.predict(X_test))\n",
    "\n",
    "print_metrics(base ** (y_train), base ** y_train_pred, base ** (y_test), base ** y_test_pred)"
   ]
  },
  {
   "cell_type": "code",
   "execution_count": 103,
   "metadata": {},
   "outputs": [
    {
     "data": {
      "text/plain": [
       "((5963,), (5964, 1), (5964, 1))"
      ]
     },
     "execution_count": 103,
     "metadata": {},
     "output_type": "execute_result"
    }
   ],
   "source": [
    "np.unique(y_test_pred).shape , y_test_pred.shape, y_test.shape"
   ]
  },
  {
   "cell_type": "code",
   "execution_count": 104,
   "metadata": {},
   "outputs": [],
   "source": [
    "import pickle\n",
    "\n",
    "with open('model_with_reg_ridge.pkl', 'wb') as output:\n",
    "    \n",
    "    pickle.dump(model_with_reg, output)"
   ]
  },
  {
   "attachments": {},
   "cell_type": "markdown",
   "metadata": {},
   "source": [
    "# DecisionTreeRegressor"
   ]
  },
  {
   "cell_type": "code",
   "execution_count": 92,
   "metadata": {},
   "outputs": [
    {
     "name": "stdout",
     "output_type": "stream",
     "text": [
      "Train R^2: 0.168\n",
      "Train MAE: 0.002\n",
      "Train MAPE: 37.632\n",
      "\n",
      "\n",
      "Test R^2: 0.104\n",
      "Test MAE: 0.003\n",
      "Test MAPE: 39.270\n"
     ]
    }
   ],
   "source": [
    "regr1 = DecisionTreeRegressor(max_depth=10, min_samples_leaf = 105, random_state=42)\n",
    "\n",
    "regr1.fit(X_train, y_train)\n",
    "\n",
    "y_train_pred = (regr1.predict(X_train))\n",
    "\n",
    "y_test_pred = (regr1.predict(X_test))\n",
    "\n",
    "print_metrics(base ** (y_train), (base ** y_train_pred), base ** (y_test), base ** y_test_pred)"
   ]
  },
  {
   "cell_type": "code",
   "execution_count": 93,
   "metadata": {},
   "outputs": [
    {
     "data": {
      "text/plain": [
       "((120,), (5964,), (5964, 1))"
      ]
     },
     "execution_count": 93,
     "metadata": {},
     "output_type": "execute_result"
    }
   ],
   "source": [
    "np.unique(y_test_pred).shape , y_test_pred.shape, y_test.shape"
   ]
  },
  {
   "cell_type": "code",
   "execution_count": 94,
   "metadata": {},
   "outputs": [
    {
     "name": "stdout",
     "output_type": "stream",
     "text": [
      "Train R^2: 0.093\n",
      "Train MAE: 0.003\n",
      "Train MAPE: 39.817\n",
      "\n",
      "\n",
      "Test R^2: 0.076\n",
      "Test MAE: 129.594\n",
      "Test MAPE: 40.136\n"
     ]
    }
   ],
   "source": [
    "regr1 = DecisionTreeRegressor(max_depth=5, min_samples_leaf = 5, min_samples_split = 2, random_state=42)\n",
    "\n",
    "regr1.fit(X_train, y_train)\n",
    "\n",
    "y_train_pred = (regr1.predict(X_train))\n",
    "\n",
    "y_test_pred = (regr1.predict(X_test))\n",
    "\n",
    "print_metrics(base ** (y_train), (base ** y_train_pred), np.round(base ** (y_test) * 50000), np.round(base ** y_test_pred * 50000))"
   ]
  },
  {
   "cell_type": "code",
   "execution_count": null,
   "metadata": {},
   "outputs": [
    {
     "name": "stderr",
     "output_type": "stream",
     "text": [
      "\u001b[32m[I 2023-03-14 11:26:38,917]\u001b[0m A new study created in memory with name: DecisionTreeRegressor\u001b[0m\n"
     ]
    },
    {
     "name": "stdout",
     "output_type": "stream",
     "text": [
      "CPU times: total: 0 ns\n",
      "Wall time: 0 ns\n"
     ]
    },
    {
     "ename": "KeyboardInterrupt",
     "evalue": "",
     "output_type": "error",
     "traceback": [
      "\u001b[1;31m---------------------------------------------------------------------------\u001b[0m",
      "\u001b[1;31mKeyboardInterrupt\u001b[0m                         Traceback (most recent call last)",
      "\u001b[1;32mc:\\Users\\Arwielao\\Python 3.10\\IDE\\skillfactory\\WB analisys\\TG\\TG addon\\tg_an_410-10-ml_addon3.ipynb Cell 27\u001b[0m in \u001b[0;36m<cell line: 39>\u001b[1;34m()\u001b[0m\n\u001b[0;32m     <a href='vscode-notebook-cell:/c%3A/Users/Arwielao/Python%203.10/IDE/skillfactory/WB%20analisys/TG/TG%20addon/tg_an_410-10-ml_addon3.ipynb#X35sZmlsZQ%3D%3D?line=34'>35</a>\u001b[0m \u001b[39m# ищем лучшую комбинацию гиперпараметров n_trials раз\u001b[39;00m\n\u001b[0;32m     <a href='vscode-notebook-cell:/c%3A/Users/Arwielao/Python%203.10/IDE/skillfactory/WB%20analisys/TG/TG%20addon/tg_an_410-10-ml_addon3.ipynb#X35sZmlsZQ%3D%3D?line=36'>37</a>\u001b[0m optuna\u001b[39m.\u001b[39mlogging\u001b[39m.\u001b[39mset_verbosity(optuna\u001b[39m.\u001b[39mlogging\u001b[39m.\u001b[39mFATAL)\n\u001b[1;32m---> <a href='vscode-notebook-cell:/c%3A/Users/Arwielao/Python%203.10/IDE/skillfactory/WB%20analisys/TG/TG%20addon/tg_an_410-10-ml_addon3.ipynb#X35sZmlsZQ%3D%3D?line=38'>39</a>\u001b[0m study\u001b[39m.\u001b[39;49moptimize(optuna_rf, n_trials\u001b[39m=\u001b[39;49m\u001b[39m30\u001b[39;49m)\n",
      "File \u001b[1;32m~\\AppData\\Roaming\\Python\\Python310\\site-packages\\optuna\\study\\study.py:419\u001b[0m, in \u001b[0;36mStudy.optimize\u001b[1;34m(self, func, n_trials, timeout, n_jobs, catch, callbacks, gc_after_trial, show_progress_bar)\u001b[0m\n\u001b[0;32m    315\u001b[0m \u001b[39mdef\u001b[39;00m \u001b[39moptimize\u001b[39m(\n\u001b[0;32m    316\u001b[0m     \u001b[39mself\u001b[39m,\n\u001b[0;32m    317\u001b[0m     func: ObjectiveFuncType,\n\u001b[1;32m   (...)\u001b[0m\n\u001b[0;32m    324\u001b[0m     show_progress_bar: \u001b[39mbool\u001b[39m \u001b[39m=\u001b[39m \u001b[39mFalse\u001b[39;00m,\n\u001b[0;32m    325\u001b[0m ) \u001b[39m-\u001b[39m\u001b[39m>\u001b[39m \u001b[39mNone\u001b[39;00m:\n\u001b[0;32m    326\u001b[0m     \u001b[39m\"\"\"Optimize an objective function.\u001b[39;00m\n\u001b[0;32m    327\u001b[0m \n\u001b[0;32m    328\u001b[0m \u001b[39m    Optimization is done by choosing a suitable set of hyperparameter values from a given\u001b[39;00m\n\u001b[1;32m   (...)\u001b[0m\n\u001b[0;32m    416\u001b[0m \u001b[39m            If nested invocation of this method occurs.\u001b[39;00m\n\u001b[0;32m    417\u001b[0m \u001b[39m    \"\"\"\u001b[39;00m\n\u001b[1;32m--> 419\u001b[0m     _optimize(\n\u001b[0;32m    420\u001b[0m         study\u001b[39m=\u001b[39;49m\u001b[39mself\u001b[39;49m,\n\u001b[0;32m    421\u001b[0m         func\u001b[39m=\u001b[39;49mfunc,\n\u001b[0;32m    422\u001b[0m         n_trials\u001b[39m=\u001b[39;49mn_trials,\n\u001b[0;32m    423\u001b[0m         timeout\u001b[39m=\u001b[39;49mtimeout,\n\u001b[0;32m    424\u001b[0m         n_jobs\u001b[39m=\u001b[39;49mn_jobs,\n\u001b[0;32m    425\u001b[0m         catch\u001b[39m=\u001b[39;49mcatch,\n\u001b[0;32m    426\u001b[0m         callbacks\u001b[39m=\u001b[39;49mcallbacks,\n\u001b[0;32m    427\u001b[0m         gc_after_trial\u001b[39m=\u001b[39;49mgc_after_trial,\n\u001b[0;32m    428\u001b[0m         show_progress_bar\u001b[39m=\u001b[39;49mshow_progress_bar,\n\u001b[0;32m    429\u001b[0m     )\n",
      "File \u001b[1;32m~\\AppData\\Roaming\\Python\\Python310\\site-packages\\optuna\\study\\_optimize.py:66\u001b[0m, in \u001b[0;36m_optimize\u001b[1;34m(study, func, n_trials, timeout, n_jobs, catch, callbacks, gc_after_trial, show_progress_bar)\u001b[0m\n\u001b[0;32m     64\u001b[0m \u001b[39mtry\u001b[39;00m:\n\u001b[0;32m     65\u001b[0m     \u001b[39mif\u001b[39;00m n_jobs \u001b[39m==\u001b[39m \u001b[39m1\u001b[39m:\n\u001b[1;32m---> 66\u001b[0m         _optimize_sequential(\n\u001b[0;32m     67\u001b[0m             study,\n\u001b[0;32m     68\u001b[0m             func,\n\u001b[0;32m     69\u001b[0m             n_trials,\n\u001b[0;32m     70\u001b[0m             timeout,\n\u001b[0;32m     71\u001b[0m             catch,\n\u001b[0;32m     72\u001b[0m             callbacks,\n\u001b[0;32m     73\u001b[0m             gc_after_trial,\n\u001b[0;32m     74\u001b[0m             reseed_sampler_rng\u001b[39m=\u001b[39;49m\u001b[39mFalse\u001b[39;49;00m,\n\u001b[0;32m     75\u001b[0m             time_start\u001b[39m=\u001b[39;49m\u001b[39mNone\u001b[39;49;00m,\n\u001b[0;32m     76\u001b[0m             progress_bar\u001b[39m=\u001b[39;49mprogress_bar,\n\u001b[0;32m     77\u001b[0m         )\n\u001b[0;32m     78\u001b[0m     \u001b[39melse\u001b[39;00m:\n\u001b[0;32m     79\u001b[0m         \u001b[39mif\u001b[39;00m n_jobs \u001b[39m==\u001b[39m \u001b[39m-\u001b[39m\u001b[39m1\u001b[39m:\n",
      "File \u001b[1;32m~\\AppData\\Roaming\\Python\\Python310\\site-packages\\optuna\\study\\_optimize.py:160\u001b[0m, in \u001b[0;36m_optimize_sequential\u001b[1;34m(study, func, n_trials, timeout, catch, callbacks, gc_after_trial, reseed_sampler_rng, time_start, progress_bar)\u001b[0m\n\u001b[0;32m    157\u001b[0m         \u001b[39mbreak\u001b[39;00m\n\u001b[0;32m    159\u001b[0m \u001b[39mtry\u001b[39;00m:\n\u001b[1;32m--> 160\u001b[0m     frozen_trial \u001b[39m=\u001b[39m _run_trial(study, func, catch)\n\u001b[0;32m    161\u001b[0m \u001b[39mfinally\u001b[39;00m:\n\u001b[0;32m    162\u001b[0m     \u001b[39m# The following line mitigates memory problems that can be occurred in some\u001b[39;00m\n\u001b[0;32m    163\u001b[0m     \u001b[39m# environments (e.g., services that use computing containers such as CircleCI).\u001b[39;00m\n\u001b[0;32m    164\u001b[0m     \u001b[39m# Please refer to the following PR for further details:\u001b[39;00m\n\u001b[0;32m    165\u001b[0m     \u001b[39m# https://github.com/optuna/optuna/pull/325.\u001b[39;00m\n\u001b[0;32m    166\u001b[0m     \u001b[39mif\u001b[39;00m gc_after_trial:\n",
      "File \u001b[1;32m~\\AppData\\Roaming\\Python\\Python310\\site-packages\\optuna\\study\\_optimize.py:234\u001b[0m, in \u001b[0;36m_run_trial\u001b[1;34m(study, func, catch)\u001b[0m\n\u001b[0;32m    227\u001b[0m         \u001b[39massert\u001b[39;00m \u001b[39mFalse\u001b[39;00m, \u001b[39m\"\u001b[39m\u001b[39mShould not reach.\u001b[39m\u001b[39m\"\u001b[39m\n\u001b[0;32m    229\u001b[0m \u001b[39mif\u001b[39;00m (\n\u001b[0;32m    230\u001b[0m     frozen_trial\u001b[39m.\u001b[39mstate \u001b[39m==\u001b[39m TrialState\u001b[39m.\u001b[39mFAIL\n\u001b[0;32m    231\u001b[0m     \u001b[39mand\u001b[39;00m func_err \u001b[39mis\u001b[39;00m \u001b[39mnot\u001b[39;00m \u001b[39mNone\u001b[39;00m\n\u001b[0;32m    232\u001b[0m     \u001b[39mand\u001b[39;00m \u001b[39mnot\u001b[39;00m \u001b[39misinstance\u001b[39m(func_err, catch)\n\u001b[0;32m    233\u001b[0m ):\n\u001b[1;32m--> 234\u001b[0m     \u001b[39mraise\u001b[39;00m func_err\n\u001b[0;32m    235\u001b[0m \u001b[39mreturn\u001b[39;00m frozen_trial\n",
      "File \u001b[1;32m~\\AppData\\Roaming\\Python\\Python310\\site-packages\\optuna\\study\\_optimize.py:196\u001b[0m, in \u001b[0;36m_run_trial\u001b[1;34m(study, func, catch)\u001b[0m\n\u001b[0;32m    194\u001b[0m \u001b[39mwith\u001b[39;00m get_heartbeat_thread(trial\u001b[39m.\u001b[39m_trial_id, study\u001b[39m.\u001b[39m_storage):\n\u001b[0;32m    195\u001b[0m     \u001b[39mtry\u001b[39;00m:\n\u001b[1;32m--> 196\u001b[0m         value_or_values \u001b[39m=\u001b[39m func(trial)\n\u001b[0;32m    197\u001b[0m     \u001b[39mexcept\u001b[39;00m exceptions\u001b[39m.\u001b[39mTrialPruned \u001b[39mas\u001b[39;00m e:\n\u001b[0;32m    198\u001b[0m         \u001b[39m# TODO(mamu): Handle multi-objective cases.\u001b[39;00m\n\u001b[0;32m    199\u001b[0m         state \u001b[39m=\u001b[39m TrialState\u001b[39m.\u001b[39mPRUNED\n",
      "\u001b[1;32mc:\\Users\\Arwielao\\Python 3.10\\IDE\\skillfactory\\WB analisys\\TG\\TG addon\\tg_an_410-10-ml_addon3.ipynb Cell 27\u001b[0m in \u001b[0;36moptuna_rf\u001b[1;34m(trial)\u001b[0m\n\u001b[0;32m     <a href='vscode-notebook-cell:/c%3A/Users/Arwielao/Python%203.10/IDE/skillfactory/WB%20analisys/TG/TG%20addon/tg_an_410-10-ml_addon3.ipynb#X35sZmlsZQ%3D%3D?line=9'>10</a>\u001b[0m model \u001b[39m=\u001b[39m DecisionTreeRegressor(\n\u001b[0;32m     <a href='vscode-notebook-cell:/c%3A/Users/Arwielao/Python%203.10/IDE/skillfactory/WB%20analisys/TG/TG%20addon/tg_an_410-10-ml_addon3.ipynb#X35sZmlsZQ%3D%3D?line=10'>11</a>\u001b[0m                               \n\u001b[0;32m     <a href='vscode-notebook-cell:/c%3A/Users/Arwielao/Python%203.10/IDE/skillfactory/WB%20analisys/TG/TG%20addon/tg_an_410-10-ml_addon3.ipynb#X35sZmlsZQ%3D%3D?line=11'>12</a>\u001b[0m                               max_depth\u001b[39m=\u001b[39mmax_depth,\n\u001b[1;32m   (...)\u001b[0m\n\u001b[0;32m     <a href='vscode-notebook-cell:/c%3A/Users/Arwielao/Python%203.10/IDE/skillfactory/WB%20analisys/TG/TG%20addon/tg_an_410-10-ml_addon3.ipynb#X35sZmlsZQ%3D%3D?line=17'>18</a>\u001b[0m                               random_state\u001b[39m=\u001b[39m\u001b[39m42\u001b[39m\n\u001b[0;32m     <a href='vscode-notebook-cell:/c%3A/Users/Arwielao/Python%203.10/IDE/skillfactory/WB%20analisys/TG/TG%20addon/tg_an_410-10-ml_addon3.ipynb#X35sZmlsZQ%3D%3D?line=18'>19</a>\u001b[0m                               )\n\u001b[0;32m     <a href='vscode-notebook-cell:/c%3A/Users/Arwielao/Python%203.10/IDE/skillfactory/WB%20analisys/TG/TG%20addon/tg_an_410-10-ml_addon3.ipynb#X35sZmlsZQ%3D%3D?line=19'>20</a>\u001b[0m \u001b[39m# обучаем модель\u001b[39;00m\n\u001b[1;32m---> <a href='vscode-notebook-cell:/c%3A/Users/Arwielao/Python%203.10/IDE/skillfactory/WB%20analisys/TG/TG%20addon/tg_an_410-10-ml_addon3.ipynb#X35sZmlsZQ%3D%3D?line=20'>21</a>\u001b[0m model\u001b[39m.\u001b[39;49mfit(X_train, y_train)\n\u001b[0;32m     <a href='vscode-notebook-cell:/c%3A/Users/Arwielao/Python%203.10/IDE/skillfactory/WB%20analisys/TG/TG%20addon/tg_an_410-10-ml_addon3.ipynb#X35sZmlsZQ%3D%3D?line=22'>23</a>\u001b[0m score \u001b[39m=\u001b[39m metrics\u001b[39m.\u001b[39mmean_absolute_percentage_error(base \u001b[39m*\u001b[39m\u001b[39m*\u001b[39m y_test, base \u001b[39m*\u001b[39m\u001b[39m*\u001b[39m model\u001b[39m.\u001b[39mpredict(X_test)) \u001b[39m*\u001b[39m \u001b[39m100\u001b[39m\n\u001b[0;32m     <a href='vscode-notebook-cell:/c%3A/Users/Arwielao/Python%203.10/IDE/skillfactory/WB%20analisys/TG/TG%20addon/tg_an_410-10-ml_addon3.ipynb#X35sZmlsZQ%3D%3D?line=24'>25</a>\u001b[0m \u001b[39mreturn\u001b[39;00m score\n",
      "File \u001b[1;32m~\\AppData\\Roaming\\Python\\Python310\\site-packages\\sklearn\\tree\\_classes.py:1342\u001b[0m, in \u001b[0;36mDecisionTreeRegressor.fit\u001b[1;34m(self, X, y, sample_weight, check_input)\u001b[0m\n\u001b[0;32m   1313\u001b[0m \u001b[39mdef\u001b[39;00m \u001b[39mfit\u001b[39m(\u001b[39mself\u001b[39m, X, y, sample_weight\u001b[39m=\u001b[39m\u001b[39mNone\u001b[39;00m, check_input\u001b[39m=\u001b[39m\u001b[39mTrue\u001b[39;00m):\n\u001b[0;32m   1314\u001b[0m     \u001b[39m\"\"\"Build a decision tree regressor from the training set (X, y).\u001b[39;00m\n\u001b[0;32m   1315\u001b[0m \n\u001b[0;32m   1316\u001b[0m \u001b[39m    Parameters\u001b[39;00m\n\u001b[1;32m   (...)\u001b[0m\n\u001b[0;32m   1339\u001b[0m \u001b[39m        Fitted estimator.\u001b[39;00m\n\u001b[0;32m   1340\u001b[0m \u001b[39m    \"\"\"\u001b[39;00m\n\u001b[1;32m-> 1342\u001b[0m     \u001b[39msuper\u001b[39;49m()\u001b[39m.\u001b[39;49mfit(\n\u001b[0;32m   1343\u001b[0m         X,\n\u001b[0;32m   1344\u001b[0m         y,\n\u001b[0;32m   1345\u001b[0m         sample_weight\u001b[39m=\u001b[39;49msample_weight,\n\u001b[0;32m   1346\u001b[0m         check_input\u001b[39m=\u001b[39;49mcheck_input,\n\u001b[0;32m   1347\u001b[0m     )\n\u001b[0;32m   1348\u001b[0m     \u001b[39mreturn\u001b[39;00m \u001b[39mself\u001b[39m\n",
      "File \u001b[1;32m~\\AppData\\Roaming\\Python\\Python310\\site-packages\\sklearn\\tree\\_classes.py:172\u001b[0m, in \u001b[0;36mBaseDecisionTree.fit\u001b[1;34m(self, X, y, sample_weight, check_input)\u001b[0m\n\u001b[0;32m    170\u001b[0m check_X_params \u001b[39m=\u001b[39m \u001b[39mdict\u001b[39m(dtype\u001b[39m=\u001b[39mDTYPE, accept_sparse\u001b[39m=\u001b[39m\u001b[39m\"\u001b[39m\u001b[39mcsc\u001b[39m\u001b[39m\"\u001b[39m)\n\u001b[0;32m    171\u001b[0m check_y_params \u001b[39m=\u001b[39m \u001b[39mdict\u001b[39m(ensure_2d\u001b[39m=\u001b[39m\u001b[39mFalse\u001b[39;00m, dtype\u001b[39m=\u001b[39m\u001b[39mNone\u001b[39;00m)\n\u001b[1;32m--> 172\u001b[0m X, y \u001b[39m=\u001b[39m \u001b[39mself\u001b[39;49m\u001b[39m.\u001b[39;49m_validate_data(\n\u001b[0;32m    173\u001b[0m     X, y, validate_separately\u001b[39m=\u001b[39;49m(check_X_params, check_y_params)\n\u001b[0;32m    174\u001b[0m )\n\u001b[0;32m    175\u001b[0m \u001b[39mif\u001b[39;00m issparse(X):\n\u001b[0;32m    176\u001b[0m     X\u001b[39m.\u001b[39msort_indices()\n",
      "File \u001b[1;32m~\\AppData\\Roaming\\Python\\Python310\\site-packages\\sklearn\\base.py:591\u001b[0m, in \u001b[0;36mBaseEstimator._validate_data\u001b[1;34m(self, X, y, reset, validate_separately, **check_params)\u001b[0m\n\u001b[0;32m    589\u001b[0m \u001b[39mif\u001b[39;00m \u001b[39m\"\u001b[39m\u001b[39mestimator\u001b[39m\u001b[39m\"\u001b[39m \u001b[39mnot\u001b[39;00m \u001b[39min\u001b[39;00m check_X_params:\n\u001b[0;32m    590\u001b[0m     check_X_params \u001b[39m=\u001b[39m {\u001b[39m*\u001b[39m\u001b[39m*\u001b[39mdefault_check_params, \u001b[39m*\u001b[39m\u001b[39m*\u001b[39mcheck_X_params}\n\u001b[1;32m--> 591\u001b[0m X \u001b[39m=\u001b[39m check_array(X, input_name\u001b[39m=\u001b[39m\u001b[39m\"\u001b[39m\u001b[39mX\u001b[39m\u001b[39m\"\u001b[39m, \u001b[39m*\u001b[39m\u001b[39m*\u001b[39mcheck_X_params)\n\u001b[0;32m    592\u001b[0m \u001b[39mif\u001b[39;00m \u001b[39m\"\u001b[39m\u001b[39mestimator\u001b[39m\u001b[39m\"\u001b[39m \u001b[39mnot\u001b[39;00m \u001b[39min\u001b[39;00m check_y_params:\n\u001b[0;32m    593\u001b[0m     check_y_params \u001b[39m=\u001b[39m {\u001b[39m*\u001b[39m\u001b[39m*\u001b[39mdefault_check_params, \u001b[39m*\u001b[39m\u001b[39m*\u001b[39mcheck_y_params}\n",
      "File \u001b[1;32m~\\AppData\\Roaming\\Python\\Python310\\site-packages\\sklearn\\utils\\validation.py:856\u001b[0m, in \u001b[0;36mcheck_array\u001b[1;34m(array, accept_sparse, accept_large_sparse, dtype, order, copy, force_all_finite, ensure_2d, allow_nd, ensure_min_samples, ensure_min_features, estimator, input_name)\u001b[0m\n\u001b[0;32m    854\u001b[0m         array \u001b[39m=\u001b[39m array\u001b[39m.\u001b[39mastype(dtype, casting\u001b[39m=\u001b[39m\u001b[39m\"\u001b[39m\u001b[39munsafe\u001b[39m\u001b[39m\"\u001b[39m, copy\u001b[39m=\u001b[39m\u001b[39mFalse\u001b[39;00m)\n\u001b[0;32m    855\u001b[0m     \u001b[39melse\u001b[39;00m:\n\u001b[1;32m--> 856\u001b[0m         array \u001b[39m=\u001b[39m np\u001b[39m.\u001b[39;49masarray(array, order\u001b[39m=\u001b[39;49morder, dtype\u001b[39m=\u001b[39;49mdtype)\n\u001b[0;32m    857\u001b[0m \u001b[39mexcept\u001b[39;00m ComplexWarning \u001b[39mas\u001b[39;00m complex_warning:\n\u001b[0;32m    858\u001b[0m     \u001b[39mraise\u001b[39;00m \u001b[39mValueError\u001b[39;00m(\n\u001b[0;32m    859\u001b[0m         \u001b[39m\"\u001b[39m\u001b[39mComplex data not supported\u001b[39m\u001b[39m\\n\u001b[39;00m\u001b[39m{}\u001b[39;00m\u001b[39m\\n\u001b[39;00m\u001b[39m\"\u001b[39m\u001b[39m.\u001b[39mformat(array)\n\u001b[0;32m    860\u001b[0m     ) \u001b[39mfrom\u001b[39;00m \u001b[39mcomplex_warning\u001b[39;00m\n",
      "File \u001b[1;32m~\\AppData\\Roaming\\Python\\Python310\\site-packages\\pandas\\core\\generic.py:2070\u001b[0m, in \u001b[0;36mNDFrame.__array__\u001b[1;34m(self, dtype)\u001b[0m\n\u001b[0;32m   2069\u001b[0m \u001b[39mdef\u001b[39;00m \u001b[39m__array__\u001b[39m(\u001b[39mself\u001b[39m, dtype: npt\u001b[39m.\u001b[39mDTypeLike \u001b[39m|\u001b[39m \u001b[39mNone\u001b[39;00m \u001b[39m=\u001b[39m \u001b[39mNone\u001b[39;00m) \u001b[39m-\u001b[39m\u001b[39m>\u001b[39m np\u001b[39m.\u001b[39mndarray:\n\u001b[1;32m-> 2070\u001b[0m     \u001b[39mreturn\u001b[39;00m np\u001b[39m.\u001b[39;49masarray(\u001b[39mself\u001b[39;49m\u001b[39m.\u001b[39;49m_values, dtype\u001b[39m=\u001b[39;49mdtype)\n",
      "\u001b[1;31mKeyboardInterrupt\u001b[0m: "
     ]
    }
   ],
   "source": [
    "def optuna_rf(trial):\n",
    "  # задаем пространства поиска гиперпараметров\n",
    "  max_depth = trial.suggest_int('max_depth', 2, 100, 1)\n",
    "  \n",
    "  min_samples_leaf = trial.suggest_int('min_samples_leaf', 10, 1000, 1)\n",
    "  \n",
    "  min_samples_split = trial.suggest_int('min_samples_split', 2, 100, 1)\n",
    "\n",
    "  # создаем модель\n",
    "  model = DecisionTreeRegressor(\n",
    "                                \n",
    "                                max_depth=max_depth,\n",
    "                                \n",
    "                                min_samples_leaf=min_samples_leaf,\n",
    "                                \n",
    "                                min_samples_split=min_samples_split,\n",
    "                                \n",
    "                                random_state=42\n",
    "                                \n",
    "                                )\n",
    "  # обучаем модель\n",
    "  model.fit(X_train, y_train)\n",
    "  \n",
    "  score = metrics.mean_absolute_percentage_error(base ** y_test, base ** model.predict(X_test)) * 100\n",
    "\n",
    "  return score\n",
    "\n",
    "%time\n",
    "\n",
    "# cоздаем объект исследования\n",
    "\n",
    "# можем напрямую указать, что нам необходимо максимизировать метрику direction=\"maximize\"\n",
    "\n",
    "study = optuna.create_study(study_name=\"DecisionTreeRegressor\", direction=\"minimize\")\n",
    "\n",
    "# ищем лучшую комбинацию гиперпараметров n_trials раз\n",
    "\n",
    "optuna.logging.set_verbosity(optuna.logging.FATAL)\n",
    "\n",
    "study.optimize(optuna_rf, n_trials=30)"
   ]
  },
  {
   "cell_type": "code",
   "execution_count": null,
   "metadata": {},
   "outputs": [
    {
     "name": "stdout",
     "output_type": "stream",
     "text": [
      "Train R^2: 0.150\n",
      "Train MAE: 0.003\n",
      "Train MAPE: 38.745\n",
      "\n",
      "\n",
      "Test R^2: 0.125\n",
      "Test MAE: 0.003\n",
      "Test MAPE: 40.217\n"
     ]
    }
   ],
   "source": [
    "regr1 = DecisionTreeRegressor(max_depth=study.best_params['max_depth'], min_samples_leaf = study.best_params['min_samples_leaf'],  min_samples_split = study.best_params['min_samples_split'], random_state=42)\n",
    "\n",
    "regr1.fit(X_train, y_train)\n",
    "\n",
    "y_train_pred = (regr1.predict(X_train))\n",
    "\n",
    "y_test_pred = (regr1.predict(X_test))\n",
    "\n",
    "# print_metrics(1 * (y_train), (1 * y_train_pred), 1 * (y_test), 1 * y_test_pred)\n",
    "\n",
    "print_metrics(base ** y_train, base ** y_train_pred, base ** y_test, base ** y_test_pred)"
   ]
  },
  {
   "attachments": {},
   "cell_type": "markdown",
   "metadata": {},
   "source": [
    "# GradientBoostingRegressor"
   ]
  },
  {
   "cell_type": "code",
   "execution_count": 105,
   "metadata": {},
   "outputs": [
    {
     "name": "stderr",
     "output_type": "stream",
     "text": [
      "C:\\Users\\Arwielao\\AppData\\Roaming\\Python\\Python310\\site-packages\\sklearn\\ensemble\\_gb.py:570: DataConversionWarning: A column-vector y was passed when a 1d array was expected. Please change the shape of y to (n_samples, ), for example using ravel().\n",
      "  y = column_or_1d(y, warn=True)\n"
     ]
    },
    {
     "name": "stdout",
     "output_type": "stream",
     "text": [
      "Train R^2: 0.204\n",
      "Train MAE: 0.002\n",
      "Train MAPE: 36.432\n",
      "\n",
      "\n",
      "Test R^2: 0.150\n",
      "Test MAE: 0.002\n",
      "Test MAPE: 37.884\n"
     ]
    }
   ],
   "source": [
    "from sklearn.ensemble import GradientBoostingRegressor\n",
    "\n",
    "gb = GradientBoostingRegressor(\n",
    "\n",
    "    max_depth = 3,\n",
    "\n",
    "    min_samples_leaf = 10,\n",
    "\n",
    "    n_estimators = 200,\n",
    "\n",
    "    random_state = 42 \n",
    "\n",
    ")\n",
    "\n",
    "gb.fit(X_train, y_train)\n",
    "\n",
    "# gb_pred  = gb.predict(X_test)\n",
    "\n",
    "\n",
    "y_train_pred = (gb.predict(X_train))\n",
    "\n",
    "y_test_pred = (gb.predict(X_test))\n",
    "\n",
    "print_metrics(base ** (y_train), base ** y_train_pred, base ** (y_test), base ** y_test_pred)"
   ]
  },
  {
   "cell_type": "code",
   "execution_count": 106,
   "metadata": {},
   "outputs": [
    {
     "data": {
      "text/plain": [
       "((5953,), (5964,), (5964, 1))"
      ]
     },
     "execution_count": 106,
     "metadata": {},
     "output_type": "execute_result"
    }
   ],
   "source": [
    "np.unique(y_test_pred).shape , y_test_pred.shape, y_test.shape"
   ]
  },
  {
   "cell_type": "code",
   "execution_count": 107,
   "metadata": {},
   "outputs": [],
   "source": [
    "import pickle\n",
    "\n",
    "with open('gb.pkl', 'wb') as output:\n",
    "    \n",
    "    pickle.dump(gb, output)\n",
    "\n"
   ]
  },
  {
   "attachments": {},
   "cell_type": "markdown",
   "metadata": {},
   "source": [
    "# XGBRegressor"
   ]
  },
  {
   "cell_type": "code",
   "execution_count": 108,
   "metadata": {},
   "outputs": [
    {
     "name": "stdout",
     "output_type": "stream",
     "text": [
      "Train R^2: 0.473\n",
      "Train MAE: 0.002\n",
      "Train MAPE: 27.764\n",
      "\n",
      "\n",
      "Test R^2: 0.159\n",
      "Test MAE: 0.002\n",
      "Test MAPE: 37.536\n"
     ]
    }
   ],
   "source": [
    "from xgboost import XGBRegressor\n",
    "\n",
    "xgbt = XGBRegressor(random_state = 26)\n",
    "\n",
    "xgbt.fit(X_train, y_train)\n",
    "\n",
    "y_train_pred = xgbt.predict(X_train)\n",
    "\n",
    "y_test_pred = xgbt.predict(X_test)\n",
    "\n",
    "print_metrics(base ** (y_train), base ** y_train_pred, base ** (y_test), base ** y_test_pred)"
   ]
  },
  {
   "attachments": {},
   "cell_type": "markdown",
   "metadata": {},
   "source": [
    "# CatBoostRegressor"
   ]
  },
  {
   "cell_type": "code",
   "execution_count": 129,
   "metadata": {},
   "outputs": [
    {
     "name": "stdout",
     "output_type": "stream",
     "text": [
      "Train R^2: 0.393\n",
      "Train MAE: 0.002\n",
      "Train MAPE: 30.649\n",
      "\n",
      "\n",
      "Test R^2: 0.190\n",
      "Test MAE: 0.002\n",
      "Test MAPE: 36.789\n"
     ]
    }
   ],
   "source": [
    "from catboost import CatBoostRegressor\n",
    "\n",
    "cbr = CatBoostRegressor(verbose=False, random_state=42, loss_function='RMSE')\n",
    "\n",
    "cbr.fit(X_train, y_train)\n",
    "\n",
    "y_train_pred = cbr.predict(X_train)\n",
    "\n",
    "y_test_pred = cbr.predict(X_test)\n",
    "\n",
    "print_metrics(base ** (y_train), base ** y_train_pred, base ** (y_test), base ** y_test_pred)"
   ]
  },
  {
   "attachments": {},
   "cell_type": "markdown",
   "metadata": {},
   "source": [
    "# Best regressor is ... CatBoostRegressor"
   ]
  },
  {
   "attachments": {},
   "cell_type": "markdown",
   "metadata": {},
   "source": [
    "# Saving model for predict in bot"
   ]
  },
  {
   "cell_type": "code",
   "execution_count": 126,
   "metadata": {},
   "outputs": [],
   "source": [
    "import pickle\n",
    "\n",
    "with open('cbr.pkl', 'wb') as output:\n",
    "    \n",
    "    pickle.dump(cbr, output)"
   ]
  },
  {
   "cell_type": "code",
   "execution_count": 130,
   "metadata": {},
   "outputs": [
    {
     "data": {
      "text/plain": [
       "array([1.80081066, 4.26186608, 5.04402081, ..., 1.22038802, 0.7422953 ,\n",
       "       0.66445054])"
      ]
     },
     "execution_count": 130,
     "metadata": {},
     "output_type": "execute_result"
    }
   ],
   "source": [
    "cbr.feature_importances_\n"
   ]
  },
  {
   "attachments": {},
   "cell_type": "markdown",
   "metadata": {},
   "source": [
    "# Feature importance"
   ]
  },
  {
   "cell_type": "code",
   "execution_count": 131,
   "metadata": {},
   "outputs": [],
   "source": [
    "importance = pd.DataFrame({'features': list(grand_df.drop([target,'dtdays'], axis=1).columns), 'importance': cbr.feature_importances_}).sort_values(by='importance', ascending=False) "
   ]
  },
  {
   "cell_type": "code",
   "execution_count": 134,
   "metadata": {},
   "outputs": [
    {
     "data": {
      "text/html": [
       "<div>\n",
       "<style scoped>\n",
       "    .dataframe tbody tr th:only-of-type {\n",
       "        vertical-align: middle;\n",
       "    }\n",
       "\n",
       "    .dataframe tbody tr th {\n",
       "        vertical-align: top;\n",
       "    }\n",
       "\n",
       "    .dataframe thead th {\n",
       "        text-align: right;\n",
       "    }\n",
       "</style>\n",
       "<table border=\"1\" class=\"dataframe\">\n",
       "  <thead>\n",
       "    <tr style=\"text-align: right;\">\n",
       "      <th></th>\n",
       "      <th>features</th>\n",
       "      <th>importance</th>\n",
       "    </tr>\n",
       "  </thead>\n",
       "  <tbody>\n",
       "    <tr>\n",
       "      <th>2</th>\n",
       "      <td>h</td>\n",
       "      <td>5.044021</td>\n",
       "    </tr>\n",
       "    <tr>\n",
       "      <th>1</th>\n",
       "      <td>w</td>\n",
       "      <td>4.261866</td>\n",
       "    </tr>\n",
       "    <tr>\n",
       "      <th>1235</th>\n",
       "      <td>MessageEntityTextUrl</td>\n",
       "      <td>3.790689</td>\n",
       "    </tr>\n",
       "    <tr>\n",
       "      <th>1229</th>\n",
       "      <td>MessageEntityBold</td>\n",
       "      <td>3.518880</td>\n",
       "    </tr>\n",
       "    <tr>\n",
       "      <th>8</th>\n",
       "      <td>day_of_year</td>\n",
       "      <td>3.357995</td>\n",
       "    </tr>\n",
       "    <tr>\n",
       "      <th>5</th>\n",
       "      <td>minute</td>\n",
       "      <td>2.959939</td>\n",
       "    </tr>\n",
       "    <tr>\n",
       "      <th>998</th>\n",
       "      <td>list_of_count_colors</td>\n",
       "      <td>2.414779</td>\n",
       "    </tr>\n",
       "    <tr>\n",
       "      <th>10</th>\n",
       "      <td>positive</td>\n",
       "      <td>2.340904</td>\n",
       "    </tr>\n",
       "    <tr>\n",
       "      <th>4</th>\n",
       "      <td>second</td>\n",
       "      <td>2.239669</td>\n",
       "    </tr>\n",
       "    <tr>\n",
       "      <th>1006</th>\n",
       "      <td>word_number_4</td>\n",
       "      <td>2.189590</td>\n",
       "    </tr>\n",
       "    <tr>\n",
       "      <th>11</th>\n",
       "      <td>negative</td>\n",
       "      <td>2.154013</td>\n",
       "    </tr>\n",
       "    <tr>\n",
       "      <th>1004</th>\n",
       "      <td>word_number_2</td>\n",
       "      <td>1.932985</td>\n",
       "    </tr>\n",
       "    <tr>\n",
       "      <th>13</th>\n",
       "      <td>skip</td>\n",
       "      <td>1.850047</td>\n",
       "    </tr>\n",
       "    <tr>\n",
       "      <th>6</th>\n",
       "      <td>hour</td>\n",
       "      <td>1.805748</td>\n",
       "    </tr>\n",
       "    <tr>\n",
       "      <th>0</th>\n",
       "      <td>duration</td>\n",
       "      <td>1.800811</td>\n",
       "    </tr>\n",
       "    <tr>\n",
       "      <th>3</th>\n",
       "      <td>weight_to_height</td>\n",
       "      <td>1.783129</td>\n",
       "    </tr>\n",
       "    <tr>\n",
       "      <th>12</th>\n",
       "      <td>neutral</td>\n",
       "      <td>1.742538</td>\n",
       "    </tr>\n",
       "    <tr>\n",
       "      <th>14</th>\n",
       "      <td>speech</td>\n",
       "      <td>1.712102</td>\n",
       "    </tr>\n",
       "    <tr>\n",
       "      <th>985</th>\n",
       "      <td>blue-green</td>\n",
       "      <td>1.657100</td>\n",
       "    </tr>\n",
       "    <tr>\n",
       "      <th>832</th>\n",
       "      <td>🐻in_msg</td>\n",
       "      <td>1.462174</td>\n",
       "    </tr>\n",
       "    <tr>\n",
       "      <th>1003</th>\n",
       "      <td>word_number_1</td>\n",
       "      <td>1.421729</td>\n",
       "    </tr>\n",
       "    <tr>\n",
       "      <th>903</th>\n",
       "      <td>🌍in_msg</td>\n",
       "      <td>1.293081</td>\n",
       "    </tr>\n",
       "    <tr>\n",
       "      <th>994</th>\n",
       "      <td>green</td>\n",
       "      <td>1.232643</td>\n",
       "    </tr>\n",
       "    <tr>\n",
       "      <th>1340</th>\n",
       "      <td>r_std</td>\n",
       "      <td>1.220388</td>\n",
       "    </tr>\n",
       "    <tr>\n",
       "      <th>992</th>\n",
       "      <td>pink_3</td>\n",
       "      <td>1.123327</td>\n",
       "    </tr>\n",
       "    <tr>\n",
       "      <th>989</th>\n",
       "      <td>orange</td>\n",
       "      <td>1.010065</td>\n",
       "    </tr>\n",
       "    <tr>\n",
       "      <th>1005</th>\n",
       "      <td>word_number_3</td>\n",
       "      <td>1.001038</td>\n",
       "    </tr>\n",
       "    <tr>\n",
       "      <th>1321</th>\n",
       "      <td>s_median</td>\n",
       "      <td>0.956739</td>\n",
       "    </tr>\n",
       "    <tr>\n",
       "      <th>1007</th>\n",
       "      <td>word_number_5</td>\n",
       "      <td>0.938662</td>\n",
       "    </tr>\n",
       "    <tr>\n",
       "      <th>984</th>\n",
       "      <td>blue</td>\n",
       "      <td>0.935205</td>\n",
       "    </tr>\n",
       "  </tbody>\n",
       "</table>\n",
       "</div>"
      ],
      "text/plain": [
       "                  features  importance\n",
       "2                        h    5.044021\n",
       "1                        w    4.261866\n",
       "1235  MessageEntityTextUrl    3.790689\n",
       "1229     MessageEntityBold    3.518880\n",
       "8              day_of_year    3.357995\n",
       "5                   minute    2.959939\n",
       "998   list_of_count_colors    2.414779\n",
       "10                positive    2.340904\n",
       "4                   second    2.239669\n",
       "1006         word_number_4    2.189590\n",
       "11                negative    2.154013\n",
       "1004         word_number_2    1.932985\n",
       "13                    skip    1.850047\n",
       "6                     hour    1.805748\n",
       "0                 duration    1.800811\n",
       "3         weight_to_height    1.783129\n",
       "12                 neutral    1.742538\n",
       "14                  speech    1.712102\n",
       "985             blue-green    1.657100\n",
       "832                🐻in_msg    1.462174\n",
       "1003         word_number_1    1.421729\n",
       "903                🌍in_msg    1.293081\n",
       "994                  green    1.232643\n",
       "1340                 r_std    1.220388\n",
       "992                 pink_3    1.123327\n",
       "989                 orange    1.010065\n",
       "1005         word_number_3    1.001038\n",
       "1321              s_median    0.956739\n",
       "1007         word_number_5    0.938662\n",
       "984                   blue    0.935205"
      ]
     },
     "execution_count": 134,
     "metadata": {},
     "output_type": "execute_result"
    }
   ],
   "source": [
    "importance[:30]"
   ]
  },
  {
   "cell_type": "code",
   "execution_count": 148,
   "metadata": {},
   "outputs": [
    {
     "data": {
      "text/plain": [
       "(array([0., 1., 2., 3., 4., 5., 6.]),\n",
       " [Text(0, 0, ''),\n",
       "  Text(0, 0, ''),\n",
       "  Text(0, 0, ''),\n",
       "  Text(0, 0, ''),\n",
       "  Text(0, 0, ''),\n",
       "  Text(0, 0, ''),\n",
       "  Text(0, 0, '')])"
      ]
     },
     "execution_count": 148,
     "metadata": {},
     "output_type": "execute_result"
    },
    {
     "name": "stderr",
     "output_type": "stream",
     "text": [
      "C:\\Users\\Arwielao\\AppData\\Roaming\\Python\\Python310\\site-packages\\IPython\\core\\pylabtools.py:151: UserWarning: Glyph 128059 (\\N{BEAR FACE}) missing from current font.\n",
      "  fig.canvas.print_figure(bytes_io, **kw)\n",
      "C:\\Users\\Arwielao\\AppData\\Roaming\\Python\\Python310\\site-packages\\IPython\\core\\pylabtools.py:151: UserWarning: Glyph 127757 (\\N{EARTH GLOBE EUROPE-AFRICA}) missing from current font.\n",
      "  fig.canvas.print_figure(bytes_io, **kw)\n"
     ]
    },
    {
     "data": {
      "image/png": "[encoded data removed]",
      "text/plain": [
       "<Figure size 1800x576 with 1 Axes>"
      ]
     },
     "metadata": {
      "needs_background": "light"
     },
     "output_type": "display_data"
    }
   ],
   "source": [
    "plt.figure(figsize=(25,8))\n",
    "\n",
    "sns.barplot(data=importance[:50], x='features', y='importance')\n",
    "\n",
    "plt.xticks(rotation=90, size=16)\n",
    "\n",
    "plt.yticks(size=16)"
   ]
  },
  {
   "cell_type": "code",
   "execution_count": 149,
   "metadata": {},
   "outputs": [],
   "source": [
    "importance.to_csv('importance.csv', index=False)"
   ]
  },
  {
   "cell_type": "code",
   "execution_count": null,
   "metadata": {},
   "outputs": [
    {
     "ename": "SyntaxError",
     "evalue": "invalid syntax (353815310.py, line 1)",
     "output_type": "error",
     "traceback": [
      "\u001b[1;36m  Input \u001b[1;32mIn [140]\u001b[1;36m\u001b[0m\n\u001b[1;33m    -----------\u001b[0m\n\u001b[1;37m               ^\u001b[0m\n\u001b[1;31mSyntaxError\u001b[0m\u001b[1;31m:\u001b[0m invalid syntax\n"
     ]
    }
   ],
   "source": [
    "-----------"
   ]
  },
  {
   "cell_type": "code",
   "execution_count": null,
   "metadata": {},
   "outputs": [],
   "source": [
    "-----------"
   ]
  },
  {
   "cell_type": "code",
   "execution_count": null,
   "metadata": {},
   "outputs": [],
   "source": [
    "importance = pd.DataFrame({'features': list(grand_df.drop([target], axis=1).columns), 'importance': regr1.feature_importances_}).sort_values(by='importance', ascending=False) "
   ]
  },
  {
   "cell_type": "code",
   "execution_count": null,
   "metadata": {},
   "outputs": [
    {
     "data": {
      "text/html": [
       "<div>\n",
       "<style scoped>\n",
       "    .dataframe tbody tr th:only-of-type {\n",
       "        vertical-align: middle;\n",
       "    }\n",
       "\n",
       "    .dataframe tbody tr th {\n",
       "        vertical-align: top;\n",
       "    }\n",
       "\n",
       "    .dataframe thead th {\n",
       "        text-align: right;\n",
       "    }\n",
       "</style>\n",
       "<table border=\"1\" class=\"dataframe\">\n",
       "  <thead>\n",
       "    <tr style=\"text-align: right;\">\n",
       "      <th></th>\n",
       "      <th>features</th>\n",
       "      <th>importance</th>\n",
       "    </tr>\n",
       "  </thead>\n",
       "  <tbody>\n",
       "    <tr>\n",
       "      <th>2</th>\n",
       "      <td>h</td>\n",
       "      <td>0.304991</td>\n",
       "    </tr>\n",
       "    <tr>\n",
       "      <th>1316</th>\n",
       "      <td>dtdays</td>\n",
       "      <td>0.165129</td>\n",
       "    </tr>\n",
       "    <tr>\n",
       "      <th>4</th>\n",
       "      <td>second</td>\n",
       "      <td>0.079806</td>\n",
       "    </tr>\n",
       "    <tr>\n",
       "      <th>903</th>\n",
       "      <td>🌍in_msg</td>\n",
       "      <td>0.059537</td>\n",
       "    </tr>\n",
       "    <tr>\n",
       "      <th>3</th>\n",
       "      <td>weight_to_height</td>\n",
       "      <td>0.039626</td>\n",
       "    </tr>\n",
       "    <tr>\n",
       "      <th>1229</th>\n",
       "      <td>MessageEntityBold</td>\n",
       "      <td>0.033722</td>\n",
       "    </tr>\n",
       "    <tr>\n",
       "      <th>998</th>\n",
       "      <td>list_of_count_colors</td>\n",
       "      <td>0.025665</td>\n",
       "    </tr>\n",
       "    <tr>\n",
       "      <th>8</th>\n",
       "      <td>day_of_year</td>\n",
       "      <td>0.024766</td>\n",
       "    </tr>\n",
       "    <tr>\n",
       "      <th>832</th>\n",
       "      <td>🐻in_msg</td>\n",
       "      <td>0.020455</td>\n",
       "    </tr>\n",
       "    <tr>\n",
       "      <th>35</th>\n",
       "      <td>👉in_msg</td>\n",
       "      <td>0.012806</td>\n",
       "    </tr>\n",
       "    <tr>\n",
       "      <th>14</th>\n",
       "      <td>speech</td>\n",
       "      <td>0.012598</td>\n",
       "    </tr>\n",
       "    <tr>\n",
       "      <th>10</th>\n",
       "      <td>positive</td>\n",
       "      <td>0.012435</td>\n",
       "    </tr>\n",
       "    <tr>\n",
       "      <th>1003</th>\n",
       "      <td>word_number_1</td>\n",
       "      <td>0.011787</td>\n",
       "    </tr>\n",
       "    <tr>\n",
       "      <th>11</th>\n",
       "      <td>negative</td>\n",
       "      <td>0.011762</td>\n",
       "    </tr>\n",
       "    <tr>\n",
       "      <th>1006</th>\n",
       "      <td>word_number_4</td>\n",
       "      <td>0.011577</td>\n",
       "    </tr>\n",
       "    <tr>\n",
       "      <th>5</th>\n",
       "      <td>minute</td>\n",
       "      <td>0.011363</td>\n",
       "    </tr>\n",
       "    <tr>\n",
       "      <th>992</th>\n",
       "      <td>pink_3</td>\n",
       "      <td>0.011118</td>\n",
       "    </tr>\n",
       "    <tr>\n",
       "      <th>1</th>\n",
       "      <td>w</td>\n",
       "      <td>0.010984</td>\n",
       "    </tr>\n",
       "    <tr>\n",
       "      <th>1235</th>\n",
       "      <td>MessageEntityTextUrl</td>\n",
       "      <td>0.010100</td>\n",
       "    </tr>\n",
       "    <tr>\n",
       "      <th>986</th>\n",
       "      <td>purple</td>\n",
       "      <td>0.010066</td>\n",
       "    </tr>\n",
       "    <tr>\n",
       "      <th>1338</th>\n",
       "      <td>r_mean</td>\n",
       "      <td>0.009769</td>\n",
       "    </tr>\n",
       "    <tr>\n",
       "      <th>996</th>\n",
       "      <td>white</td>\n",
       "      <td>0.009123</td>\n",
       "    </tr>\n",
       "    <tr>\n",
       "      <th>999</th>\n",
       "      <td>re_lemmas_count</td>\n",
       "      <td>0.008497</td>\n",
       "    </tr>\n",
       "    <tr>\n",
       "      <th>1322</th>\n",
       "      <td>s_median</td>\n",
       "      <td>0.008203</td>\n",
       "    </tr>\n",
       "    <tr>\n",
       "      <th>1005</th>\n",
       "      <td>word_number_3</td>\n",
       "      <td>0.008177</td>\n",
       "    </tr>\n",
       "  </tbody>\n",
       "</table>\n",
       "</div>"
      ],
      "text/plain": [
       "                  features  importance\n",
       "2                        h    0.304991\n",
       "1316                dtdays    0.165129\n",
       "4                   second    0.079806\n",
       "903                🌍in_msg    0.059537\n",
       "3         weight_to_height    0.039626\n",
       "1229     MessageEntityBold    0.033722\n",
       "998   list_of_count_colors    0.025665\n",
       "8              day_of_year    0.024766\n",
       "832                🐻in_msg    0.020455\n",
       "35                 👉in_msg    0.012806\n",
       "14                  speech    0.012598\n",
       "10                positive    0.012435\n",
       "1003         word_number_1    0.011787\n",
       "11                negative    0.011762\n",
       "1006         word_number_4    0.011577\n",
       "5                   minute    0.011363\n",
       "992                 pink_3    0.011118\n",
       "1                        w    0.010984\n",
       "1235  MessageEntityTextUrl    0.010100\n",
       "986                 purple    0.010066\n",
       "1338                r_mean    0.009769\n",
       "996                  white    0.009123\n",
       "999        re_lemmas_count    0.008497\n",
       "1322              s_median    0.008203\n",
       "1005         word_number_3    0.008177"
      ]
     },
     "execution_count": 67,
     "metadata": {},
     "output_type": "execute_result"
    }
   ],
   "source": [
    "importance.head(25\n",
    "                )"
   ]
  },
  {
   "cell_type": "code",
   "execution_count": null,
   "metadata": {},
   "outputs": [],
   "source": [
    "--------"
   ]
  },
  {
   "cell_type": "code",
   "execution_count": null,
   "metadata": {},
   "outputs": [
    {
     "name": "stderr",
     "output_type": "stream",
     "text": [
      "\u001b[32m[I 2023-03-13 16:38:04,796]\u001b[0m A new study created in memory with name: DecisionTreeRegressor\u001b[0m\n"
     ]
    },
    {
     "name": "stdout",
     "output_type": "stream",
     "text": [
      "CPU times: total: 0 ns\n",
      "Wall time: 997 µs\n"
     ]
    }
   ],
   "source": [
    "def optuna_rf(trial):\n",
    "  # задаем пространства поиска гиперпараметров\n",
    "  max_depth = trial.suggest_int('max_depth', 2, 100, 1)\n",
    "  \n",
    "  min_samples_leaf = trial.suggest_int('min_samples_leaf', 10, 1000, 1)\n",
    "  \n",
    "  min_samples_split = trial.suggest_int('min_samples_split', 2, 100, 1)\n",
    "\n",
    "  # создаем модель\n",
    "  model = DecisionTreeRegressor(\n",
    "                                max_depth=max_depth,\n",
    "                                min_samples_leaf=min_samples_leaf,\n",
    "                                min_samples_split=min_samples_split,\n",
    "                                random_state=42\n",
    "                                )\n",
    "  # обучаем модель\n",
    "  model.fit(X_train, y_train)\n",
    "  \n",
    "  score = metrics.mean_absolute_percentage_error(base ** y_test, base ** model.predict(X_test)) * 100\n",
    "\n",
    "  return score\n",
    "%time\n",
    "# cоздаем объект исследования\n",
    "# можем напрямую указать, что нам необходимо максимизировать метрику direction=\"maximize\"\n",
    "\n",
    "study = optuna.create_study(study_name=\"DecisionTreeRegressor\", direction=\"minimize\")\n",
    "# ищем лучшую комбинацию гиперпараметров n_trials раз\n",
    "\n",
    "optuna.logging.set_verbosity(optuna.logging.FATAL)\n",
    "\n",
    "study.optimize(optuna_rf, n_trials=30)"
   ]
  },
  {
   "cell_type": "code",
   "execution_count": null,
   "metadata": {},
   "outputs": [
    {
     "name": "stdout",
     "output_type": "stream",
     "text": [
      "Train R^2: 0.171\n",
      "Train MAE: 0.002\n",
      "Train MAPE: 37.514\n",
      "\n",
      "\n",
      "Test R^2: 0.108\n",
      "Test MAE: 0.003\n",
      "Test MAPE: 39.089\n"
     ]
    }
   ],
   "source": [
    "regr1 = DecisionTreeRegressor(max_depth=study.best_params['max_depth'], min_samples_leaf = study.best_params['min_samples_leaf'],  min_samples_split = study.best_params['min_samples_split'], random_state=42)\n",
    "\n",
    "regr1.fit(X_train, y_train)\n",
    "\n",
    "y_train_pred = (regr1.predict(X_train))\n",
    "\n",
    "y_test_pred = (regr1.predict(X_test))\n",
    "\n",
    "# print_metrics(1 * (y_train), (1 * y_train_pred), 1 * (y_test), 1 * y_test_pred)\n",
    "\n",
    "print_metrics(base ** y_train, base ** y_train_pred, base ** y_test, base ** y_test_pred)"
   ]
  },
  {
   "cell_type": "code",
   "execution_count": null,
   "metadata": {},
   "outputs": [
    {
     "ename": "SyntaxError",
     "evalue": "invalid syntax (3311633845.py, line 1)",
     "output_type": "error",
     "traceback": [
      "\u001b[1;36m  Input \u001b[1;32mIn [54]\u001b[1;36m\u001b[0m\n\u001b[1;33m    -----\u001b[0m\n\u001b[1;37m         ^\u001b[0m\n\u001b[1;31mSyntaxError\u001b[0m\u001b[1;31m:\u001b[0m invalid syntax\n"
     ]
    }
   ],
   "source": [
    "-----"
   ]
  },
  {
   "cell_type": "code",
   "execution_count": null,
   "metadata": {},
   "outputs": [
    {
     "name": "stdout",
     "output_type": "stream",
     "text": [
      "CPU times: total: 0 ns\n",
      "Wall time: 0 ns\n"
     ]
    },
    {
     "ename": "KeyboardInterrupt",
     "evalue": "",
     "output_type": "error",
     "traceback": [
      "\u001b[1;31m---------------------------------------------------------------------------\u001b[0m",
      "\u001b[1;31mKeyboardInterrupt\u001b[0m                         Traceback (most recent call last)",
      "\u001b[1;32mc:\\Users\\Arwielao\\Python 3.10\\IDE\\skillfactory\\WB analisys\\TG\\TG addon\\tg_an_410-10-ml_addon.ipynb Cell 33\u001b[0m in \u001b[0;36m<cell line: 31>\u001b[1;34m()\u001b[0m\n\u001b[0;32m     <a href='vscode-notebook-cell:/c%3A/Users/Arwielao/Python%203.10/IDE/skillfactory/WB%20analisys/TG/TG%20addon/tg_an_410-10-ml_addon.ipynb#Y212sZmlsZQ%3D%3D?line=26'>27</a>\u001b[0m \u001b[39m# ищем лучшую комбинацию гиперпараметров n_trials раз\u001b[39;00m\n\u001b[0;32m     <a href='vscode-notebook-cell:/c%3A/Users/Arwielao/Python%203.10/IDE/skillfactory/WB%20analisys/TG/TG%20addon/tg_an_410-10-ml_addon.ipynb#Y212sZmlsZQ%3D%3D?line=28'>29</a>\u001b[0m optuna\u001b[39m.\u001b[39mlogging\u001b[39m.\u001b[39mset_verbosity(optuna\u001b[39m.\u001b[39mlogging\u001b[39m.\u001b[39mFATAL)\n\u001b[1;32m---> <a href='vscode-notebook-cell:/c%3A/Users/Arwielao/Python%203.10/IDE/skillfactory/WB%20analisys/TG/TG%20addon/tg_an_410-10-ml_addon.ipynb#Y212sZmlsZQ%3D%3D?line=30'>31</a>\u001b[0m study\u001b[39m.\u001b[39;49moptimize(optuna_rf, n_trials\u001b[39m=\u001b[39;49m\u001b[39m20\u001b[39;49m)\n",
      "File \u001b[1;32m~\\AppData\\Roaming\\Python\\Python310\\site-packages\\optuna\\study\\study.py:419\u001b[0m, in \u001b[0;36mStudy.optimize\u001b[1;34m(self, func, n_trials, timeout, n_jobs, catch, callbacks, gc_after_trial, show_progress_bar)\u001b[0m\n\u001b[0;32m    315\u001b[0m \u001b[39mdef\u001b[39;00m \u001b[39moptimize\u001b[39m(\n\u001b[0;32m    316\u001b[0m     \u001b[39mself\u001b[39m,\n\u001b[0;32m    317\u001b[0m     func: ObjectiveFuncType,\n\u001b[1;32m   (...)\u001b[0m\n\u001b[0;32m    324\u001b[0m     show_progress_bar: \u001b[39mbool\u001b[39m \u001b[39m=\u001b[39m \u001b[39mFalse\u001b[39;00m,\n\u001b[0;32m    325\u001b[0m ) \u001b[39m-\u001b[39m\u001b[39m>\u001b[39m \u001b[39mNone\u001b[39;00m:\n\u001b[0;32m    326\u001b[0m     \u001b[39m\"\"\"Optimize an objective function.\u001b[39;00m\n\u001b[0;32m    327\u001b[0m \n\u001b[0;32m    328\u001b[0m \u001b[39m    Optimization is done by choosing a suitable set of hyperparameter values from a given\u001b[39;00m\n\u001b[1;32m   (...)\u001b[0m\n\u001b[0;32m    416\u001b[0m \u001b[39m            If nested invocation of this method occurs.\u001b[39;00m\n\u001b[0;32m    417\u001b[0m \u001b[39m    \"\"\"\u001b[39;00m\n\u001b[1;32m--> 419\u001b[0m     _optimize(\n\u001b[0;32m    420\u001b[0m         study\u001b[39m=\u001b[39;49m\u001b[39mself\u001b[39;49m,\n\u001b[0;32m    421\u001b[0m         func\u001b[39m=\u001b[39;49mfunc,\n\u001b[0;32m    422\u001b[0m         n_trials\u001b[39m=\u001b[39;49mn_trials,\n\u001b[0;32m    423\u001b[0m         timeout\u001b[39m=\u001b[39;49mtimeout,\n\u001b[0;32m    424\u001b[0m         n_jobs\u001b[39m=\u001b[39;49mn_jobs,\n\u001b[0;32m    425\u001b[0m         catch\u001b[39m=\u001b[39;49mcatch,\n\u001b[0;32m    426\u001b[0m         callbacks\u001b[39m=\u001b[39;49mcallbacks,\n\u001b[0;32m    427\u001b[0m         gc_after_trial\u001b[39m=\u001b[39;49mgc_after_trial,\n\u001b[0;32m    428\u001b[0m         show_progress_bar\u001b[39m=\u001b[39;49mshow_progress_bar,\n\u001b[0;32m    429\u001b[0m     )\n",
      "File \u001b[1;32m~\\AppData\\Roaming\\Python\\Python310\\site-packages\\optuna\\study\\_optimize.py:66\u001b[0m, in \u001b[0;36m_optimize\u001b[1;34m(study, func, n_trials, timeout, n_jobs, catch, callbacks, gc_after_trial, show_progress_bar)\u001b[0m\n\u001b[0;32m     64\u001b[0m \u001b[39mtry\u001b[39;00m:\n\u001b[0;32m     65\u001b[0m     \u001b[39mif\u001b[39;00m n_jobs \u001b[39m==\u001b[39m \u001b[39m1\u001b[39m:\n\u001b[1;32m---> 66\u001b[0m         _optimize_sequential(\n\u001b[0;32m     67\u001b[0m             study,\n\u001b[0;32m     68\u001b[0m             func,\n\u001b[0;32m     69\u001b[0m             n_trials,\n\u001b[0;32m     70\u001b[0m             timeout,\n\u001b[0;32m     71\u001b[0m             catch,\n\u001b[0;32m     72\u001b[0m             callbacks,\n\u001b[0;32m     73\u001b[0m             gc_after_trial,\n\u001b[0;32m     74\u001b[0m             reseed_sampler_rng\u001b[39m=\u001b[39;49m\u001b[39mFalse\u001b[39;49;00m,\n\u001b[0;32m     75\u001b[0m             time_start\u001b[39m=\u001b[39;49m\u001b[39mNone\u001b[39;49;00m,\n\u001b[0;32m     76\u001b[0m             progress_bar\u001b[39m=\u001b[39;49mprogress_bar,\n\u001b[0;32m     77\u001b[0m         )\n\u001b[0;32m     78\u001b[0m     \u001b[39melse\u001b[39;00m:\n\u001b[0;32m     79\u001b[0m         \u001b[39mif\u001b[39;00m n_jobs \u001b[39m==\u001b[39m \u001b[39m-\u001b[39m\u001b[39m1\u001b[39m:\n",
      "File \u001b[1;32m~\\AppData\\Roaming\\Python\\Python310\\site-packages\\optuna\\study\\_optimize.py:160\u001b[0m, in \u001b[0;36m_optimize_sequential\u001b[1;34m(study, func, n_trials, timeout, catch, callbacks, gc_after_trial, reseed_sampler_rng, time_start, progress_bar)\u001b[0m\n\u001b[0;32m    157\u001b[0m         \u001b[39mbreak\u001b[39;00m\n\u001b[0;32m    159\u001b[0m \u001b[39mtry\u001b[39;00m:\n\u001b[1;32m--> 160\u001b[0m     frozen_trial \u001b[39m=\u001b[39m _run_trial(study, func, catch)\n\u001b[0;32m    161\u001b[0m \u001b[39mfinally\u001b[39;00m:\n\u001b[0;32m    162\u001b[0m     \u001b[39m# The following line mitigates memory problems that can be occurred in some\u001b[39;00m\n\u001b[0;32m    163\u001b[0m     \u001b[39m# environments (e.g., services that use computing containers such as CircleCI).\u001b[39;00m\n\u001b[0;32m    164\u001b[0m     \u001b[39m# Please refer to the following PR for further details:\u001b[39;00m\n\u001b[0;32m    165\u001b[0m     \u001b[39m# https://github.com/optuna/optuna/pull/325.\u001b[39;00m\n\u001b[0;32m    166\u001b[0m     \u001b[39mif\u001b[39;00m gc_after_trial:\n",
      "File \u001b[1;32m~\\AppData\\Roaming\\Python\\Python310\\site-packages\\optuna\\study\\_optimize.py:234\u001b[0m, in \u001b[0;36m_run_trial\u001b[1;34m(study, func, catch)\u001b[0m\n\u001b[0;32m    227\u001b[0m         \u001b[39massert\u001b[39;00m \u001b[39mFalse\u001b[39;00m, \u001b[39m\"\u001b[39m\u001b[39mShould not reach.\u001b[39m\u001b[39m\"\u001b[39m\n\u001b[0;32m    229\u001b[0m \u001b[39mif\u001b[39;00m (\n\u001b[0;32m    230\u001b[0m     frozen_trial\u001b[39m.\u001b[39mstate \u001b[39m==\u001b[39m TrialState\u001b[39m.\u001b[39mFAIL\n\u001b[0;32m    231\u001b[0m     \u001b[39mand\u001b[39;00m func_err \u001b[39mis\u001b[39;00m \u001b[39mnot\u001b[39;00m \u001b[39mNone\u001b[39;00m\n\u001b[0;32m    232\u001b[0m     \u001b[39mand\u001b[39;00m \u001b[39mnot\u001b[39;00m \u001b[39misinstance\u001b[39m(func_err, catch)\n\u001b[0;32m    233\u001b[0m ):\n\u001b[1;32m--> 234\u001b[0m     \u001b[39mraise\u001b[39;00m func_err\n\u001b[0;32m    235\u001b[0m \u001b[39mreturn\u001b[39;00m frozen_trial\n",
      "File \u001b[1;32m~\\AppData\\Roaming\\Python\\Python310\\site-packages\\optuna\\study\\_optimize.py:196\u001b[0m, in \u001b[0;36m_run_trial\u001b[1;34m(study, func, catch)\u001b[0m\n\u001b[0;32m    194\u001b[0m \u001b[39mwith\u001b[39;00m get_heartbeat_thread(trial\u001b[39m.\u001b[39m_trial_id, study\u001b[39m.\u001b[39m_storage):\n\u001b[0;32m    195\u001b[0m     \u001b[39mtry\u001b[39;00m:\n\u001b[1;32m--> 196\u001b[0m         value_or_values \u001b[39m=\u001b[39m func(trial)\n\u001b[0;32m    197\u001b[0m     \u001b[39mexcept\u001b[39;00m exceptions\u001b[39m.\u001b[39mTrialPruned \u001b[39mas\u001b[39;00m e:\n\u001b[0;32m    198\u001b[0m         \u001b[39m# TODO(mamu): Handle multi-objective cases.\u001b[39;00m\n\u001b[0;32m    199\u001b[0m         state \u001b[39m=\u001b[39m TrialState\u001b[39m.\u001b[39mPRUNED\n",
      "\u001b[1;32mc:\\Users\\Arwielao\\Python 3.10\\IDE\\skillfactory\\WB analisys\\TG\\TG addon\\tg_an_410-10-ml_addon.ipynb Cell 33\u001b[0m in \u001b[0;36moptuna_rf\u001b[1;34m(trial)\u001b[0m\n\u001b[0;32m     <a href='vscode-notebook-cell:/c%3A/Users/Arwielao/Python%203.10/IDE/skillfactory/WB%20analisys/TG/TG%20addon/tg_an_410-10-ml_addon.ipynb#Y212sZmlsZQ%3D%3D?line=9'>10</a>\u001b[0m model \u001b[39m=\u001b[39m DecisionTreeRegressor(\n\u001b[0;32m     <a href='vscode-notebook-cell:/c%3A/Users/Arwielao/Python%203.10/IDE/skillfactory/WB%20analisys/TG/TG%20addon/tg_an_410-10-ml_addon.ipynb#Y212sZmlsZQ%3D%3D?line=10'>11</a>\u001b[0m                               max_depth\u001b[39m=\u001b[39mmax_depth,\n\u001b[0;32m     <a href='vscode-notebook-cell:/c%3A/Users/Arwielao/Python%203.10/IDE/skillfactory/WB%20analisys/TG/TG%20addon/tg_an_410-10-ml_addon.ipynb#Y212sZmlsZQ%3D%3D?line=11'>12</a>\u001b[0m                               min_samples_leaf\u001b[39m=\u001b[39mmin_samples_leaf,\n\u001b[0;32m     <a href='vscode-notebook-cell:/c%3A/Users/Arwielao/Python%203.10/IDE/skillfactory/WB%20analisys/TG/TG%20addon/tg_an_410-10-ml_addon.ipynb#Y212sZmlsZQ%3D%3D?line=12'>13</a>\u001b[0m                               min_samples_split\u001b[39m=\u001b[39mmin_samples_split,\n\u001b[0;32m     <a href='vscode-notebook-cell:/c%3A/Users/Arwielao/Python%203.10/IDE/skillfactory/WB%20analisys/TG/TG%20addon/tg_an_410-10-ml_addon.ipynb#Y212sZmlsZQ%3D%3D?line=13'>14</a>\u001b[0m                               random_state\u001b[39m=\u001b[39m\u001b[39m42\u001b[39m\n\u001b[0;32m     <a href='vscode-notebook-cell:/c%3A/Users/Arwielao/Python%203.10/IDE/skillfactory/WB%20analisys/TG/TG%20addon/tg_an_410-10-ml_addon.ipynb#Y212sZmlsZQ%3D%3D?line=14'>15</a>\u001b[0m                               )\n\u001b[0;32m     <a href='vscode-notebook-cell:/c%3A/Users/Arwielao/Python%203.10/IDE/skillfactory/WB%20analisys/TG/TG%20addon/tg_an_410-10-ml_addon.ipynb#Y212sZmlsZQ%3D%3D?line=15'>16</a>\u001b[0m \u001b[39m# обучаем модель\u001b[39;00m\n\u001b[1;32m---> <a href='vscode-notebook-cell:/c%3A/Users/Arwielao/Python%203.10/IDE/skillfactory/WB%20analisys/TG/TG%20addon/tg_an_410-10-ml_addon.ipynb#Y212sZmlsZQ%3D%3D?line=16'>17</a>\u001b[0m model\u001b[39m.\u001b[39;49mfit(X_train, y_train)\n\u001b[0;32m     <a href='vscode-notebook-cell:/c%3A/Users/Arwielao/Python%203.10/IDE/skillfactory/WB%20analisys/TG/TG%20addon/tg_an_410-10-ml_addon.ipynb#Y212sZmlsZQ%3D%3D?line=18'>19</a>\u001b[0m score \u001b[39m=\u001b[39m metrics\u001b[39m.\u001b[39mmean_absolute_percentage_error(base \u001b[39m*\u001b[39m\u001b[39m*\u001b[39m y_test, base \u001b[39m*\u001b[39m\u001b[39m*\u001b[39m model\u001b[39m.\u001b[39mpredict(X_test)) \u001b[39m*\u001b[39m \u001b[39m100\u001b[39m\n\u001b[0;32m     <a href='vscode-notebook-cell:/c%3A/Users/Arwielao/Python%203.10/IDE/skillfactory/WB%20analisys/TG/TG%20addon/tg_an_410-10-ml_addon.ipynb#Y212sZmlsZQ%3D%3D?line=20'>21</a>\u001b[0m \u001b[39mreturn\u001b[39;00m score\n",
      "File \u001b[1;32m~\\AppData\\Roaming\\Python\\Python310\\site-packages\\sklearn\\tree\\_classes.py:1342\u001b[0m, in \u001b[0;36mDecisionTreeRegressor.fit\u001b[1;34m(self, X, y, sample_weight, check_input)\u001b[0m\n\u001b[0;32m   1313\u001b[0m \u001b[39mdef\u001b[39;00m \u001b[39mfit\u001b[39m(\u001b[39mself\u001b[39m, X, y, sample_weight\u001b[39m=\u001b[39m\u001b[39mNone\u001b[39;00m, check_input\u001b[39m=\u001b[39m\u001b[39mTrue\u001b[39;00m):\n\u001b[0;32m   1314\u001b[0m     \u001b[39m\"\"\"Build a decision tree regressor from the training set (X, y).\u001b[39;00m\n\u001b[0;32m   1315\u001b[0m \n\u001b[0;32m   1316\u001b[0m \u001b[39m    Parameters\u001b[39;00m\n\u001b[1;32m   (...)\u001b[0m\n\u001b[0;32m   1339\u001b[0m \u001b[39m        Fitted estimator.\u001b[39;00m\n\u001b[0;32m   1340\u001b[0m \u001b[39m    \"\"\"\u001b[39;00m\n\u001b[1;32m-> 1342\u001b[0m     \u001b[39msuper\u001b[39;49m()\u001b[39m.\u001b[39;49mfit(\n\u001b[0;32m   1343\u001b[0m         X,\n\u001b[0;32m   1344\u001b[0m         y,\n\u001b[0;32m   1345\u001b[0m         sample_weight\u001b[39m=\u001b[39;49msample_weight,\n\u001b[0;32m   1346\u001b[0m         check_input\u001b[39m=\u001b[39;49mcheck_input,\n\u001b[0;32m   1347\u001b[0m     )\n\u001b[0;32m   1348\u001b[0m     \u001b[39mreturn\u001b[39;00m \u001b[39mself\u001b[39m\n",
      "File \u001b[1;32m~\\AppData\\Roaming\\Python\\Python310\\site-packages\\sklearn\\tree\\_classes.py:458\u001b[0m, in \u001b[0;36mBaseDecisionTree.fit\u001b[1;34m(self, X, y, sample_weight, check_input)\u001b[0m\n\u001b[0;32m    447\u001b[0m \u001b[39melse\u001b[39;00m:\n\u001b[0;32m    448\u001b[0m     builder \u001b[39m=\u001b[39m BestFirstTreeBuilder(\n\u001b[0;32m    449\u001b[0m         splitter,\n\u001b[0;32m    450\u001b[0m         min_samples_split,\n\u001b[1;32m   (...)\u001b[0m\n\u001b[0;32m    455\u001b[0m         \u001b[39mself\u001b[39m\u001b[39m.\u001b[39mmin_impurity_decrease,\n\u001b[0;32m    456\u001b[0m     )\n\u001b[1;32m--> 458\u001b[0m builder\u001b[39m.\u001b[39;49mbuild(\u001b[39mself\u001b[39;49m\u001b[39m.\u001b[39;49mtree_, X, y, sample_weight)\n\u001b[0;32m    460\u001b[0m \u001b[39mif\u001b[39;00m \u001b[39mself\u001b[39m\u001b[39m.\u001b[39mn_outputs_ \u001b[39m==\u001b[39m \u001b[39m1\u001b[39m \u001b[39mand\u001b[39;00m is_classifier(\u001b[39mself\u001b[39m):\n\u001b[0;32m    461\u001b[0m     \u001b[39mself\u001b[39m\u001b[39m.\u001b[39mn_classes_ \u001b[39m=\u001b[39m \u001b[39mself\u001b[39m\u001b[39m.\u001b[39mn_classes_[\u001b[39m0\u001b[39m]\n",
      "\u001b[1;31mKeyboardInterrupt\u001b[0m: "
     ]
    }
   ],
   "source": [
    "def optuna_rf(trial):\n",
    "  # задаем пространства поиска гиперпараметров\n",
    "  max_depth = trial.suggest_int('max_depth', 2, 200, 1)\n",
    "  \n",
    "  min_samples_leaf = trial.suggest_int('min_samples_leaf', 10, 1000, 1)\n",
    "  \n",
    "  min_samples_split = trial.suggest_int('min_samples_split', 2, 100, 1)\n",
    "\n",
    "  # создаем модель\n",
    "  model = DecisionTreeRegressor(\n",
    "                                max_depth=max_depth,\n",
    "                                min_samples_leaf=min_samples_leaf,\n",
    "                                min_samples_split=min_samples_split,\n",
    "                                random_state=42\n",
    "                                )\n",
    "  # обучаем модель\n",
    "  model.fit(X_train, y_train)\n",
    "  \n",
    "  score = metrics.mean_absolute_percentage_error(base ** y_test, base ** model.predict(X_test)) * 100\n",
    "\n",
    "  return score\n",
    "%time\n",
    "# cоздаем объект исследования\n",
    "# можем напрямую указать, что нам необходимо максимизировать метрику direction=\"maximize\"\n",
    "\n",
    "study = optuna.create_study(study_name=\"DecisionTreeRegressor\", direction=\"minimize\")\n",
    "# ищем лучшую комбинацию гиперпараметров n_trials раз\n",
    "\n",
    "optuna.logging.set_verbosity(optuna.logging.FATAL)\n",
    "\n",
    "study.optimize(optuna_rf, n_trials=20)"
   ]
  },
  {
   "cell_type": "code",
   "execution_count": null,
   "metadata": {},
   "outputs": [
    {
     "name": "stdout",
     "output_type": "stream",
     "text": [
      "Train R^2: 0.178\n",
      "Train MAE: 0.003\n",
      "Train MAPE: 39.748\n",
      "\n",
      "\n",
      "Test R^2: 0.136\n",
      "Test MAE: 0.003\n",
      "Test MAPE: 40.550\n"
     ]
    }
   ],
   "source": [
    "\n",
    "regr1 = DecisionTreeRegressor(max_depth=study.best_params['max_depth'], min_samples_leaf = study.best_params['min_samples_leaf'],  min_samples_split = study.best_params['min_samples_split'], random_state=42)\n",
    "\n",
    "regr1.fit(X_train, y_train)\n",
    "\n",
    "y_train_pred = (regr1.predict(X_train))\n",
    "\n",
    "y_test_pred = (regr1.predict(X_test))\n",
    "\n",
    "# print_metrics(1 * (y_train), (1 * y_train_pred), 1 * (y_test), 1 * y_test_pred)\n",
    "\n",
    "print_metrics(base ** y_train, base ** y_train_pred, base ** y_test, base ** y_test_pred)"
   ]
  },
  {
   "cell_type": "code",
   "execution_count": null,
   "metadata": {},
   "outputs": [
    {
     "data": {
      "text/plain": [
       "0.5714285714285714"
      ]
     },
     "execution_count": 144,
     "metadata": {},
     "output_type": "execute_result"
    }
   ],
   "source": [
    "20/35"
   ]
  },
  {
   "cell_type": "code",
   "execution_count": null,
   "metadata": {},
   "outputs": [],
   "source": [
    "importance = pd.DataFrame({'features': list(grand_df.drop([target], axis=1).columns), 'importance': regr1.feature_importances_}).sort_values(by='importance', ascending=False) "
   ]
  },
  {
   "cell_type": "code",
   "execution_count": null,
   "metadata": {},
   "outputs": [],
   "source": [
    "importance.reset_index(drop=True, inplace=True)"
   ]
  },
  {
   "cell_type": "code",
   "execution_count": null,
   "metadata": {},
   "outputs": [
    {
     "data": {
      "text/html": [
       "<div>\n",
       "<style scoped>\n",
       "    .dataframe tbody tr th:only-of-type {\n",
       "        vertical-align: middle;\n",
       "    }\n",
       "\n",
       "    .dataframe tbody tr th {\n",
       "        vertical-align: top;\n",
       "    }\n",
       "\n",
       "    .dataframe thead th {\n",
       "        text-align: right;\n",
       "    }\n",
       "</style>\n",
       "<table border=\"1\" class=\"dataframe\">\n",
       "  <thead>\n",
       "    <tr style=\"text-align: right;\">\n",
       "      <th></th>\n",
       "      <th>features</th>\n",
       "      <th>importance</th>\n",
       "    </tr>\n",
       "  </thead>\n",
       "  <tbody>\n",
       "    <tr>\n",
       "      <th>0</th>\n",
       "      <td>h</td>\n",
       "      <td>0.295512</td>\n",
       "    </tr>\n",
       "    <tr>\n",
       "      <th>1</th>\n",
       "      <td>dtdays</td>\n",
       "      <td>0.131048</td>\n",
       "    </tr>\n",
       "    <tr>\n",
       "      <th>2</th>\n",
       "      <td>second</td>\n",
       "      <td>0.097981</td>\n",
       "    </tr>\n",
       "    <tr>\n",
       "      <th>3</th>\n",
       "      <td>🌍in_msg</td>\n",
       "      <td>0.063950</td>\n",
       "    </tr>\n",
       "    <tr>\n",
       "      <th>4</th>\n",
       "      <td>🐻in_msg</td>\n",
       "      <td>0.052044</td>\n",
       "    </tr>\n",
       "    <tr>\n",
       "      <th>5</th>\n",
       "      <td>weight_to_height</td>\n",
       "      <td>0.044131</td>\n",
       "    </tr>\n",
       "    <tr>\n",
       "      <th>6</th>\n",
       "      <td>day_of_year</td>\n",
       "      <td>0.027622</td>\n",
       "    </tr>\n",
       "    <tr>\n",
       "      <th>7</th>\n",
       "      <td>MessageEntityBold</td>\n",
       "      <td>0.023908</td>\n",
       "    </tr>\n",
       "    <tr>\n",
       "      <th>8</th>\n",
       "      <td>speech</td>\n",
       "      <td>0.023477</td>\n",
       "    </tr>\n",
       "    <tr>\n",
       "      <th>9</th>\n",
       "      <td>list_of_count_colors</td>\n",
       "      <td>0.021487</td>\n",
       "    </tr>\n",
       "    <tr>\n",
       "      <th>10</th>\n",
       "      <td>positive</td>\n",
       "      <td>0.018539</td>\n",
       "    </tr>\n",
       "    <tr>\n",
       "      <th>11</th>\n",
       "      <td>skip</td>\n",
       "      <td>0.017973</td>\n",
       "    </tr>\n",
       "    <tr>\n",
       "      <th>12</th>\n",
       "      <td>morinig</td>\n",
       "      <td>0.017195</td>\n",
       "    </tr>\n",
       "    <tr>\n",
       "      <th>13</th>\n",
       "      <td>neutral</td>\n",
       "      <td>0.015645</td>\n",
       "    </tr>\n",
       "    <tr>\n",
       "      <th>14</th>\n",
       "      <td>minute</td>\n",
       "      <td>0.014439</td>\n",
       "    </tr>\n",
       "    <tr>\n",
       "      <th>15</th>\n",
       "      <td>MessageEntityTextUrl</td>\n",
       "      <td>0.013756</td>\n",
       "    </tr>\n",
       "    <tr>\n",
       "      <th>16</th>\n",
       "      <td>📚in_msg</td>\n",
       "      <td>0.010284</td>\n",
       "    </tr>\n",
       "    <tr>\n",
       "      <th>17</th>\n",
       "      <td>re_lemmas_count</td>\n",
       "      <td>0.009661</td>\n",
       "    </tr>\n",
       "    <tr>\n",
       "      <th>18</th>\n",
       "      <td>word_number_5</td>\n",
       "      <td>0.009587</td>\n",
       "    </tr>\n",
       "    <tr>\n",
       "      <th>19</th>\n",
       "      <td>grey</td>\n",
       "      <td>0.008083</td>\n",
       "    </tr>\n",
       "    <tr>\n",
       "      <th>20</th>\n",
       "      <td>v_median</td>\n",
       "      <td>0.006310</td>\n",
       "    </tr>\n",
       "  </tbody>\n",
       "</table>\n",
       "</div>"
      ],
      "text/plain": [
       "                features  importance\n",
       "0                      h    0.295512\n",
       "1                 dtdays    0.131048\n",
       "2                 second    0.097981\n",
       "3                🌍in_msg    0.063950\n",
       "4                🐻in_msg    0.052044\n",
       "5       weight_to_height    0.044131\n",
       "6            day_of_year    0.027622\n",
       "7      MessageEntityBold    0.023908\n",
       "8                 speech    0.023477\n",
       "9   list_of_count_colors    0.021487\n",
       "10              positive    0.018539\n",
       "11                  skip    0.017973\n",
       "12               morinig    0.017195\n",
       "13               neutral    0.015645\n",
       "14                minute    0.014439\n",
       "15  MessageEntityTextUrl    0.013756\n",
       "16               📚in_msg    0.010284\n",
       "17       re_lemmas_count    0.009661\n",
       "18         word_number_5    0.009587\n",
       "19                  grey    0.008083\n",
       "20              v_median    0.006310"
      ]
     },
     "metadata": {},
     "output_type": "display_data"
    }
   ],
   "source": [
    "display(importance.loc[0:20,:])"
   ]
  },
  {
   "cell_type": "code",
   "execution_count": null,
   "metadata": {},
   "outputs": [
    {
     "name": "stdout",
     "output_type": "stream",
     "text": [
      "['h', 'dtdays', 'second', '🌍in_msg', '🐻in_msg', 'weight_to_height', 'day_of_year', 'MessageEntityBold', 'speech', 'list_of_count_colors', 'positive', 'skip', 'morinig', 'neutral', 'minute', 'MessageEntityTextUrl', '📚in_msg', 're_lemmas_count', 'word_number_5', 'grey', 'v_median']\n"
     ]
    }
   ],
   "source": [
    "fchrs = list(importance.loc[0:20,'features'])\n",
    "\n",
    "print(fchrs)"
   ]
  },
  {
   "cell_type": "code",
   "execution_count": null,
   "metadata": {},
   "outputs": [
    {
     "ename": "SyntaxError",
     "evalue": "invalid syntax (2133496677.py, line 1)",
     "output_type": "error",
     "traceback": [
      "\u001b[1;36m  Input \u001b[1;32mIn [149]\u001b[1;36m\u001b[0m\n\u001b[1;33m    ----\u001b[0m\n\u001b[1;37m        ^\u001b[0m\n\u001b[1;31mSyntaxError\u001b[0m\u001b[1;31m:\u001b[0m invalid syntax\n"
     ]
    }
   ],
   "source": [
    "----"
   ]
  },
  {
   "cell_type": "code",
   "execution_count": null,
   "metadata": {},
   "outputs": [],
   "source": [
    "# save\n",
    "joblib.dump(regr1, \"model.pkl\") \n",
    "\n",
    "# load\n",
    "regr1_ld = joblib.load(\"model.pkl\")"
   ]
  },
  {
   "cell_type": "code",
   "execution_count": null,
   "metadata": {},
   "outputs": [],
   "source": [
    "y_train_pred = (regr1_ld.predict(X_train))\n",
    "y_test_pred = (regr1_ld.predict(X_test))\n",
    "\n",
    "print_metrics(base ** (y_train), (base ** y_train_pred), np.round(base ** (y_test) * 50000), np.round(base ** y_test_pred * 50000))"
   ]
  },
  {
   "cell_type": "code",
   "execution_count": null,
   "metadata": {},
   "outputs": [],
   "source": [
    "---"
   ]
  },
  {
   "cell_type": "code",
   "execution_count": null,
   "metadata": {},
   "outputs": [],
   "source": [
    "import optuna\n",
    "\n",
    "print(\"Версия Optuna: {}\".format(optuna.__version__))"
   ]
  },
  {
   "cell_type": "code",
   "execution_count": null,
   "metadata": {},
   "outputs": [],
   "source": []
  },
  {
   "cell_type": "code",
   "execution_count": null,
   "metadata": {},
   "outputs": [],
   "source": [
    "def optuna_rf(trial):\n",
    "  # задаем пространства поиска гиперпараметров\n",
    "  max_depth = trial.suggest_int('max_depth', 2, 100, 1)\n",
    "  \n",
    "  min_samples_leaf = trial.suggest_int('min_samples_leaf', 10, 1000, 1)\n",
    "  \n",
    "  min_samples_split = trial.suggest_int('min_samples_split', 2, 100, 1)\n",
    "\n",
    "  # создаем модель\n",
    "  model = DecisionTreeRegressor(\n",
    "                                max_depth=max_depth,\n",
    "                                min_samples_leaf=min_samples_leaf,\n",
    "                                min_samples_split=min_samples_split,\n",
    "                                random_state=42\n",
    "                                )\n",
    "  # обучаем модель\n",
    "  model.fit(X_train, y_train)\n",
    "  \n",
    "  score = metrics.mean_absolute_percentage_error(base ** y_test * 500, base ** model.predict(X_test) * 500) * 100\n",
    "\n",
    "  return score"
   ]
  },
  {
   "cell_type": "code",
   "execution_count": null,
   "metadata": {},
   "outputs": [
    {
     "name": "stdout",
     "output_type": "stream",
     "text": [
      "CPU times: total: 0 ns\n",
      "Wall time: 0 ns\n"
     ]
    }
   ],
   "source": [
    "%time\n",
    "# cоздаем объект исследования\n",
    "# можем напрямую указать, что нам необходимо максимизировать метрику direction=\"maximize\"\n",
    "study = optuna.create_study(study_name=\"DecisionTreeRegressor\", direction=\"minimize\")\n",
    "# ищем лучшую комбинацию гиперпараметров n_trials раз\n",
    "\n",
    "optuna.logging.set_verbosity(optuna.logging.FATAL)\n",
    "\n",
    "study.optimize(optuna_rf, n_trials=20)"
   ]
  },
  {
   "cell_type": "code",
   "execution_count": null,
   "metadata": {},
   "outputs": [
    {
     "name": "stdout",
     "output_type": "stream",
     "text": [
      "Наилучшие значения гиперпараметров {'max_depth': 23, 'min_samples_leaf': 140, 'min_samples_split': 23}\n",
      "mape на обучающем наборе: 37.71\n"
     ]
    }
   ],
   "source": [
    "print(\"Наилучшие значения гиперпараметров {}\".format(study.best_params))\n",
    "print(\"mape на обучающем наборе: {:.2f}\".format(study.best_value))"
   ]
  },
  {
   "cell_type": "code",
   "execution_count": null,
   "metadata": {},
   "outputs": [],
   "source": [
    "----"
   ]
  },
  {
   "cell_type": "code",
   "execution_count": null,
   "metadata": {},
   "outputs": [],
   "source": [
    "data_zero = pd.read_csv('pread.csv')"
   ]
  },
  {
   "cell_type": "code",
   "execution_count": null,
   "metadata": {},
   "outputs": [],
   "source": [
    "data_zero"
   ]
  },
  {
   "cell_type": "code",
   "execution_count": null,
   "metadata": {},
   "outputs": [],
   "source": [
    "ds_train = data_zero[cols_test].drop(['forwards_to_views'], axis=1).loc[0,:].values.reshape(1,-1)"
   ]
  },
  {
   "cell_type": "code",
   "execution_count": null,
   "metadata": {},
   "outputs": [],
   "source": [
    "pd.DataFrame(ds_train.index)"
   ]
  },
  {
   "cell_type": "code",
   "execution_count": null,
   "metadata": {},
   "outputs": [],
   "source": [
    "ds_y = np.array(data_zero.loc[0,target])"
   ]
  },
  {
   "cell_type": "code",
   "execution_count": null,
   "metadata": {},
   "outputs": [],
   "source": [
    "ds_y = ds_y.reshape(1,-1)"
   ]
  },
  {
   "cell_type": "code",
   "execution_count": null,
   "metadata": {},
   "outputs": [],
   "source": [
    "y_ds_pred = regr1.predict(ds_train)"
   ]
  },
  {
   "cell_type": "code",
   "execution_count": null,
   "metadata": {},
   "outputs": [],
   "source": [
    "np.round(base ** y_ds_pred * 500)"
   ]
  },
  {
   "cell_type": "code",
   "execution_count": null,
   "metadata": {},
   "outputs": [],
   "source": [
    "\n",
    "metrics.mean_absolute_percentage_error(np.round(ds_y * 500), np.round(base ** y_ds_pred * 500)) * 100"
   ]
  },
  {
   "cell_type": "code",
   "execution_count": null,
   "metadata": {},
   "outputs": [],
   "source": [
    "np.round(ds_y * 500)"
   ]
  },
  {
   "cell_type": "code",
   "execution_count": null,
   "metadata": {},
   "outputs": [],
   "source": [
    "np.round(metrics.mean_absolute_error(np.round(ds_y * 500), np.round(base ** y_ds_pred * 500)))"
   ]
  },
  {
   "cell_type": "code",
   "execution_count": null,
   "metadata": {},
   "outputs": [],
   "source": [
    "base ** y_ds_pred "
   ]
  },
  {
   "cell_type": "code",
   "execution_count": null,
   "metadata": {},
   "outputs": [],
   "source": [
    "----"
   ]
  },
  {
   "cell_type": "code",
   "execution_count": null,
   "metadata": {},
   "outputs": [],
   "source": [
    "df = pd.DataFrame({'np.exp(y_test)': np.array([i[0] for i in np.exp(y_test)]), 'y_test_pred':y_test_pred})"
   ]
  },
  {
   "cell_type": "code",
   "execution_count": null,
   "metadata": {},
   "outputs": [],
   "source": [
    "df['diff'] = abs(df['np.exp(y_test)'] - df['y_test_pred'])"
   ]
  },
  {
   "cell_type": "code",
   "execution_count": null,
   "metadata": {},
   "outputs": [],
   "source": [
    "df.to_excel('diff.xlsx', index=False)"
   ]
  },
  {
   "cell_type": "code",
   "execution_count": null,
   "metadata": {},
   "outputs": [],
   "source": [
    "np.array([i[0] for i in np.exp(y_test)]), "
   ]
  },
  {
   "cell_type": "code",
   "execution_count": null,
   "metadata": {},
   "outputs": [],
   "source": [
    "print(list(grand_df.columns))"
   ]
  },
  {
   "cell_type": "code",
   "execution_count": null,
   "metadata": {},
   "outputs": [],
   "source": [
    "sns.scatterplot(x=list(range(np.exp(y_test).shape[0])), y=np.array([i[0] for i in np.exp(y_test)]), color=\"blue\")"
   ]
  },
  {
   "cell_type": "code",
   "execution_count": null,
   "metadata": {},
   "outputs": [],
   "source": [
    "print(np.exp(y_test), y_test_pred)"
   ]
  },
  {
   "cell_type": "code",
   "execution_count": null,
   "metadata": {},
   "outputs": [],
   "source": [
    "---"
   ]
  },
  {
   "cell_type": "code",
   "execution_count": null,
   "metadata": {},
   "outputs": [],
   "source": [
    "cv = KFold(n_splits=5, random_state=42, shuffle=True)\n",
    "scores = cross_val_score(regr1, X_train, y_train,\n",
    "                         scoring='neg_mean_absolute_percentage_error',\n",
    "                         cv=cv, n_jobs=-1)\n",
    "scores * - 100"
   ]
  },
  {
   "cell_type": "code",
   "execution_count": null,
   "metadata": {},
   "outputs": [],
   "source": [
    "cv = KFold(n_splits=5, random_state=42, shuffle=True)\n",
    "scores = cross_val_score(regr1, X_test, y_test,\n",
    "                         scoring='neg_mean_absolute_percentage_error',\n",
    "                         cv=cv, n_jobs=-1)\n",
    "scores * - 100"
   ]
  },
  {
   "cell_type": "code",
   "execution_count": null,
   "metadata": {},
   "outputs": [],
   "source": [
    "importance = pd.DataFrame({'features': list(grand_df.drop([target], axis=1).columns), 'importance': regr1.feature_importances_}).sort_values(by='importance', ascending=False) "
   ]
  },
  {
   "cell_type": "code",
   "execution_count": null,
   "metadata": {},
   "outputs": [],
   "source": [
    "importance"
   ]
  },
  {
   "cell_type": "code",
   "execution_count": null,
   "metadata": {},
   "outputs": [],
   "source": [
    "importance.to_excel('importance1.xlsx', index=False)"
   ]
  },
  {
   "cell_type": "code",
   "execution_count": null,
   "metadata": {},
   "outputs": [],
   "source": [
    "features = list(importance['features'][1:26])"
   ]
  },
  {
   "cell_type": "code",
   "execution_count": null,
   "metadata": {},
   "outputs": [],
   "source": [
    "print(features)"
   ]
  },
  {
   "cell_type": "code",
   "execution_count": null,
   "metadata": {},
   "outputs": [],
   "source": [
    "---"
   ]
  },
  {
   "cell_type": "code",
   "execution_count": null,
   "metadata": {},
   "outputs": [],
   "source": [
    "# y_train, y_train_pred"
   ]
  },
  {
   "cell_type": "code",
   "execution_count": null,
   "metadata": {},
   "outputs": [],
   "source": [
    "plot_in = pd.DataFrame({'y_train':list(np.exp(y_test)), 'y_train_pred':list(y_train_pred.reshape(-1, 1))})"
   ]
  },
  {
   "cell_type": "code",
   "execution_count": null,
   "metadata": {},
   "outputs": [],
   "source": [
    "plot_in"
   ]
  },
  {
   "cell_type": "code",
   "execution_count": null,
   "metadata": {},
   "outputs": [],
   "source": [
    "plot_in['y_train'] = plot_in['y_train'].apply(lambda x: x[0])\n",
    "plot_in['y_train_pred'] = plot_in['y_train_pred'].apply(lambda x: x[0])"
   ]
  },
  {
   "cell_type": "code",
   "execution_count": null,
   "metadata": {},
   "outputs": [],
   "source": [
    "X_train.reset_index(inplace=True)"
   ]
  },
  {
   "cell_type": "code",
   "execution_count": null,
   "metadata": {},
   "outputs": [],
   "source": [
    "X_train"
   ]
  },
  {
   "cell_type": "code",
   "execution_count": null,
   "metadata": {},
   "outputs": [],
   "source": [
    "plot_in['y_diff'] = abs(plot_in['y_train_pred'] - plot_in['y_train'])\n",
    "index_to_del = list(plot_in[plot_in['y_diff'] > 0.04].index)"
   ]
  },
  {
   "cell_type": "code",
   "execution_count": null,
   "metadata": {},
   "outputs": [],
   "source": [
    "index_to_del.remove(760)"
   ]
  },
  {
   "cell_type": "code",
   "execution_count": null,
   "metadata": {},
   "outputs": [],
   "source": [
    "X_train.loc[index_to_del,:]"
   ]
  },
  {
   "cell_type": "code",
   "execution_count": null,
   "metadata": {},
   "outputs": [],
   "source": [
    "X_train.drop(index_to_del, inplace=True)"
   ]
  },
  {
   "cell_type": "code",
   "execution_count": null,
   "metadata": {},
   "outputs": [],
   "source": [
    "y_train_1 = plot_in['y_train'].drop(index_to_del)"
   ]
  },
  {
   "cell_type": "code",
   "execution_count": null,
   "metadata": {},
   "outputs": [],
   "source": [
    "regr1 = DecisionTreeRegressor(max_depth=12, min_samples_leaf = 4, random_state=42)\n",
    "regr1.fit(X_train, y_train)\n",
    "y_train_pred = regr1.predict(X_train)\n",
    "y_test_pred = regr1.predict(X_test)\n",
    "print_metrics(y_train, y_train_pred, y_test, y_test_pred)"
   ]
  },
  {
   "cell_type": "code",
   "execution_count": null,
   "metadata": {},
   "outputs": [],
   "source": [
    "sns.scatterplot(x=list(range(plot_in['y_train'].shape[0])), y=plot_in['y_train_pred'])"
   ]
  },
  {
   "cell_type": "code",
   "execution_count": null,
   "metadata": {},
   "outputs": [],
   "source": [
    "regr2 = RandomForestRegressor(max_depth=12, n_estimators=300, random_state=42)\n",
    "regr2.fit(X_train, y_train)\n",
    "\n",
    "y_train_pred = (regr2.predict(X_train))\n",
    "y_test_pred = (regr2.predict(X_test))\n",
    "\n",
    "print_metrics(base ** (y_train), base ** y_train_pred, base ** (y_test),base ** y_test_pred )"
   ]
  },
  {
   "cell_type": "code",
   "execution_count": null,
   "metadata": {},
   "outputs": [],
   "source": [
    "# from sklearn.ensemble import StackingRegressor\n",
    "# from sklearn.linear_model import RidgeCV\n",
    "# from sklearn.linear_model import LinearRegression\n",
    "# from statistics import linear_regression"
   ]
  },
  {
   "cell_type": "code",
   "execution_count": null,
   "metadata": {},
   "outputs": [],
   "source": [
    "from sklearn.ensemble import GradientBoostingRegressor\n",
    "gb = GradientBoostingRegressor(\n",
    "    max_depth = 3,\n",
    "    min_samples_leaf = 10,\n",
    "    n_estimators = 200,\n",
    "    random_state = 42 \n",
    ")\n",
    "gb.fit(X_train, y_train)\n",
    "\n",
    "# gb_pred  = gb.predict(X_test)\n",
    "\n",
    "y_train_pred = (gb.predict(X_train))\n",
    "y_test_pred = (gb.predict(X_test))\n",
    "\n",
    "print_metrics(base ** (y_train), base ** y_train_pred, base ** (y_test), base ** y_test_pred)"
   ]
  },
  {
   "cell_type": "code",
   "execution_count": null,
   "metadata": {},
   "outputs": [],
   "source": [
    "y_train_pred = np.exp(y_train_pred)\n",
    "y_test_pred = np.exp(y_test_pred)\n",
    "y_train = np.exp(y_train)\n",
    "y_test = np.exp(y_test)\n",
    "print_metrics(y_train, y_train_pred, y_test, y_test_pred)"
   ]
  },
  {
   "cell_type": "code",
   "execution_count": null,
   "metadata": {},
   "outputs": [],
   "source": [
    "# pd.DataFrame({'features': list(grand_df.drop([target], axis=1).columns), 'importance': gb.feature_importances_}).sort_values(by='importance', ascending=False) "
   ]
  },
  {
   "cell_type": "code",
   "execution_count": null,
   "metadata": {},
   "outputs": [],
   "source": [
    "def test_batching_nonlinear_test_different_sizes_another(data, target, batch_left, batch_right):\n",
    "    \n",
    "    if batch_right > data.shape[0]:\n",
    "        return 'incorrect batch_size_right value'\n",
    "    \n",
    "    data = data.loc[batch_left:batch_right,:]\n",
    "    \n",
    "    y = np.array(data[target])\n",
    "    \n",
    "    X = data.drop([target], axis = 1)\n",
    "    \n",
    "    \n",
    "    metrics_value = []\n",
    "    batch_value = []\n",
    "    \n",
    "    #\n",
    "    # dataset = data.loc[batch_left:batch_right,:]\n",
    "    \n",
    "    # target_y = y[batch_left:batch_right,]\n",
    "    \n",
    "    print(X.shape, y.shape)\n",
    "    \n",
    "    X_train, X_test, y_train, y_test = train_test_split(X, y, test_size=0.2, random_state=42)\n",
    "    \n",
    "    y_train, y_test = y_train.reshape(-1, 1), y_test.reshape(-1, 1)\n",
    "    \n",
    "    # model =  linear_model.Ridge(max_iter = 2000)\n",
    "    \n",
    "    model =  DecisionTreeRegressor(max_depth=12, min_samples_leaf = 4, random_state=42)\n",
    "    \n",
    "    model.fit(X_train,y_train)\n",
    "    \n",
    "    y_train_pred = model.predict(X_train)\n",
    "    \n",
    "    y_test_pred = model.predict(X_test)\n",
    "\n",
    "    print_metrics(y_train, y_train_pred, y_test, y_test_pred)\n",
    "    \n",
    "    metrics_value = (metrics.mean_absolute_percentage_error(y_test, y_test_pred)*100)\n",
    "    \n",
    "    batch_value = (batch_right - batch_left)# dataset.shape[0]) batch_size\n",
    "    \n",
    "    return metrics_value,batch_value "
   ]
  },
  {
   "cell_type": "code",
   "execution_count": null,
   "metadata": {},
   "outputs": [],
   "source": [
    "test_batching_nonlinear_test_different_sizes_another(grand_df, target, 8500, grand_df.shape[0])# grand_df.shape[0])"
   ]
  }
 ],
 "metadata": {
  "kernelspec": {
   "display_name": "Python 3",
   "language": "python",
   "name": "python3"
  },
  "language_info": {
   "codemirror_mode": {
    "name": "ipython",
    "version": 3
   },
   "file_extension": ".py",
   "mimetype": "text/x-python",
   "name": "python",
   "nbconvert_exporter": "python",
   "pygments_lexer": "ipython3",
   "version": "3.10.4"
  },
  "orig_nbformat": 4,
  "vscode": {
   "interpreter": {
    "hash": "26de051ba29f2982a8de78e945f0abaf191376122a1563185a90213a26c5da77"
   }
  }
 },
 "nbformat": 4,
 "nbformat_minor": 2
}
