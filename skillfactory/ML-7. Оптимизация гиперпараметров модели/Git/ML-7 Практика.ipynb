{
 "cells": [
  {
   "cell_type": "code",
   "execution_count": 11,
   "metadata": {},
   "outputs": [],
   "source": [
    "#импорт библиотек\n",
    "import numpy as np #для матричных вычислений\n",
    "import pandas as pd #для анализа и предобработки данных\n",
    "import matplotlib.pyplot as plt #для визуализации\n",
    "import seaborn as sns #для визуализации\n",
    "\n",
    "from sklearn import linear_model #линейные моделиё\n",
    "from sklearn import tree #деревья решений\n",
    "from sklearn import ensemble #ансамбли\n",
    "from sklearn import metrics #метрики\n",
    "from sklearn import preprocessing #предобработка\n",
    "from sklearn.model_selection import train_test_split #сплитование выборки\n",
    "\n",
    "%matplotlib inline\n",
    "plt.style.use('seaborn')\n",
    "from sklearn.model_selection import GridSearchCV\n",
    "from sklearn.model_selection import RandomizedSearchCV\n",
    "from sklearn.model_selection import cross_val_score\n",
    "from sklearn.model_selection import StratifiedKFold\n",
    "import hyperopt\n",
    "from hyperopt import hp, fmin, tpe, Trials\n",
    "import optuna"
   ]
  },
  {
   "cell_type": "code",
   "execution_count": 2,
   "metadata": {},
   "outputs": [],
   "source": [
    "data_activity = pd.read_csv('data/_train_sem09__1_.zip')"
   ]
  },
  {
   "cell_type": "code",
   "execution_count": 3,
   "metadata": {},
   "outputs": [
    {
     "data": {
      "text/html": [
       "<div>\n",
       "<style scoped>\n",
       "    .dataframe tbody tr th:only-of-type {\n",
       "        vertical-align: middle;\n",
       "    }\n",
       "\n",
       "    .dataframe tbody tr th {\n",
       "        vertical-align: top;\n",
       "    }\n",
       "\n",
       "    .dataframe thead th {\n",
       "        text-align: right;\n",
       "    }\n",
       "</style>\n",
       "<table border=\"1\" class=\"dataframe\">\n",
       "  <thead>\n",
       "    <tr style=\"text-align: right;\">\n",
       "      <th></th>\n",
       "      <th>Activity</th>\n",
       "      <th>D1</th>\n",
       "      <th>D2</th>\n",
       "      <th>D3</th>\n",
       "      <th>D4</th>\n",
       "      <th>D5</th>\n",
       "      <th>D6</th>\n",
       "      <th>D7</th>\n",
       "      <th>D8</th>\n",
       "      <th>D9</th>\n",
       "      <th>...</th>\n",
       "      <th>D1767</th>\n",
       "      <th>D1768</th>\n",
       "      <th>D1769</th>\n",
       "      <th>D1770</th>\n",
       "      <th>D1771</th>\n",
       "      <th>D1772</th>\n",
       "      <th>D1773</th>\n",
       "      <th>D1774</th>\n",
       "      <th>D1775</th>\n",
       "      <th>D1776</th>\n",
       "    </tr>\n",
       "  </thead>\n",
       "  <tbody>\n",
       "    <tr>\n",
       "      <th>0</th>\n",
       "      <td>1</td>\n",
       "      <td>0.000000</td>\n",
       "      <td>0.497009</td>\n",
       "      <td>0.10</td>\n",
       "      <td>0.0</td>\n",
       "      <td>0.132956</td>\n",
       "      <td>0.678031</td>\n",
       "      <td>0.273166</td>\n",
       "      <td>0.585445</td>\n",
       "      <td>0.743663</td>\n",
       "      <td>...</td>\n",
       "      <td>0</td>\n",
       "      <td>0</td>\n",
       "      <td>0</td>\n",
       "      <td>0</td>\n",
       "      <td>0</td>\n",
       "      <td>0</td>\n",
       "      <td>0</td>\n",
       "      <td>0</td>\n",
       "      <td>0</td>\n",
       "      <td>0</td>\n",
       "    </tr>\n",
       "    <tr>\n",
       "      <th>1</th>\n",
       "      <td>1</td>\n",
       "      <td>0.366667</td>\n",
       "      <td>0.606291</td>\n",
       "      <td>0.05</td>\n",
       "      <td>0.0</td>\n",
       "      <td>0.111209</td>\n",
       "      <td>0.803455</td>\n",
       "      <td>0.106105</td>\n",
       "      <td>0.411754</td>\n",
       "      <td>0.836582</td>\n",
       "      <td>...</td>\n",
       "      <td>1</td>\n",
       "      <td>1</td>\n",
       "      <td>1</td>\n",
       "      <td>1</td>\n",
       "      <td>0</td>\n",
       "      <td>1</td>\n",
       "      <td>0</td>\n",
       "      <td>0</td>\n",
       "      <td>1</td>\n",
       "      <td>0</td>\n",
       "    </tr>\n",
       "    <tr>\n",
       "      <th>2</th>\n",
       "      <td>1</td>\n",
       "      <td>0.033300</td>\n",
       "      <td>0.480124</td>\n",
       "      <td>0.00</td>\n",
       "      <td>0.0</td>\n",
       "      <td>0.209791</td>\n",
       "      <td>0.610350</td>\n",
       "      <td>0.356453</td>\n",
       "      <td>0.517720</td>\n",
       "      <td>0.679051</td>\n",
       "      <td>...</td>\n",
       "      <td>0</td>\n",
       "      <td>0</td>\n",
       "      <td>0</td>\n",
       "      <td>0</td>\n",
       "      <td>0</td>\n",
       "      <td>0</td>\n",
       "      <td>0</td>\n",
       "      <td>0</td>\n",
       "      <td>0</td>\n",
       "      <td>0</td>\n",
       "    </tr>\n",
       "    <tr>\n",
       "      <th>3</th>\n",
       "      <td>1</td>\n",
       "      <td>0.000000</td>\n",
       "      <td>0.538825</td>\n",
       "      <td>0.00</td>\n",
       "      <td>0.5</td>\n",
       "      <td>0.196344</td>\n",
       "      <td>0.724230</td>\n",
       "      <td>0.235606</td>\n",
       "      <td>0.288764</td>\n",
       "      <td>0.805110</td>\n",
       "      <td>...</td>\n",
       "      <td>0</td>\n",
       "      <td>0</td>\n",
       "      <td>0</td>\n",
       "      <td>0</td>\n",
       "      <td>0</td>\n",
       "      <td>0</td>\n",
       "      <td>0</td>\n",
       "      <td>0</td>\n",
       "      <td>0</td>\n",
       "      <td>0</td>\n",
       "    </tr>\n",
       "    <tr>\n",
       "      <th>4</th>\n",
       "      <td>0</td>\n",
       "      <td>0.100000</td>\n",
       "      <td>0.517794</td>\n",
       "      <td>0.00</td>\n",
       "      <td>0.0</td>\n",
       "      <td>0.494734</td>\n",
       "      <td>0.781422</td>\n",
       "      <td>0.154361</td>\n",
       "      <td>0.303809</td>\n",
       "      <td>0.812646</td>\n",
       "      <td>...</td>\n",
       "      <td>0</td>\n",
       "      <td>0</td>\n",
       "      <td>0</td>\n",
       "      <td>0</td>\n",
       "      <td>0</td>\n",
       "      <td>0</td>\n",
       "      <td>0</td>\n",
       "      <td>0</td>\n",
       "      <td>0</td>\n",
       "      <td>0</td>\n",
       "    </tr>\n",
       "  </tbody>\n",
       "</table>\n",
       "<p>5 rows × 1777 columns</p>\n",
       "</div>"
      ],
      "text/plain": [
       "   Activity        D1        D2    D3   D4        D5        D6        D7  \\\n",
       "0         1  0.000000  0.497009  0.10  0.0  0.132956  0.678031  0.273166   \n",
       "1         1  0.366667  0.606291  0.05  0.0  0.111209  0.803455  0.106105   \n",
       "2         1  0.033300  0.480124  0.00  0.0  0.209791  0.610350  0.356453   \n",
       "3         1  0.000000  0.538825  0.00  0.5  0.196344  0.724230  0.235606   \n",
       "4         0  0.100000  0.517794  0.00  0.0  0.494734  0.781422  0.154361   \n",
       "\n",
       "         D8        D9  ...  D1767  D1768  D1769  D1770  D1771  D1772  D1773  \\\n",
       "0  0.585445  0.743663  ...      0      0      0      0      0      0      0   \n",
       "1  0.411754  0.836582  ...      1      1      1      1      0      1      0   \n",
       "2  0.517720  0.679051  ...      0      0      0      0      0      0      0   \n",
       "3  0.288764  0.805110  ...      0      0      0      0      0      0      0   \n",
       "4  0.303809  0.812646  ...      0      0      0      0      0      0      0   \n",
       "\n",
       "   D1774  D1775  D1776  \n",
       "0      0      0      0  \n",
       "1      0      1      0  \n",
       "2      0      0      0  \n",
       "3      0      0      0  \n",
       "4      0      0      0  \n",
       "\n",
       "[5 rows x 1777 columns]"
      ]
     },
     "execution_count": 3,
     "metadata": {},
     "output_type": "execute_result"
    }
   ],
   "source": [
    "data_activity.head()"
   ]
  },
  {
   "cell_type": "code",
   "execution_count": 4,
   "metadata": {},
   "outputs": [
    {
     "data": {
      "text/plain": [
       "(3751, 1777)"
      ]
     },
     "execution_count": 4,
     "metadata": {},
     "output_type": "execute_result"
    }
   ],
   "source": [
    "data_activity.shape"
   ]
  },
  {
   "cell_type": "code",
   "execution_count": 5,
   "metadata": {},
   "outputs": [
    {
     "data": {
      "image/png": "[encoded data removed]",
      "text/plain": [
       "<Figure size 576x396 with 1 Axes>"
      ]
     },
     "metadata": {},
     "output_type": "display_data"
    }
   ],
   "source": [
    "# Смотрим на сбалансированность классов:\n",
    "sns.countplot(data=data_activity, x='Activity');\n",
    "# классы не сильно, но несбалансированы"
   ]
  },
  {
   "cell_type": "code",
   "execution_count": 6,
   "metadata": {},
   "outputs": [],
   "source": [
    "# Создаем матрицу наблюдений X и вектор ответов y\n",
    "X = data_activity.drop(['Activity'], axis=1)\n",
    "y = data_activity['Activity']"
   ]
  },
  {
   "cell_type": "code",
   "execution_count": 7,
   "metadata": {},
   "outputs": [],
   "source": [
    "# Разделяем выборку на тренировочную и тестовую в соотношении 80/20. \n",
    "# Для сохранения соотношений целевого признака используем параметр stratify (стратифицированное разбиение). \n",
    "X_train, X_test, y_train, y_test = train_test_split(X, y, stratify=y, random_state = 42, test_size = 0.2)"
   ]
  },
  {
   "cell_type": "code",
   "execution_count": 8,
   "metadata": {},
   "outputs": [
    {
     "data": {
      "text/plain": [
       "1    0.542333\n",
       "0    0.457667\n",
       "Name: Activity, dtype: float64"
      ]
     },
     "metadata": {},
     "output_type": "display_data"
    },
    {
     "data": {
      "text/plain": [
       "1    0.541944\n",
       "0    0.458056\n",
       "Name: Activity, dtype: float64"
      ]
     },
     "execution_count": 8,
     "metadata": {},
     "output_type": "execute_result"
    }
   ],
   "source": [
    "from locale import normalize\n",
    "\n",
    "\n",
    "display(y_train.value_counts(normalize = True))\n",
    "y_test.value_counts(normalize = True)\n",
    "# Тренировоная и тестовая выборка сбалансированы "
   ]
  },
  {
   "cell_type": "code",
   "execution_count": 59,
   "metadata": {},
   "outputs": [
    {
     "name": "stdout",
     "output_type": "stream",
     "text": [
      "f1_score на train: 0.89\n",
      "f1_score на тестовом наборе: 0.78\n"
     ]
    }
   ],
   "source": [
    "#Создаем объект класса логистическая регрессия\n",
    "log_reg = linear_model.LogisticRegression(max_iter = 1000)\n",
    "#Обучаем модель, минимизируя logloss\n",
    "log_reg.fit(X_train, y_train)\n",
    "y_train_pred = log_reg.predict(X_train)\n",
    "print(\"f1_score на train: {:.2f}\".format(metrics.f1_score(y_train, y_train_pred)))\n",
    "y_test_pred = log_reg.predict(X_test)\n",
    "print('f1_score на тестовом наборе: {:.2f}'.format(metrics.f1_score(y_test, y_test_pred)))"
   ]
  },
  {
   "cell_type": "code",
   "execution_count": 10,
   "metadata": {},
   "outputs": [
    {
     "name": "stdout",
     "output_type": "stream",
     "text": [
      "Train: 1.00\n",
      "Test: 0.80\n"
     ]
    }
   ],
   "source": [
    "#Создаем объект класса случайный лес\n",
    "rf = ensemble.RandomForestClassifier(random_state=42)\n",
    "\n",
    "#Обучаем модель\n",
    "rf.fit(X_train, y_train)\n",
    "#Выводим значения метрики \n",
    "y_train_pred = rf.predict(X_train)\n",
    "print('Train: {:.2f}'.format(metrics.f1_score(y_train, y_train_pred)))\n",
    "y_test_pred = rf.predict(X_test)\n",
    "print('Test: {:.2f}'.format(metrics.f1_score(y_test, y_test_pred)))\n",
    "# Видно, что модель имеет признаки переобучения, однако, получены неплохие score на test"
   ]
  },
  {
   "cell_type": "markdown",
   "metadata": {},
   "source": [
    "### <center> **GridSearchCV**"
   ]
  },
  {
   "cell_type": "markdown",
   "metadata": {},
   "source": [
    "### LogisticRegression"
   ]
  },
  {
   "cell_type": "code",
   "execution_count": 13,
   "metadata": {},
   "outputs": [
    {
     "name": "stdout",
     "output_type": "stream",
     "text": [
      "CPU times: total: 0 ns\n",
      "Wall time: 0 ns\n",
      "accuracy на тестовом наборе: 0.76\n",
      "f1_score на тестовом наборе: 0.78\n",
      "Наилучшие значения гиперпараметров: {'C': 0.01, 'penalty': 'l2', 'solver': 'lbfgs'}\n"
     ]
    }
   ],
   "source": [
    "# задаем диапазон параметров для логистической регрессии\n",
    "param_grid = {'penalty': ['l2', 'none'] , # тип регуляризации\n",
    "              'solver': ['lbfgs', 'sag'], # алгоритм оптимизации\n",
    "               'C': [0.01, 0.5, 1]}\n",
    "grid_search = GridSearchCV(\n",
    "    estimator=linear_model.LogisticRegression(\n",
    "        random_state=42, #генератор случайных чисел\n",
    "        max_iter=1000 #количество итераций на сходимость\n",
    "    ), \n",
    "    param_grid=param_grid, \n",
    "    cv=5, \n",
    "    n_jobs = -1\n",
    ")  \n",
    "%time \n",
    "grid_search.fit(X_train, y_train) \n",
    "y_train_pred = grid_search.predict(X_train)\n",
    "print('f1_score на трейн наборе: {:.2f}'.format(metrics.f1_score(y_test, y_test_pred)))\n",
    "y_test_pred = grid_search.predict(X_test)\n",
    "print('f1_score на тестовом наборе: {:.2f}'.format(metrics.f1_score(y_test, y_test_pred)))\n",
    "print(\"Наилучшие значения гиперпараметров: {}\".format(grid_search.best_params_))"
   ]
  },
  {
   "cell_type": "code",
   "execution_count": 20,
   "metadata": {},
   "outputs": [
    {
     "name": "stdout",
     "output_type": "stream",
     "text": [
      "f1_score на трейн наборе: 0.82\n",
      "f1_score на тестовом наборе: 0.78\n",
      "Наилучшие значения гиперпараметров: {'C': 0.01, 'penalty': 'l2', 'solver': 'lbfgs'}\n"
     ]
    }
   ],
   "source": [
    "y_train_pred = grid_search.predict(X_train)\n",
    "print('f1_score на трейн наборе: {:.2f}'.format(metrics.f1_score(y_train, y_train_pred)))\n",
    "y_test_pred = grid_search.predict(X_test)\n",
    "print('f1_score на тестовом наборе: {:.2f}'.format(metrics.f1_score(y_test, y_test_pred)))\n",
    "print(\"Наилучшие значения гиперпараметров: {}\".format(grid_search.best_params_))"
   ]
  },
  {
   "cell_type": "markdown",
   "metadata": {},
   "source": [
    "### RandomForestClassifier"
   ]
  },
  {
   "cell_type": "code",
   "execution_count": 23,
   "metadata": {},
   "outputs": [
    {
     "name": "stdout",
     "output_type": "stream",
     "text": [
      "CPU times: total: 0 ns\n",
      "Wall time: 0 ns\n",
      "f1_score на трейн наборе: 0.94\n",
      "f1_score на тестовом наборе: 0.80\n",
      "Наилучшие значения гиперпараметров: {'max_depth': 15, 'min_samples_leaf': 5, 'n_estimators': 300}\n"
     ]
    }
   ],
   "source": [
    "\n",
    "# Оптимизируем параметры RandomForestClassifier с кросс-валидацией на пяти фолдах\n",
    "\n",
    "param_grid = {'n_estimators': [100, 300] , # количество деревьев\n",
    "              'min_samples_leaf': [5,7], # минимальное количество объектов в листе\n",
    "               'max_depth': [15,35]}\n",
    "\n",
    "grid_search = GridSearchCV(\n",
    "    estimator=ensemble.RandomForestClassifier(\n",
    "        random_state=42, #генератор случайных чисел\n",
    "        # max_iter=1000 #количество итераций на сходимость\n",
    "    ), \n",
    "    param_grid=param_grid, \n",
    "    cv=5, \n",
    "    n_jobs = -1\n",
    ")  \n",
    "%time \n",
    "grid_search.fit(X_train, y_train) \n",
    "y_train_pred = grid_search.predict(X_train)\n",
    "print('f1_score на трейн наборе: {:.2f}'.format(metrics.f1_score(y_train, y_train_pred)))\n",
    "y_test_pred = grid_search.predict(X_test)\n",
    "print('f1_score на тестовом наборе: {:.2f}'.format(metrics.f1_score(y_test, y_test_pred)))\n",
    "print(\"Наилучшие значения гиперпараметров: {}\".format(grid_search.best_params_))"
   ]
  },
  {
   "cell_type": "markdown",
   "metadata": {},
   "source": [
    "### <center> **RandomizedSearchCV**"
   ]
  },
  {
   "cell_type": "markdown",
   "metadata": {},
   "source": [
    "### LogisticRegression"
   ]
  },
  {
   "cell_type": "code",
   "execution_count": 28,
   "metadata": {},
   "outputs": [
    {
     "name": "stdout",
     "output_type": "stream",
     "text": [
      "CPU times: total: 0 ns\n",
      "Wall time: 0 ns\n"
     ]
    },
    {
     "name": "stderr",
     "output_type": "stream",
     "text": [
      "C:\\Users\\Arwielao\\AppData\\Roaming\\Python\\Python310\\site-packages\\sklearn\\model_selection\\_search.py:306: UserWarning: The total space of parameters 8 is smaller than n_iter=10. Running 8 iterations. For exhaustive searches, use GridSearchCV.\n",
      "  warnings.warn(\n"
     ]
    },
    {
     "name": "stdout",
     "output_type": "stream",
     "text": [
      "f1_score на трейн наборе: 0.82\n",
      "f1_score на тестовом наборе: 0.78\n",
      "Наилучшие значения гиперпараметров: {'solver': 'lbfgs', 'penalty': 'l2', 'C': 0.01}\n"
     ]
    }
   ],
   "source": [
    "# задаем распределение параметров для поиска по методу RandomizedSearchCV\n",
    "param_distributions = {'penalty': ['l2', 'none'] , # тип регуляризации\n",
    "              'solver': ['lbfgs', 'sag'], # алгоритм оптимизации\n",
    "               'C': [0.01, 1]}\n",
    "            \n",
    "random_search_logreg = RandomizedSearchCV(\n",
    "    estimator=linear_model.LogisticRegression(\n",
    "        random_state=42, #генератор случайных чисел\n",
    "        max_iter=1000 #количество итераций на сходимость\n",
    "    ), \n",
    "    param_distributions=param_distributions, \n",
    "    cv=5,\n",
    "    n_iter = 10, \n",
    "    n_jobs = -1,\n",
    "    return_train_score=True\n",
    ")  \n",
    "%time \n",
    "random_search_logreg.fit(X_train, y_train) \n",
    "y_train_pred = random_search_logreg.predict(X_train)\n",
    "print('f1_score на трейн наборе: {:.2f}'.format(metrics.f1_score(y_train, y_train_pred)))\n",
    "y_test_pred = random_search_logreg.predict(X_test)\n",
    "print('f1_score на тестовом наборе: {:.2f}'.format(metrics.f1_score(y_test, y_test_pred)))\n",
    "print(\"Наилучшие значения гиперпараметров: {}\".format(random_search_logreg.best_params_))"
   ]
  },
  {
   "cell_type": "markdown",
   "metadata": {},
   "source": [
    "### RandomForestClassifier"
   ]
  },
  {
   "cell_type": "code",
   "execution_count": 33,
   "metadata": {},
   "outputs": [
    {
     "name": "stdout",
     "output_type": "stream",
     "text": [
      "CPU times: total: 0 ns\n",
      "Wall time: 0 ns\n",
      "f1_score на трейн наборе: 0.97\n",
      "f1_score на тестовом наборе: 0.80\n",
      "Наилучшие значения гиперпараметров: {'n_estimators': 300, 'min_samples_leaf': 3, 'max_depth': 15, 'criterion': 'gini'}\n"
     ]
    }
   ],
   "source": [
    "# задаем распределение параметров для поиска по методу RandomizedSearchCV\n",
    "param_distributions = {'min_samples_leaf': [3,5,7],\n",
    "              'max_depth': [15,40],\n",
    "              'criterion':['entropy','gini'],\n",
    "              'n_estimators':[100,300]\n",
    "              }\n",
    "            \n",
    "random_search_randomforest = RandomizedSearchCV(\n",
    "    estimator=ensemble.RandomForestClassifier(random_state=42), \n",
    "    param_distributions=param_distributions, \n",
    "    cv=5,\n",
    "    n_iter = 10, \n",
    "    n_jobs = -1,\n",
    "    return_train_score=True\n",
    ")  \n"
   ]
  },
  {
   "cell_type": "code",
   "execution_count": 34,
   "metadata": {},
   "outputs": [
    {
     "name": "stdout",
     "output_type": "stream",
     "text": [
      "CPU times: total: 0 ns\n",
      "Wall time: 0 ns\n",
      "f1_score на трейн наборе: 0.97\n",
      "f1_score на тестовом наборе: 0.80\n",
      "Наилучшие значения гиперпараметров: {'n_estimators': 300, 'min_samples_leaf': 3, 'max_depth': 15, 'criterion': 'gini'}\n"
     ]
    }
   ],
   "source": [
    "%time \n",
    "random_search_randomforest.fit(X_train, y_train) \n",
    "y_train_pred = random_search_randomforest.predict(X_train)\n",
    "print('f1_score на трейн наборе: {:.2f}'.format(metrics.f1_score(y_train, y_train_pred)))\n",
    "y_test_pred = random_search_randomforest.predict(X_test)\n",
    "print('f1_score на тестовом наборе: {:.2f}'.format(metrics.f1_score(y_test, y_test_pred)))\n",
    "print(\"Наилучшие значения гиперпараметров: {}\".format(random_search_randomforest.best_params_))"
   ]
  },
  {
   "cell_type": "markdown",
   "metadata": {},
   "source": [
    "### <center> Hyperopt"
   ]
  },
  {
   "cell_type": "code",
   "execution_count": 35,
   "metadata": {},
   "outputs": [
    {
     "name": "stdout",
     "output_type": "stream",
     "text": [
      "Версия Hyperopt : 0.2.7\n"
     ]
    }
   ],
   "source": [
    "#делаем импорт и выведем версию библиотеки\n",
    "from sklearn.model_selection import cross_val_score\n",
    "import hyperopt\n",
    "from hyperopt import hp, fmin, tpe, Trials\n",
    "# fmin - основная функция, она будет минимизировать наш функционал\n",
    "# tpe - алгоритм оптимизации\n",
    "# hp - включает набор методов для объявления пространства поиска гиперпараметров\n",
    "# trails - используется для логирования результатов\n",
    "\n",
    "print(\"Версия Hyperopt : {}\".format(hyperopt.__version__))"
   ]
  },
  {
   "cell_type": "markdown",
   "metadata": {},
   "source": [
    "### LogisticRegression"
   ]
  },
  {
   "cell_type": "code",
   "execution_count": null,
   "metadata": {},
   "outputs": [],
   "source": [
    "#param_distributions = {'penalty': ['l2', 'none'] , # тип регуляризации\n",
    " #             'solver': ['lbfgs', 'sag'], # алгоритм оптимизации\n",
    "#               'C': list(np.linspace(0.01, 1, 10, dtype=float))}\n",
    "\n",
    "# зададим пространство поиска гиперпараметров\n",
    "space={'penalty': hp.choice('penalty', ['l2', 'none']),\n",
    "       'solver' : hp.choice('solver', ['lbfgs', 'sag']),\n",
    "       'C': hp.quniform('C', 0.01,1,0.1)\n",
    "      }"
   ]
  },
  {
   "cell_type": "code",
   "execution_count": 36,
   "metadata": {},
   "outputs": [],
   "source": [
    "# задаем возможные значения параметров логистической регрессии\n",
    "list_solver = ['liblinear', 'saga']\n",
    "list_penalty = ['l2','l1']\n",
    "\n",
    "search_space = {\n",
    "                'solver':  hp.choice(label='solver', options=list_solver),\n",
    "                'penalty' : hp.choice(label='penalty', \n",
    "                          options=list_penalty),\n",
    "                'C' : hp.uniform(label='C', \n",
    "                        low=0.01, \n",
    "                        high=1)\n",
    "                }"
   ]
  },
  {
   "cell_type": "code",
   "execution_count": 37,
   "metadata": {},
   "outputs": [],
   "source": [
    "# зафксируем random_state\n",
    "random_state = 42\n",
    "def hyperopt_logreg(params, cv=5, X=X_train, y=y_train, random_state=random_state):\n",
    "    # функция получает комбинацию гиперпараметров в \"params\"\n",
    "    params = {'penalty': params['penalty'], \n",
    "              'solver': params['solver'], \n",
    "              'C': params['C']\n",
    "              }\n",
    "    # print(params['penalty'])\n",
    "  \n",
    "    # используем эту комбинацию для построения модели\n",
    "    model = linear_model.LogisticRegression(**params, random_state=random_state, max_iter=1000)\n",
    "\n",
    "    # обучаем модель\n",
    "    model.fit(X, y)\n",
    "    # score = metrics.f1_score(y, model.predict(X))\n",
    "    \n",
    "    # обучать модель можно также с помощью кросс-валидации\n",
    "    # применим  cross validation с тем же количеством фолдов\n",
    "    score = cross_val_score(model, X, y, cv=cv, scoring=\"f1\", n_jobs=-1).mean()\n",
    "\n",
    "    # метрику необходимо минимизировать, поэтому ставим знак минус\n",
    "    return -score"
   ]
  },
  {
   "cell_type": "code",
   "execution_count": 38,
   "metadata": {},
   "outputs": [
    {
     "name": "stdout",
     "output_type": "stream",
     "text": [
      "CPU times: total: 0 ns\n",
      "Wall time: 0 ns\n",
      " 30%|███       | 6/20 [01:42<05:00, 21.49s/trial, best loss: -0.7920651360713664]"
     ]
    },
    {
     "name": "stderr",
     "output_type": "stream",
     "text": [
      "C:\\Users\\Arwielao\\AppData\\Roaming\\Python\\Python310\\site-packages\\sklearn\\linear_model\\_sag.py:350: ConvergenceWarning: The max_iter was reached which means the coef_ did not converge\n",
      "  warnings.warn(\n",
      "\n"
     ]
    },
    {
     "name": "stdout",
     "output_type": "stream",
     "text": [
      " 55%|█████▌    | 11/20 [03:57<02:42, 18.00s/trial, best loss: -0.7920651360713664]"
     ]
    },
    {
     "name": "stderr",
     "output_type": "stream",
     "text": [
      "C:\\Users\\Arwielao\\AppData\\Roaming\\Python\\Python310\\site-packages\\sklearn\\linear_model\\_sag.py:350: ConvergenceWarning: The max_iter was reached which means the coef_ did not converge\n",
      "  warnings.warn(\n",
      "\n"
     ]
    },
    {
     "name": "stdout",
     "output_type": "stream",
     "text": [
      " 80%|████████  | 16/20 [06:54<01:39, 24.99s/trial, best loss: -0.7920651360713664]"
     ]
    },
    {
     "name": "stderr",
     "output_type": "stream",
     "text": [
      "C:\\Users\\Arwielao\\AppData\\Roaming\\Python\\Python310\\site-packages\\sklearn\\linear_model\\_sag.py:350: ConvergenceWarning: The max_iter was reached which means the coef_ did not converge\n",
      "  warnings.warn(\n",
      "\n"
     ]
    },
    {
     "name": "stdout",
     "output_type": "stream",
     "text": [
      "100%|██████████| 20/20 [09:43<00:00, 29.20s/trial, best loss: -0.7920651360713664]\n",
      "Наилучшие значения гиперпараметров {'C': 0.16941386753130935, 'penalty': 1, 'solver': 1}\n"
     ]
    }
   ],
   "source": [
    "# начинаем подбор гиперпараметров\n",
    "%time\n",
    "\n",
    "trials = Trials() # используется для логирования результатов\n",
    "\n",
    "best=fmin(hyperopt_logreg, # наша функция \n",
    "          space=search_space, # пространство гиперпараметров\n",
    "          algo=tpe.suggest, # алгоритм оптимизации, установлен по умолчанию, задавать необязательно\n",
    "          max_evals=20, # максимальное количество итераций\n",
    "          trials=trials, # логирование результатов\n",
    "          rstate=np.random.default_rng(random_state)# фиксируем для повторяемости результата\n",
    "         )\n",
    "print(\"Наилучшие значения гиперпараметров {}\".format(best))"
   ]
  },
  {
   "cell_type": "code",
   "execution_count": 40,
   "metadata": {},
   "outputs": [
    {
     "name": "stdout",
     "output_type": "stream",
     "text": [
      "f1_score на обучающем наборе: 0.82\n",
      "f1_score на тестовом наборе: 0.78\n"
     ]
    }
   ],
   "source": [
    "# Лог. рег. с наилучшими параметрами\n",
    "model = linear_model.LogisticRegression(\n",
    "    random_state=random_state, \n",
    "    solver=list_solver[best['solver']],\n",
    "    penalty=list_penalty[best['penalty']],\n",
    "    C=best['C'], \n",
    "    max_iter=1000\n",
    "    )\n",
    "model.fit(X_train, y_train)\n",
    "\n",
    "y_train_pred = model.predict(X_train)\n",
    "print('f1_score на обучающем наборе: {:.2f}'.format(metrics.f1_score(y_train, y_train_pred)))\n",
    "\n",
    "y_test_pred = model.predict(X_test)\n",
    "print('f1_score на тестовом наборе: {:.2f}'.format(metrics.f1_score(y_test, y_test_pred)))"
   ]
  },
  {
   "cell_type": "code",
   "execution_count": 42,
   "metadata": {},
   "outputs": [],
   "source": [
    "# зададим пространство поиска гиперпараметров\n",
    "space={'n_estimators': hp.quniform('n_estimators', 100, 200, 50),\n",
    "       'max_depth' : hp.quniform('max_depth', 15, 21, 2),\n",
    "       'min_samples_leaf': hp.quniform('min_samples_leaf', 2, 8, 3)\n",
    "      }"
   ]
  },
  {
   "cell_type": "markdown",
   "metadata": {},
   "source": [
    "### RandomForestClassifier"
   ]
  },
  {
   "cell_type": "code",
   "execution_count": 43,
   "metadata": {},
   "outputs": [],
   "source": [
    "# зафксируем random_state\n",
    "random_state = 42\n",
    "def hyperopt_rf(params, cv=5, X=X_train, y=y_train, random_state=random_state):\n",
    "    # функция получает комбинацию гиперпараметров в \"params\"\n",
    "    params = {'n_estimators': int(params['n_estimators']), \n",
    "              'max_depth': int(params['max_depth']), \n",
    "             'min_samples_leaf': int(params['min_samples_leaf'])\n",
    "              }\n",
    "  \n",
    "    # используем эту комбинацию для построения модели\n",
    "    model = ensemble.RandomForestClassifier(**params, random_state=random_state)\n",
    "\n",
    "    # обучаем модель\n",
    "    model.fit(X, y)\n",
    "    # score = metrics.f1_score(y, model.predict(X))\n",
    "    \n",
    "    # обучать модель можно также с помощью кросс-валидации\n",
    "    # применим  cross validation с тем же количеством фолдов\n",
    "    score = cross_val_score(model, X, y, cv=cv, scoring=\"f1\", n_jobs=-1).mean()\n",
    "\n",
    "    # метрику необходимо минимизировать, поэтому ставим знак минус\n",
    "    return -score"
   ]
  },
  {
   "cell_type": "code",
   "execution_count": 45,
   "metadata": {},
   "outputs": [
    {
     "name": "stdout",
     "output_type": "stream",
     "text": [
      "CPU times: total: 0 ns\n",
      "Wall time: 0 ns\n",
      "100%|██████████| 20/20 [01:13<00:00,  3.70s/trial, best loss: -0.8160314454584471]\n",
      "Наилучшие значения гиперпараметров {'max_depth': 16.0, 'min_samples_leaf': 3.0, 'n_estimators': 150.0}\n"
     ]
    }
   ],
   "source": [
    "# начинаем подбор гиперпараметров\n",
    "%time\n",
    "\n",
    "trials = Trials() # используется для логирования результатов\n",
    "\n",
    "best=fmin(hyperopt_rf, # наша функция \n",
    "          space=space, # пространство гиперпараметров\n",
    "          algo=tpe.suggest, # алгоритм оптимизации, установлен по умолчанию, задавать необязательно\n",
    "          max_evals=20, # максимальное количество итераций\n",
    "          trials=trials, # логирование результатов\n",
    "          rstate=np.random.default_rng(random_state)# фиксируем для повторяемости результата\n",
    "         )\n",
    "print(\"Наилучшие значения гиперпараметров {}\".format(best))"
   ]
  },
  {
   "cell_type": "code",
   "execution_count": 46,
   "metadata": {},
   "outputs": [
    {
     "name": "stdout",
     "output_type": "stream",
     "text": [
      "f1_score на обучающем наборе: 0.97\n",
      "f1_score на тестовом наборе: 0.80\n"
     ]
    }
   ],
   "source": [
    "model = ensemble.RandomForestClassifier(\n",
    "    random_state=random_state, \n",
    "    n_estimators=int(best['n_estimators']),\n",
    "    max_depth=int(best['max_depth']),\n",
    "    min_samples_leaf=int(best['min_samples_leaf'])\n",
    ")\n",
    "model.fit(X_train, y_train)\n",
    "y_train_pred = model.predict(X_train)\n",
    "print('f1_score на обучающем наборе: {:.2f}'.format(metrics.f1_score(y_train, y_train_pred)))\n",
    "\n",
    "y_test_pred = model.predict(X_test)\n",
    "print('f1_score на тестовом наборе: {:.2f}'.format(metrics.f1_score(y_test, y_test_pred)))"
   ]
  },
  {
   "cell_type": "markdown",
   "metadata": {},
   "source": [
    "## <center> Optuna"
   ]
  },
  {
   "cell_type": "markdown",
   "metadata": {},
   "source": [
    "### LogisticRegression"
   ]
  },
  {
   "cell_type": "code",
   "execution_count": 47,
   "metadata": {},
   "outputs": [],
   "source": [
    "def optuna_log_reg(trial):\n",
    "  # задаем пространства поиска гиперпараметров\n",
    "  solver = trial.suggest_categorical('solver', list_solver)\n",
    "  penalty = trial.suggest_categorical('penalty', list_penalty)\n",
    "  C = trial.suggest_float('C', 0.01, 1)\n",
    "\n",
    "  # создаем модель\n",
    "  model = linear_model.LogisticRegression(solver=solver, penalty=penalty, C=C, random_state=random_state, max_iter=1000)\n",
    "  \n",
    "  \n",
    "  # обучаем модель\n",
    "  model.fit(X_train, y_train)\n",
    "  # score = metrics.f1_score(y_train, model.predict(X_train))\n",
    "  score = cross_val_score(model, X_train, y_train, cv=5, scoring=\"f1\", n_jobs=-1).mean()\n",
    "  return score"
   ]
  },
  {
   "cell_type": "code",
   "execution_count": 48,
   "metadata": {},
   "outputs": [
    {
     "name": "stderr",
     "output_type": "stream",
     "text": [
      "\u001b[32m[I 2022-10-05 16:06:24,101]\u001b[0m A new study created in memory with name: LogisticRegression\u001b[0m\n",
      "\u001b[32m[I 2022-10-05 16:06:25,531]\u001b[0m Trial 0 finished with value: 0.7851563321794984 and parameters: {'solver': 'liblinear', 'penalty': 'l2', 'C': 0.11860041460815697}. Best is trial 0 with value: 0.7851563321794984.\u001b[0m\n",
      "\u001b[32m[I 2022-10-05 16:06:27,186]\u001b[0m Trial 1 finished with value: 0.7764956573903922 and parameters: {'solver': 'liblinear', 'penalty': 'l2', 'C': 0.7589646597201847}. Best is trial 0 with value: 0.7851563321794984.\u001b[0m\n",
      "\u001b[32m[I 2022-10-05 16:07:17,308]\u001b[0m Trial 2 finished with value: 0.7742623933483543 and parameters: {'solver': 'saga', 'penalty': 'l2', 'C': 0.9544623905598386}. Best is trial 0 with value: 0.7851563321794984.\u001b[0m\n",
      "\u001b[32m[I 2022-10-05 16:07:18,677]\u001b[0m Trial 3 finished with value: 0.7767862489675463 and parameters: {'solver': 'liblinear', 'penalty': 'l2', 'C': 0.3175875806695267}. Best is trial 0 with value: 0.7851563321794984.\u001b[0m\n",
      "\u001b[32m[I 2022-10-05 16:07:20,371]\u001b[0m Trial 4 finished with value: 0.7762707728445116 and parameters: {'solver': 'liblinear', 'penalty': 'l2', 'C': 0.7511431905308925}. Best is trial 0 with value: 0.7851563321794984.\u001b[0m\n",
      "\u001b[32m[I 2022-10-05 16:07:21,865]\u001b[0m Trial 5 finished with value: 0.7877658724725534 and parameters: {'solver': 'liblinear', 'penalty': 'l1', 'C': 0.5017906857179506}. Best is trial 5 with value: 0.7877658724725534.\u001b[0m\n",
      "\u001b[32m[I 2022-10-05 16:07:23,385]\u001b[0m Trial 6 finished with value: 0.7766580857883225 and parameters: {'solver': 'liblinear', 'penalty': 'l2', 'C': 0.7323775644779089}. Best is trial 5 with value: 0.7877658724725534.\u001b[0m\n",
      "\u001b[32m[I 2022-10-05 16:07:59,856]\u001b[0m Trial 7 finished with value: 0.780325076788712 and parameters: {'solver': 'saga', 'penalty': 'l2', 'C': 0.5850444562615057}. Best is trial 5 with value: 0.7877658724725534.\u001b[0m\n",
      "\u001b[32m[I 2022-10-05 16:08:01,351]\u001b[0m Trial 8 finished with value: 0.7763714248408652 and parameters: {'solver': 'liblinear', 'penalty': 'l2', 'C': 0.816310486516652}. Best is trial 5 with value: 0.7877658724725534.\u001b[0m\n",
      "\u001b[32m[I 2022-10-05 16:08:27,397]\u001b[0m Trial 9 finished with value: 0.777385227646687 and parameters: {'solver': 'saga', 'penalty': 'l2', 'C': 0.3804180567210985}. Best is trial 5 with value: 0.7877658724725534.\u001b[0m\n",
      "\u001b[32m[I 2022-10-05 16:08:28,207]\u001b[0m Trial 10 finished with value: 0.7882936871105476 and parameters: {'solver': 'liblinear', 'penalty': 'l1', 'C': 0.1302041171162125}. Best is trial 10 with value: 0.7882936871105476.\u001b[0m\n",
      "\u001b[32m[I 2022-10-05 16:08:29,094]\u001b[0m Trial 11 finished with value: 0.7577274583182511 and parameters: {'solver': 'liblinear', 'penalty': 'l1', 'C': 0.019369042225760635}. Best is trial 10 with value: 0.7882936871105476.\u001b[0m\n",
      "\u001b[32m[I 2022-10-05 16:08:29,950]\u001b[0m Trial 12 finished with value: 0.7905801185801186 and parameters: {'solver': 'liblinear', 'penalty': 'l1', 'C': 0.207673173233624}. Best is trial 12 with value: 0.7905801185801186.\u001b[0m\n",
      "\u001b[32m[I 2022-10-05 16:08:30,825]\u001b[0m Trial 13 finished with value: 0.7892643846477355 and parameters: {'solver': 'liblinear', 'penalty': 'l1', 'C': 0.2131252891988888}. Best is trial 12 with value: 0.7905801185801186.\u001b[0m\n",
      "C:\\Users\\Arwielao\\AppData\\Roaming\\Python\\Python310\\site-packages\\sklearn\\linear_model\\_sag.py:350: ConvergenceWarning: The max_iter was reached which means the coef_ did not converge\n",
      "  warnings.warn(\n",
      "\u001b[32m[I 2022-10-05 16:10:03,024]\u001b[0m Trial 14 finished with value: 0.7897563908307242 and parameters: {'solver': 'saga', 'penalty': 'l1', 'C': 0.26665073777304515}. Best is trial 12 with value: 0.7905801185801186.\u001b[0m\n",
      "C:\\Users\\Arwielao\\AppData\\Roaming\\Python\\Python310\\site-packages\\sklearn\\linear_model\\_sag.py:350: ConvergenceWarning: The max_iter was reached which means the coef_ did not converge\n",
      "  warnings.warn(\n",
      "\u001b[32m[I 2022-10-05 16:11:39,473]\u001b[0m Trial 15 finished with value: 0.7881935212724633 and parameters: {'solver': 'saga', 'penalty': 'l1', 'C': 0.3643928202703801}. Best is trial 12 with value: 0.7905801185801186.\u001b[0m\n",
      "C:\\Users\\Arwielao\\AppData\\Roaming\\Python\\Python310\\site-packages\\sklearn\\linear_model\\_sag.py:350: ConvergenceWarning: The max_iter was reached which means the coef_ did not converge\n",
      "  warnings.warn(\n",
      "\u001b[32m[I 2022-10-05 16:13:12,629]\u001b[0m Trial 16 finished with value: 0.7902442977766535 and parameters: {'solver': 'saga', 'penalty': 'l1', 'C': 0.2537036812158001}. Best is trial 12 with value: 0.7905801185801186.\u001b[0m\n",
      "C:\\Users\\Arwielao\\AppData\\Roaming\\Python\\Python310\\site-packages\\sklearn\\linear_model\\_sag.py:350: ConvergenceWarning: The max_iter was reached which means the coef_ did not converge\n",
      "  warnings.warn(\n",
      "\u001b[32m[I 2022-10-05 16:14:53,459]\u001b[0m Trial 17 finished with value: 0.7872510253774399 and parameters: {'solver': 'saga', 'penalty': 'l1', 'C': 0.4672861784498988}. Best is trial 12 with value: 0.7905801185801186.\u001b[0m\n",
      "\u001b[32m[I 2022-10-05 16:15:24,059]\u001b[0m Trial 18 finished with value: 0.7906081973750754 and parameters: {'solver': 'saga', 'penalty': 'l1', 'C': 0.14683910222371127}. Best is trial 18 with value: 0.7906081973750754.\u001b[0m\n",
      "\u001b[32m[I 2022-10-05 16:15:45,016]\u001b[0m Trial 19 finished with value: 0.7777518669433133 and parameters: {'solver': 'saga', 'penalty': 'l1', 'C': 0.08236826842666073}. Best is trial 18 with value: 0.7906081973750754.\u001b[0m\n"
     ]
    },
    {
     "name": "stdout",
     "output_type": "stream",
     "text": [
      "CPU times: total: 4min 19s\n",
      "Wall time: 9min 20s\n"
     ]
    }
   ],
   "source": [
    "%time\n",
    "# cоздаем объект исследования\n",
    "# можем напрямую указать, что нам необходимо максимизировать метрику direction=\"maximize\"\n",
    "study = optuna.create_study(study_name=\"LogisticRegression\", direction=\"maximize\")\n",
    "# ищем лучшую комбинацию гиперпараметров n_trials раз\n",
    "study.optimize(optuna_log_reg, n_trials=20)"
   ]
  },
  {
   "cell_type": "code",
   "execution_count": 49,
   "metadata": {},
   "outputs": [
    {
     "name": "stdout",
     "output_type": "stream",
     "text": [
      "Наилучшие значения гиперпараметров {'solver': 'saga', 'penalty': 'l1', 'C': 0.14683910222371127}\n",
      "f1_score на обучающем наборе: 0.79\n"
     ]
    }
   ],
   "source": [
    "# выводим результаты на обучающей выборке\n",
    "print(\"Наилучшие значения гиперпараметров {}\".format(study.best_params))\n",
    "print(\"f1_score на обучающем наборе: {:.2f}\".format(study.best_value))"
   ]
  },
  {
   "cell_type": "code",
   "execution_count": 51,
   "metadata": {},
   "outputs": [
    {
     "name": "stderr",
     "output_type": "stream",
     "text": [
      "C:\\Users\\Arwielao\\AppData\\Roaming\\Python\\Python310\\site-packages\\sklearn\\linear_model\\_sag.py:350: ConvergenceWarning: The max_iter was reached which means the coef_ did not converge\n",
      "  warnings.warn(\n"
     ]
    },
    {
     "name": "stdout",
     "output_type": "stream",
     "text": [
      "f1_score на обучающем наборе: 0.8161434977578477\n",
      "f1_score на обучающем наборе при кроссвалидации: 0.790529204355831\n",
      "f1_score на тестовом наборе: 0.7706855791962176\n"
     ]
    }
   ],
   "source": [
    "# задаем наилучшие парметры по Optuna для лог. регрессии и оцениваем score для train и test \n",
    "model = linear_model.LogisticRegression(\n",
    "    random_state=random_state, \n",
    "    solver=study.best_params['solver'],\n",
    "    penalty=study.best_params['penalty'],\n",
    "    C=study.best_params['C']\n",
    "    )\n",
    "model.fit(X_train, y_train)\n",
    "y_train_pred = model.predict(X_train)\n",
    "print(f'f1_score на обучающем наборе: {metrics.f1_score(y_train, y_train_pred)}')\n",
    "print(f'f1_score на обучающем наборе при кроссвалидации: {cross_val_score(model, X_train, y_train, cv=5, scoring=\"f1\", n_jobs=-1).mean()}')\n",
    "\n",
    "y_test_pred = model.predict(X_test)\n",
    "print(f'f1_score на тестовом наборе: {metrics.f1_score(y_test, y_test_pred)}')"
   ]
  },
  {
   "cell_type": "markdown",
   "metadata": {},
   "source": [
    "### RandomForest"
   ]
  },
  {
   "cell_type": "code",
   "execution_count": 52,
   "metadata": {},
   "outputs": [],
   "source": [
    "def optuna_rf(trial):\n",
    "  # задаем пространства поиска гиперпараметров\n",
    "  n_estimators = trial.suggest_int('n_estimators', 100, 310, 50)\n",
    "  max_depth = trial.suggest_int('max_depth', 15, 46, 15)\n",
    "  min_samples_leaf = trial.suggest_int('min_samples_leaf', 3, 8, 2)\n",
    "\n",
    "  # создаем модель\n",
    "  model = ensemble.RandomForestClassifier(n_estimators=n_estimators,\n",
    "                                          max_depth=max_depth,\n",
    "                                          min_samples_leaf=min_samples_leaf,\n",
    "                                          random_state=random_state)\n",
    "  # обучаем модель\n",
    "  model.fit(X_train, y_train)\n",
    "  # score = metrics.f1_score(y_train, model.predict(X_train))\n",
    "  score = cross_val_score(model, X_train, y_train, cv=5, scoring=\"f1\", n_jobs=-1).mean()\n",
    "  return score"
   ]
  },
  {
   "cell_type": "code",
   "execution_count": 53,
   "metadata": {},
   "outputs": [
    {
     "name": "stderr",
     "output_type": "stream",
     "text": [
      "\u001b[32m[I 2022-10-05 18:23:06,389]\u001b[0m A new study created in memory with name: RandomForestClassifier\u001b[0m\n"
     ]
    },
    {
     "name": "stdout",
     "output_type": "stream",
     "text": [
      "CPU times: total: 0 ns\n",
      "Wall time: 0 ns\n"
     ]
    },
    {
     "name": "stderr",
     "output_type": "stream",
     "text": [
      "C:\\Users\\Arwielao\\AppData\\Roaming\\Python\\Python310\\site-packages\\optuna\\distributions.py:683: UserWarning: The distribution is specified by [100, 310] and step=50, but the range is not divisible by `step`. It will be replaced by [100, 300].\n",
      "  warnings.warn(\n",
      "C:\\Users\\Arwielao\\AppData\\Roaming\\Python\\Python310\\site-packages\\optuna\\distributions.py:683: UserWarning: The distribution is specified by [15, 46] and step=15, but the range is not divisible by `step`. It will be replaced by [15, 45].\n",
      "  warnings.warn(\n",
      "C:\\Users\\Arwielao\\AppData\\Roaming\\Python\\Python310\\site-packages\\optuna\\distributions.py:683: UserWarning: The distribution is specified by [3, 8] and step=2, but the range is not divisible by `step`. It will be replaced by [3, 7].\n",
      "  warnings.warn(\n",
      "\u001b[32m[I 2022-10-05 18:23:15,913]\u001b[0m Trial 0 finished with value: 0.8079193768629048 and parameters: {'n_estimators': 150, 'max_depth': 30, 'min_samples_leaf': 7}. Best is trial 0 with value: 0.8079193768629048.\u001b[0m\n",
      "C:\\Users\\Arwielao\\AppData\\Roaming\\Python\\Python310\\site-packages\\optuna\\distributions.py:683: UserWarning: The distribution is specified by [100, 310] and step=50, but the range is not divisible by `step`. It will be replaced by [100, 300].\n",
      "  warnings.warn(\n",
      "C:\\Users\\Arwielao\\AppData\\Roaming\\Python\\Python310\\site-packages\\optuna\\distributions.py:683: UserWarning: The distribution is specified by [15, 46] and step=15, but the range is not divisible by `step`. It will be replaced by [15, 45].\n",
      "  warnings.warn(\n",
      "C:\\Users\\Arwielao\\AppData\\Roaming\\Python\\Python310\\site-packages\\optuna\\distributions.py:683: UserWarning: The distribution is specified by [3, 8] and step=2, but the range is not divisible by `step`. It will be replaced by [3, 7].\n",
      "  warnings.warn(\n",
      "\u001b[32m[I 2022-10-05 18:23:25,843]\u001b[0m Trial 1 finished with value: 0.8137087166590004 and parameters: {'n_estimators': 300, 'max_depth': 30, 'min_samples_leaf': 3}. Best is trial 1 with value: 0.8137087166590004.\u001b[0m\n",
      "C:\\Users\\Arwielao\\AppData\\Roaming\\Python\\Python310\\site-packages\\optuna\\distributions.py:683: UserWarning: The distribution is specified by [100, 310] and step=50, but the range is not divisible by `step`. It will be replaced by [100, 300].\n",
      "  warnings.warn(\n",
      "C:\\Users\\Arwielao\\AppData\\Roaming\\Python\\Python310\\site-packages\\optuna\\distributions.py:683: UserWarning: The distribution is specified by [15, 46] and step=15, but the range is not divisible by `step`. It will be replaced by [15, 45].\n",
      "  warnings.warn(\n",
      "C:\\Users\\Arwielao\\AppData\\Roaming\\Python\\Python310\\site-packages\\optuna\\distributions.py:683: UserWarning: The distribution is specified by [3, 8] and step=2, but the range is not divisible by `step`. It will be replaced by [3, 7].\n",
      "  warnings.warn(\n",
      "\u001b[32m[I 2022-10-05 18:23:33,213]\u001b[0m Trial 2 finished with value: 0.8065406148368822 and parameters: {'n_estimators': 250, 'max_depth': 15, 'min_samples_leaf': 7}. Best is trial 1 with value: 0.8137087166590004.\u001b[0m\n",
      "C:\\Users\\Arwielao\\AppData\\Roaming\\Python\\Python310\\site-packages\\optuna\\distributions.py:683: UserWarning: The distribution is specified by [100, 310] and step=50, but the range is not divisible by `step`. It will be replaced by [100, 300].\n",
      "  warnings.warn(\n",
      "C:\\Users\\Arwielao\\AppData\\Roaming\\Python\\Python310\\site-packages\\optuna\\distributions.py:683: UserWarning: The distribution is specified by [15, 46] and step=15, but the range is not divisible by `step`. It will be replaced by [15, 45].\n",
      "  warnings.warn(\n",
      "C:\\Users\\Arwielao\\AppData\\Roaming\\Python\\Python310\\site-packages\\optuna\\distributions.py:683: UserWarning: The distribution is specified by [3, 8] and step=2, but the range is not divisible by `step`. It will be replaced by [3, 7].\n",
      "  warnings.warn(\n",
      "\u001b[32m[I 2022-10-05 18:23:38,507]\u001b[0m Trial 3 finished with value: 0.8067635919619219 and parameters: {'n_estimators': 200, 'max_depth': 30, 'min_samples_leaf': 7}. Best is trial 1 with value: 0.8137087166590004.\u001b[0m\n",
      "C:\\Users\\Arwielao\\AppData\\Roaming\\Python\\Python310\\site-packages\\optuna\\distributions.py:683: UserWarning: The distribution is specified by [100, 310] and step=50, but the range is not divisible by `step`. It will be replaced by [100, 300].\n",
      "  warnings.warn(\n",
      "C:\\Users\\Arwielao\\AppData\\Roaming\\Python\\Python310\\site-packages\\optuna\\distributions.py:683: UserWarning: The distribution is specified by [15, 46] and step=15, but the range is not divisible by `step`. It will be replaced by [15, 45].\n",
      "  warnings.warn(\n",
      "C:\\Users\\Arwielao\\AppData\\Roaming\\Python\\Python310\\site-packages\\optuna\\distributions.py:683: UserWarning: The distribution is specified by [3, 8] and step=2, but the range is not divisible by `step`. It will be replaced by [3, 7].\n",
      "  warnings.warn(\n",
      "\u001b[32m[I 2022-10-05 18:23:41,183]\u001b[0m Trial 4 finished with value: 0.8014827557840256 and parameters: {'n_estimators': 100, 'max_depth': 45, 'min_samples_leaf': 7}. Best is trial 1 with value: 0.8137087166590004.\u001b[0m\n",
      "C:\\Users\\Arwielao\\AppData\\Roaming\\Python\\Python310\\site-packages\\optuna\\distributions.py:683: UserWarning: The distribution is specified by [100, 310] and step=50, but the range is not divisible by `step`. It will be replaced by [100, 300].\n",
      "  warnings.warn(\n",
      "C:\\Users\\Arwielao\\AppData\\Roaming\\Python\\Python310\\site-packages\\optuna\\distributions.py:683: UserWarning: The distribution is specified by [15, 46] and step=15, but the range is not divisible by `step`. It will be replaced by [15, 45].\n",
      "  warnings.warn(\n",
      "C:\\Users\\Arwielao\\AppData\\Roaming\\Python\\Python310\\site-packages\\optuna\\distributions.py:683: UserWarning: The distribution is specified by [3, 8] and step=2, but the range is not divisible by `step`. It will be replaced by [3, 7].\n",
      "  warnings.warn(\n",
      "\u001b[32m[I 2022-10-05 18:23:47,798]\u001b[0m Trial 5 finished with value: 0.8137748763342753 and parameters: {'n_estimators': 250, 'max_depth': 30, 'min_samples_leaf': 3}. Best is trial 5 with value: 0.8137748763342753.\u001b[0m\n",
      "C:\\Users\\Arwielao\\AppData\\Roaming\\Python\\Python310\\site-packages\\optuna\\distributions.py:683: UserWarning: The distribution is specified by [100, 310] and step=50, but the range is not divisible by `step`. It will be replaced by [100, 300].\n",
      "  warnings.warn(\n",
      "C:\\Users\\Arwielao\\AppData\\Roaming\\Python\\Python310\\site-packages\\optuna\\distributions.py:683: UserWarning: The distribution is specified by [15, 46] and step=15, but the range is not divisible by `step`. It will be replaced by [15, 45].\n",
      "  warnings.warn(\n",
      "C:\\Users\\Arwielao\\AppData\\Roaming\\Python\\Python310\\site-packages\\optuna\\distributions.py:683: UserWarning: The distribution is specified by [3, 8] and step=2, but the range is not divisible by `step`. It will be replaced by [3, 7].\n",
      "  warnings.warn(\n",
      "\u001b[32m[I 2022-10-05 18:23:53,421]\u001b[0m Trial 6 finished with value: 0.8039746491425547 and parameters: {'n_estimators': 250, 'max_depth': 30, 'min_samples_leaf': 7}. Best is trial 5 with value: 0.8137748763342753.\u001b[0m\n",
      "C:\\Users\\Arwielao\\AppData\\Roaming\\Python\\Python310\\site-packages\\optuna\\distributions.py:683: UserWarning: The distribution is specified by [100, 310] and step=50, but the range is not divisible by `step`. It will be replaced by [100, 300].\n",
      "  warnings.warn(\n",
      "C:\\Users\\Arwielao\\AppData\\Roaming\\Python\\Python310\\site-packages\\optuna\\distributions.py:683: UserWarning: The distribution is specified by [15, 46] and step=15, but the range is not divisible by `step`. It will be replaced by [15, 45].\n",
      "  warnings.warn(\n",
      "C:\\Users\\Arwielao\\AppData\\Roaming\\Python\\Python310\\site-packages\\optuna\\distributions.py:683: UserWarning: The distribution is specified by [3, 8] and step=2, but the range is not divisible by `step`. It will be replaced by [3, 7].\n",
      "  warnings.warn(\n",
      "\u001b[32m[I 2022-10-05 18:23:59,819]\u001b[0m Trial 7 finished with value: 0.8137748763342753 and parameters: {'n_estimators': 250, 'max_depth': 30, 'min_samples_leaf': 3}. Best is trial 5 with value: 0.8137748763342753.\u001b[0m\n",
      "C:\\Users\\Arwielao\\AppData\\Roaming\\Python\\Python310\\site-packages\\optuna\\distributions.py:683: UserWarning: The distribution is specified by [100, 310] and step=50, but the range is not divisible by `step`. It will be replaced by [100, 300].\n",
      "  warnings.warn(\n",
      "C:\\Users\\Arwielao\\AppData\\Roaming\\Python\\Python310\\site-packages\\optuna\\distributions.py:683: UserWarning: The distribution is specified by [15, 46] and step=15, but the range is not divisible by `step`. It will be replaced by [15, 45].\n",
      "  warnings.warn(\n",
      "C:\\Users\\Arwielao\\AppData\\Roaming\\Python\\Python310\\site-packages\\optuna\\distributions.py:683: UserWarning: The distribution is specified by [3, 8] and step=2, but the range is not divisible by `step`. It will be replaced by [3, 7].\n",
      "  warnings.warn(\n",
      "\u001b[32m[I 2022-10-05 18:24:06,894]\u001b[0m Trial 8 finished with value: 0.8115211581394572 and parameters: {'n_estimators': 300, 'max_depth': 45, 'min_samples_leaf': 5}. Best is trial 5 with value: 0.8137748763342753.\u001b[0m\n",
      "C:\\Users\\Arwielao\\AppData\\Roaming\\Python\\Python310\\site-packages\\optuna\\distributions.py:683: UserWarning: The distribution is specified by [100, 310] and step=50, but the range is not divisible by `step`. It will be replaced by [100, 300].\n",
      "  warnings.warn(\n",
      "C:\\Users\\Arwielao\\AppData\\Roaming\\Python\\Python310\\site-packages\\optuna\\distributions.py:683: UserWarning: The distribution is specified by [15, 46] and step=15, but the range is not divisible by `step`. It will be replaced by [15, 45].\n",
      "  warnings.warn(\n",
      "C:\\Users\\Arwielao\\AppData\\Roaming\\Python\\Python310\\site-packages\\optuna\\distributions.py:683: UserWarning: The distribution is specified by [3, 8] and step=2, but the range is not divisible by `step`. It will be replaced by [3, 7].\n",
      "  warnings.warn(\n",
      "\u001b[32m[I 2022-10-05 18:24:13,517]\u001b[0m Trial 9 finished with value: 0.8135416552925546 and parameters: {'n_estimators': 250, 'max_depth': 45, 'min_samples_leaf': 3}. Best is trial 5 with value: 0.8137748763342753.\u001b[0m\n",
      "C:\\Users\\Arwielao\\AppData\\Roaming\\Python\\Python310\\site-packages\\optuna\\distributions.py:683: UserWarning: The distribution is specified by [100, 310] and step=50, but the range is not divisible by `step`. It will be replaced by [100, 300].\n",
      "  warnings.warn(\n",
      "C:\\Users\\Arwielao\\AppData\\Roaming\\Python\\Python310\\site-packages\\optuna\\distributions.py:683: UserWarning: The distribution is specified by [15, 46] and step=15, but the range is not divisible by `step`. It will be replaced by [15, 45].\n",
      "  warnings.warn(\n",
      "C:\\Users\\Arwielao\\AppData\\Roaming\\Python\\Python310\\site-packages\\optuna\\distributions.py:683: UserWarning: The distribution is specified by [3, 8] and step=2, but the range is not divisible by `step`. It will be replaced by [3, 7].\n",
      "  warnings.warn(\n",
      "\u001b[32m[I 2022-10-05 18:24:17,193]\u001b[0m Trial 10 finished with value: 0.8108461995545225 and parameters: {'n_estimators': 150, 'max_depth': 15, 'min_samples_leaf': 5}. Best is trial 5 with value: 0.8137748763342753.\u001b[0m\n",
      "C:\\Users\\Arwielao\\AppData\\Roaming\\Python\\Python310\\site-packages\\optuna\\distributions.py:683: UserWarning: The distribution is specified by [100, 310] and step=50, but the range is not divisible by `step`. It will be replaced by [100, 300].\n",
      "  warnings.warn(\n",
      "C:\\Users\\Arwielao\\AppData\\Roaming\\Python\\Python310\\site-packages\\optuna\\distributions.py:683: UserWarning: The distribution is specified by [15, 46] and step=15, but the range is not divisible by `step`. It will be replaced by [15, 45].\n",
      "  warnings.warn(\n",
      "C:\\Users\\Arwielao\\AppData\\Roaming\\Python\\Python310\\site-packages\\optuna\\distributions.py:683: UserWarning: The distribution is specified by [3, 8] and step=2, but the range is not divisible by `step`. It will be replaced by [3, 7].\n",
      "  warnings.warn(\n",
      "\u001b[32m[I 2022-10-05 18:24:22,346]\u001b[0m Trial 11 finished with value: 0.8143074842362192 and parameters: {'n_estimators': 200, 'max_depth': 15, 'min_samples_leaf': 3}. Best is trial 11 with value: 0.8143074842362192.\u001b[0m\n",
      "C:\\Users\\Arwielao\\AppData\\Roaming\\Python\\Python310\\site-packages\\optuna\\distributions.py:683: UserWarning: The distribution is specified by [100, 310] and step=50, but the range is not divisible by `step`. It will be replaced by [100, 300].\n",
      "  warnings.warn(\n",
      "C:\\Users\\Arwielao\\AppData\\Roaming\\Python\\Python310\\site-packages\\optuna\\distributions.py:683: UserWarning: The distribution is specified by [15, 46] and step=15, but the range is not divisible by `step`. It will be replaced by [15, 45].\n",
      "  warnings.warn(\n",
      "C:\\Users\\Arwielao\\AppData\\Roaming\\Python\\Python310\\site-packages\\optuna\\distributions.py:683: UserWarning: The distribution is specified by [3, 8] and step=2, but the range is not divisible by `step`. It will be replaced by [3, 7].\n",
      "  warnings.warn(\n",
      "\u001b[32m[I 2022-10-05 18:24:27,344]\u001b[0m Trial 12 finished with value: 0.8143074842362192 and parameters: {'n_estimators': 200, 'max_depth': 15, 'min_samples_leaf': 3}. Best is trial 11 with value: 0.8143074842362192.\u001b[0m\n",
      "C:\\Users\\Arwielao\\AppData\\Roaming\\Python\\Python310\\site-packages\\optuna\\distributions.py:683: UserWarning: The distribution is specified by [100, 310] and step=50, but the range is not divisible by `step`. It will be replaced by [100, 300].\n",
      "  warnings.warn(\n",
      "C:\\Users\\Arwielao\\AppData\\Roaming\\Python\\Python310\\site-packages\\optuna\\distributions.py:683: UserWarning: The distribution is specified by [15, 46] and step=15, but the range is not divisible by `step`. It will be replaced by [15, 45].\n",
      "  warnings.warn(\n",
      "C:\\Users\\Arwielao\\AppData\\Roaming\\Python\\Python310\\site-packages\\optuna\\distributions.py:683: UserWarning: The distribution is specified by [3, 8] and step=2, but the range is not divisible by `step`. It will be replaced by [3, 7].\n",
      "  warnings.warn(\n",
      "\u001b[32m[I 2022-10-05 18:24:32,127]\u001b[0m Trial 13 finished with value: 0.8125276814454014 and parameters: {'n_estimators': 200, 'max_depth': 15, 'min_samples_leaf': 5}. Best is trial 11 with value: 0.8143074842362192.\u001b[0m\n",
      "C:\\Users\\Arwielao\\AppData\\Roaming\\Python\\Python310\\site-packages\\optuna\\distributions.py:683: UserWarning: The distribution is specified by [100, 310] and step=50, but the range is not divisible by `step`. It will be replaced by [100, 300].\n",
      "  warnings.warn(\n",
      "C:\\Users\\Arwielao\\AppData\\Roaming\\Python\\Python310\\site-packages\\optuna\\distributions.py:683: UserWarning: The distribution is specified by [15, 46] and step=15, but the range is not divisible by `step`. It will be replaced by [15, 45].\n",
      "  warnings.warn(\n",
      "C:\\Users\\Arwielao\\AppData\\Roaming\\Python\\Python310\\site-packages\\optuna\\distributions.py:683: UserWarning: The distribution is specified by [3, 8] and step=2, but the range is not divisible by `step`. It will be replaced by [3, 7].\n",
      "  warnings.warn(\n",
      "\u001b[32m[I 2022-10-05 18:24:35,969]\u001b[0m Trial 14 finished with value: 0.8154509271841853 and parameters: {'n_estimators': 150, 'max_depth': 15, 'min_samples_leaf': 3}. Best is trial 14 with value: 0.8154509271841853.\u001b[0m\n",
      "C:\\Users\\Arwielao\\AppData\\Roaming\\Python\\Python310\\site-packages\\optuna\\distributions.py:683: UserWarning: The distribution is specified by [100, 310] and step=50, but the range is not divisible by `step`. It will be replaced by [100, 300].\n",
      "  warnings.warn(\n",
      "C:\\Users\\Arwielao\\AppData\\Roaming\\Python\\Python310\\site-packages\\optuna\\distributions.py:683: UserWarning: The distribution is specified by [15, 46] and step=15, but the range is not divisible by `step`. It will be replaced by [15, 45].\n",
      "  warnings.warn(\n",
      "C:\\Users\\Arwielao\\AppData\\Roaming\\Python\\Python310\\site-packages\\optuna\\distributions.py:683: UserWarning: The distribution is specified by [3, 8] and step=2, but the range is not divisible by `step`. It will be replaced by [3, 7].\n",
      "  warnings.warn(\n",
      "\u001b[32m[I 2022-10-05 18:24:40,282]\u001b[0m Trial 15 finished with value: 0.8154509271841853 and parameters: {'n_estimators': 150, 'max_depth': 15, 'min_samples_leaf': 3}. Best is trial 14 with value: 0.8154509271841853.\u001b[0m\n",
      "C:\\Users\\Arwielao\\AppData\\Roaming\\Python\\Python310\\site-packages\\optuna\\distributions.py:683: UserWarning: The distribution is specified by [100, 310] and step=50, but the range is not divisible by `step`. It will be replaced by [100, 300].\n",
      "  warnings.warn(\n",
      "C:\\Users\\Arwielao\\AppData\\Roaming\\Python\\Python310\\site-packages\\optuna\\distributions.py:683: UserWarning: The distribution is specified by [15, 46] and step=15, but the range is not divisible by `step`. It will be replaced by [15, 45].\n",
      "  warnings.warn(\n",
      "C:\\Users\\Arwielao\\AppData\\Roaming\\Python\\Python310\\site-packages\\optuna\\distributions.py:683: UserWarning: The distribution is specified by [3, 8] and step=2, but the range is not divisible by `step`. It will be replaced by [3, 7].\n",
      "  warnings.warn(\n",
      "\u001b[32m[I 2022-10-05 18:24:43,183]\u001b[0m Trial 16 finished with value: 0.8097188390512079 and parameters: {'n_estimators': 100, 'max_depth': 15, 'min_samples_leaf': 5}. Best is trial 14 with value: 0.8154509271841853.\u001b[0m\n",
      "C:\\Users\\Arwielao\\AppData\\Roaming\\Python\\Python310\\site-packages\\optuna\\distributions.py:683: UserWarning: The distribution is specified by [100, 310] and step=50, but the range is not divisible by `step`. It will be replaced by [100, 300].\n",
      "  warnings.warn(\n",
      "C:\\Users\\Arwielao\\AppData\\Roaming\\Python\\Python310\\site-packages\\optuna\\distributions.py:683: UserWarning: The distribution is specified by [15, 46] and step=15, but the range is not divisible by `step`. It will be replaced by [15, 45].\n",
      "  warnings.warn(\n",
      "C:\\Users\\Arwielao\\AppData\\Roaming\\Python\\Python310\\site-packages\\optuna\\distributions.py:683: UserWarning: The distribution is specified by [3, 8] and step=2, but the range is not divisible by `step`. It will be replaced by [3, 7].\n",
      "  warnings.warn(\n",
      "\u001b[32m[I 2022-10-05 18:24:47,642]\u001b[0m Trial 17 finished with value: 0.8154509271841853 and parameters: {'n_estimators': 150, 'max_depth': 15, 'min_samples_leaf': 3}. Best is trial 14 with value: 0.8154509271841853.\u001b[0m\n",
      "C:\\Users\\Arwielao\\AppData\\Roaming\\Python\\Python310\\site-packages\\optuna\\distributions.py:683: UserWarning: The distribution is specified by [100, 310] and step=50, but the range is not divisible by `step`. It will be replaced by [100, 300].\n",
      "  warnings.warn(\n",
      "C:\\Users\\Arwielao\\AppData\\Roaming\\Python\\Python310\\site-packages\\optuna\\distributions.py:683: UserWarning: The distribution is specified by [15, 46] and step=15, but the range is not divisible by `step`. It will be replaced by [15, 45].\n",
      "  warnings.warn(\n",
      "C:\\Users\\Arwielao\\AppData\\Roaming\\Python\\Python310\\site-packages\\optuna\\distributions.py:683: UserWarning: The distribution is specified by [3, 8] and step=2, but the range is not divisible by `step`. It will be replaced by [3, 7].\n",
      "  warnings.warn(\n",
      "\u001b[32m[I 2022-10-05 18:24:51,165]\u001b[0m Trial 18 finished with value: 0.8108461995545225 and parameters: {'n_estimators': 150, 'max_depth': 15, 'min_samples_leaf': 5}. Best is trial 14 with value: 0.8154509271841853.\u001b[0m\n",
      "C:\\Users\\Arwielao\\AppData\\Roaming\\Python\\Python310\\site-packages\\optuna\\distributions.py:683: UserWarning: The distribution is specified by [100, 310] and step=50, but the range is not divisible by `step`. It will be replaced by [100, 300].\n",
      "  warnings.warn(\n",
      "C:\\Users\\Arwielao\\AppData\\Roaming\\Python\\Python310\\site-packages\\optuna\\distributions.py:683: UserWarning: The distribution is specified by [15, 46] and step=15, but the range is not divisible by `step`. It will be replaced by [15, 45].\n",
      "  warnings.warn(\n",
      "C:\\Users\\Arwielao\\AppData\\Roaming\\Python\\Python310\\site-packages\\optuna\\distributions.py:683: UserWarning: The distribution is specified by [3, 8] and step=2, but the range is not divisible by `step`. It will be replaced by [3, 7].\n",
      "  warnings.warn(\n",
      "\u001b[32m[I 2022-10-05 18:24:53,796]\u001b[0m Trial 19 finished with value: 0.8128111470747065 and parameters: {'n_estimators': 100, 'max_depth': 15, 'min_samples_leaf': 3}. Best is trial 14 with value: 0.8154509271841853.\u001b[0m\n"
     ]
    }
   ],
   "source": [
    "%time\n",
    "# cоздаем объект исследования\n",
    "# можем напрямую указать, что нам необходимо максимизировать метрику direction=\"maximize\"\n",
    "study = optuna.create_study(study_name=\"RandomForestClassifier\", direction=\"maximize\")\n",
    "# ищем лучшую комбинацию гиперпараметров n_trials раз\n",
    "study.optimize(optuna_rf, n_trials=20)"
   ]
  },
  {
   "cell_type": "code",
   "execution_count": 54,
   "metadata": {},
   "outputs": [
    {
     "name": "stdout",
     "output_type": "stream",
     "text": [
      "Наилучшие значения гиперпараметров {'n_estimators': 150, 'max_depth': 15, 'min_samples_leaf': 3}\n",
      "f1_score на обучающем наборе: 0.82\n"
     ]
    }
   ],
   "source": [
    "# выводим результаты на обучающей выборке\n",
    "print(\"Наилучшие значения гиперпараметров {}\".format(study.best_params))\n",
    "print(\"f1_score на обучающем наборе: {:.2f}\".format(study.best_value))"
   ]
  },
  {
   "cell_type": "code",
   "execution_count": 57,
   "metadata": {},
   "outputs": [
    {
     "name": "stdout",
     "output_type": "stream",
     "text": [
      "f1_score на обучающем наборе: 0.9637967751749316\n",
      "f1_score на обучающем наборе при кроссвалидации: 0.8154509271841853\n",
      "f1_score на тестовом наборе: 0.8009708737864076\n"
     ]
    }
   ],
   "source": [
    "# Создаем модель с наилучшими параметрами, определенными методом Optuna \n",
    "model = ensemble.RandomForestClassifier(\n",
    "    random_state=random_state, \n",
    "    n_estimators=study.best_params['n_estimators'],\n",
    "    max_depth=study.best_params['max_depth'],\n",
    "    min_samples_leaf=study.best_params['min_samples_leaf']\n",
    "    )\n",
    "model.fit(X_train, y_train)\n",
    "y_train_pred = model.predict(X_train)\n",
    "print(f'f1_score на обучающем наборе: {metrics.f1_score(y_train, y_train_pred)}')\n",
    "print(f'f1_score на обучающем наборе при кроссвалидации: {cross_val_score(model, X_train, y_train, cv=5, scoring=\"f1\", n_jobs=-1).mean()}')\n",
    "y_test_pred = model.predict(X_test)\n",
    "print(f'f1_score на тестовом наборе: {metrics.f1_score(y_test, y_test_pred)}')"
   ]
  },
  {
   "cell_type": "markdown",
   "metadata": {},
   "source": [
    "### <center> ВЫВОДЫ\n",
    "1. Для поиска оптимальных значений параметров модели применялись четыре метода оптимизации: GRIDSEARCHCV, RANDOMIZEDSEARCHCV, HYPEROPT (алгоритм Tree-Structured Parzen Estimators) и Optuna.\n",
    "2. Для сокращения времени оптимизации были уменьшены диапазоны и количество значений категориальных парамтеров (например, метод поиска максимума функции правдоподобия в логистической регрессии)\n",
    "3. На всех типах оптимизации для RandomForest наблюдается более высокие score (f1-мера), чем для логистической регрессии\n",
    "4. Классический метод GridSearchCV показал наибольшее время работы даже при относительно небольших диапазонах параметров модели"
   ]
  }
 ],
 "metadata": {
  "kernelspec": {
   "display_name": "Python 3.10.4 64-bit",
   "language": "python",
   "name": "python3"
  },
  "language_info": {
   "codemirror_mode": {
    "name": "ipython",
    "version": 3
   },
   "file_extension": ".py",
   "mimetype": "text/x-python",
   "name": "python",
   "nbconvert_exporter": "python",
   "pygments_lexer": "ipython3",
   "version": "3.10.4"
  },
  "orig_nbformat": 4,
  "vscode": {
   "interpreter": {
    "hash": "26de051ba29f2982a8de78e945f0abaf191376122a1563185a90213a26c5da77"
   }
  }
 },
 "nbformat": 4,
 "nbformat_minor": 2
}
