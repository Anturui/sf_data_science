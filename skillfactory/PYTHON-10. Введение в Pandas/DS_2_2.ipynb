{
 "cells": [
  {
   "cell_type": "code",
   "execution_count": 10,
   "metadata": {},
   "outputs": [
    {
     "data": {
      "text/plain": [
       "'b'"
      ]
     },
     "metadata": {},
     "output_type": "display_data"
    }
   ],
   "source": [
    "func = lambda *args: args[0]\n",
    "display(func(('a b c'.split(' ')[1])))"
   ]
  },
  {
   "cell_type": "code",
   "execution_count": null,
   "metadata": {},
   "outputs": [],
   "source": [
    "def city_moved_trips(string):\n",
    "    top_city = ['Москва', 'Санкт-Петербург']\n",
    "    million_cities = ['Новосибирск', 'Екатеринбург', 'Нижний Новгород', 'Казань', 'Челябинск', \n",
    "                      'Омск', 'Самара', 'Ростов-на-Дону', 'Уфа', \n",
    "                      'Красноярск', 'Пермь', 'Воронеж', 'Волгоград' ]\n",
    "    \n",
    "    string_list = string.split(',')\n",
    "    city_name = string.split(',')[0][0:(len(string.split(',')[0])-1)]\n",
    "    print(city_name,'город')\n",
    "    print(city_name in top_city)\n",
    "    if city_name in top_city:\n",
    "        accommodation_city = city_name\n",
    "    elif city_name in million_cities:\n",
    "        accommodation_city = 'город-миллионник'\n",
    "    else:\n",
    "        accommodation_city = 'другие'\n",
    "    \n",
    "    wish_moving_list = ['переезду','переехать']\n",
    "    wish_business_trip = ['командировкам']\n",
    "    for phrase in string_list:\n",
    "        phrase_words = phrase.split(' ')\n",
    "        \n",
    "        for subindex in range(len(phrase_words)): \n",
    "            if (phrase_words[1] == 'не') & (phrase_words[subindex] in wish_moving_list):\n",
    "                print('its True')\n",
    "                wish_moving = False\n",
    "            elif (phrase_words[1] != 'не') & (phrase_words[subindex] in wish_moving_list):\n",
    "                wish_moving = True\n",
    "            if (phrase_words[1] == 'не') & (phrase_words[subindex] in wish_business_trip):\n",
    "                wish_bt = False\n",
    "            elif (phrase_words[1] != 'не') & (phrase_words[subindex] in wish_business_trip):\n",
    "                wish_bt = True\n",
    "        \n",
    "    return accommodation_city, wish_moving, wish_bt"
   ]
  },
  {
   "cell_type": "code",
   "execution_count": null,
   "metadata": {},
   "outputs": [],
   "source": [
    "def city(string):\n",
    "    top_city = ['Москва', 'Санкт-Петербург']\n",
    "    million_cities = ['Новосибирск', 'Екатеринбург', 'Нижний Новгород', 'Казань', 'Челябинск', \n",
    "                      'Омск', 'Самара', 'Ростов-на-Дону', 'Уфа', \n",
    "                      'Красноярск', 'Пермь', 'Воронеж', 'Волгоград' ]\n",
    "    \n",
    "    city_name = string.split(',')[0][0:(len(string.split(',')[0])-1)]\n",
    "    \n",
    "    if city_name in top_city:\n",
    "        accommodation_city = city_name\n",
    "    elif city_name in million_cities:\n",
    "        accommodation_city = 'город-миллионник'\n",
    "    else:\n",
    "        accommodation_city = 'другие'\n",
    "    \n",
    "    return accommodation_city\n",
    "\n",
    "def move(string):\n",
    "    \n",
    "    string_list = string.split(',')\n",
    "    wish_moving_list = ['переезду','переехать']\n",
    "\n",
    "    for phrase in string_list:\n",
    "        phrase_words = phrase.split(' ')\n",
    "        if len(phrase_words) > 1:\n",
    "            for subindex in range(len(phrase_words)):\n",
    "                 \n",
    "                if (phrase_words[1] == 'не') & (phrase_words[subindex] in wish_moving_list):\n",
    "                    wish_moving = False\n",
    "                elif (phrase_words[1] != 'не') & (phrase_words[subindex] in wish_moving_list):\n",
    "                    wish_moving = True\n",
    "    \n",
    "    return wish_moving\n",
    "\n",
    "def business_trips(string):\n",
    "    string_list = string.split(',')\n",
    "    \n",
    "    wish_business_trip = ['командировкам']\n",
    "    wish_bt = False\n",
    "    \n",
    "    for phrase in string_list:\n",
    "        phrase_words = phrase.split(' ')\n",
    "        if len(phrase_words) > 1:\n",
    "            for subindex in range(len(phrase_words)):\n",
    "                #if (phrase_words[1] == 'не') & (phrase_words[subindex] in wish_business_trip):\n",
    "                #    wish_bt = False\n",
    "                if (phrase_words[1] != 'не') & (phrase_words[subindex] in wish_business_trip):\n",
    "                    wish_bt = True \n",
    "            \n",
    "    return wish_bt\n",
    "\n",
    "test_phrase = hh_data.loc[10,'Город, переезд, командировки']\n",
    "display(test_phrase)\n",
    "display(city(test_phrase))\n",
    "display(move(test_phrase))\n",
    "display(business_trips(test_phrase))\n",
    "hh_data['Город'] = hh_data['Город, переезд, командировки'].apply(city)\n",
    "hh_data['Готовность к переезду'] = hh_data['Город, переезд, командировки'].apply(move)\n",
    "hh_data['Готовность к командировкам'] = hh_data['Город, переезд, командировки'].apply(business_trips)\n",
    "\n",
    "hh_data.head()"
   ]
  },
  {
   "cell_type": "code",
   "execution_count": 2,
   "metadata": {},
   "outputs": [
    {
     "data": {
      "text/plain": [
       "['Вот', 'вышел', 'из', 'дома']"
      ]
     },
     "execution_count": 2,
     "metadata": {},
     "output_type": "execute_result"
    }
   ],
   "source": [
    "'Вот вышел из дома, идет'.split(',')[0].split(' ')"
   ]
  },
  {
   "cell_type": "code",
   "execution_count": 4,
   "metadata": {},
   "outputs": [],
   "source": [
    "import pandas as pd\n",
    "import numpy as np\n",
    "import matplotlib.pyplot as plt\n",
    "import seaborn as sns\n",
    "import plotly.express as px"
   ]
  },
  {
   "cell_type": "code",
   "execution_count": 30,
   "metadata": {},
   "outputs": [
    {
     "name": "stdout",
     "output_type": "stream",
     "text": [
      "   col1  col2\n",
      "0     1     3\n",
      "1     2     4\n",
      "2     3     5\n",
      "(1, 1, 1)\n"
     ]
    },
    {
     "data": {
      "text/html": [
       "<div>\n",
       "<style scoped>\n",
       "    .dataframe tbody tr th:only-of-type {\n",
       "        vertical-align: middle;\n",
       "    }\n",
       "\n",
       "    .dataframe tbody tr th {\n",
       "        vertical-align: top;\n",
       "    }\n",
       "\n",
       "    .dataframe thead th {\n",
       "        text-align: right;\n",
       "    }\n",
       "</style>\n",
       "<table border=\"1\" class=\"dataframe\">\n",
       "  <thead>\n",
       "    <tr style=\"text-align: right;\">\n",
       "      <th></th>\n",
       "      <th>col1</th>\n",
       "      <th>col2</th>\n",
       "      <th>col3</th>\n",
       "      <th>col4</th>\n",
       "      <th>col5</th>\n",
       "    </tr>\n",
       "  </thead>\n",
       "  <tbody>\n",
       "    <tr>\n",
       "      <th>0</th>\n",
       "      <td>1</td>\n",
       "      <td>3</td>\n",
       "      <td>1</td>\n",
       "      <td>1</td>\n",
       "      <td>1</td>\n",
       "    </tr>\n",
       "    <tr>\n",
       "      <th>1</th>\n",
       "      <td>2</td>\n",
       "      <td>4</td>\n",
       "      <td>1</td>\n",
       "      <td>1</td>\n",
       "      <td>1</td>\n",
       "    </tr>\n",
       "    <tr>\n",
       "      <th>2</th>\n",
       "      <td>3</td>\n",
       "      <td>5</td>\n",
       "      <td>1</td>\n",
       "      <td>1</td>\n",
       "      <td>1</td>\n",
       "    </tr>\n",
       "  </tbody>\n",
       "</table>\n",
       "</div>"
      ],
      "text/plain": [
       "   col1  col2  col3  col4  col5\n",
       "0     1     3     1     1     1\n",
       "1     2     4     1     1     1\n",
       "2     3     5     1     1     1"
      ]
     },
     "execution_count": 30,
     "metadata": {},
     "output_type": "execute_result"
    }
   ],
   "source": [
    "d = {'col1': [1, 2, 3], 'col2': [3, 4, 5]}\n",
    "df = pd.DataFrame(data=d)\n",
    "print(df)\n",
    "f = lambda x: True if x == 1 else False\n",
    "def func_test(x):\n",
    "    return 1,1,1\n",
    "print(func_test(1))\n",
    "\n",
    "df['col3'], df['col4'], df['col5']= df['col1'].apply(func_test)\n",
    "df"
   ]
  },
  {
   "cell_type": "code",
   "execution_count": null,
   "metadata": {},
   "outputs": [],
   "source": [
    "# display(hh_data['График'].value_counts())\n",
    "\n",
    "def schedule(string):\n",
    "    \n",
    "    # гибкий график, полный день, сменный график, вахтовый метод, удаленная работа \n",
    "    # flexible schedule, full-time, shift schedule, shift method, remote work\n",
    "    flexible_schedule, full_time, shift_schedule, shift_method, remote_work = False, False, False, False, False\n",
    "    # schedule_list = ['гибкий график', 'полный день', 'сменный график', 'вахтовый метод', 'удаленная работа' ]\n",
    "    for schedule_type in string.split(','):\n",
    "        if schedule_type == 'гибкий график':\n",
    "            flexible_schedule = True\n",
    "        if schedule_type == 'полный день':\n",
    "            full_time = True\n",
    "        if schedule_type == 'сменный график':\n",
    "            shift_schedule = True\n",
    "        if schedule_type == 'вахтовый метод':\n",
    "            shift_method = True\n",
    "        if schedule_type == 'удаленная работа':\n",
    "            remote_work = True\n",
    "    return 1, 1 # flexible_schedule, full_time,# shift_schedule, #shift_method, remote_work\n",
    "\n"
   ]
  }
 ],
 "metadata": {
  "kernelspec": {
   "display_name": "Python 3.10.4 64-bit",
   "language": "python",
   "name": "python3"
  },
  "language_info": {
   "codemirror_mode": {
    "name": "ipython",
    "version": 3
   },
   "file_extension": ".py",
   "mimetype": "text/x-python",
   "name": "python",
   "nbconvert_exporter": "python",
   "pygments_lexer": "ipython3",
   "version": "3.10.4"
  },
  "orig_nbformat": 4,
  "vscode": {
   "interpreter": {
    "hash": "26de051ba29f2982a8de78e945f0abaf191376122a1563185a90213a26c5da77"
   }
  }
 },
 "nbformat": 4,
 "nbformat_minor": 2
}
